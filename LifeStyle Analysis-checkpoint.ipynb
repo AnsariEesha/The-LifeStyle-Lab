{
 "cells": [
  {
   "cell_type": "code",
   "execution_count": 1,
   "metadata": {
    "_cell_guid": "b1076dfc-b9ad-4769-8c92-a6c4dae69d19",
    "_uuid": "8f2839f25d086af736a60e9eeb907d3b93b6e0e5",
    "execution": {
     "iopub.execute_input": "2022-10-15T14:51:56.499558Z",
     "iopub.status.busy": "2022-10-15T14:51:56.499113Z",
     "iopub.status.idle": "2022-10-15T14:51:56.508872Z",
     "shell.execute_reply": "2022-10-15T14:51:56.507656Z",
     "shell.execute_reply.started": "2022-10-15T14:51:56.499523Z"
    }
   },
   "outputs": [],
   "source": [
    "# This Python 3 environment comes with many helpful analytics libraries installed\n",
    "# It is defined by the kaggle/python Docker image: https://github.com/kaggle/docker-python\n",
    "# For example, here's several helpful packages to load\n",
    "\n",
    "import numpy as np # linear algebra\n",
    "import pandas as pd # data processing, CSV file I/O (e.g. pd.read_csv)\n",
    "\n",
    "# Input data files are available in the read-only \"../input/\" directory\n",
    "# For example, running this (by clicking run or pressing Shift+Enter) will list all files under the input directory\n",
    "\n",
    "import os\n",
    "for dirname, _, filenames in os.walk('/kaggle/input'):\n",
    "    for filename in filenames:\n",
    "        print(os.path.join(dirname, filename))\n",
    "\n",
    "# You can write up to 20GB to the current directory (/kaggle/working/) that gets preserved as output when you create a version using \"Save & Run All\" \n",
    "# You can also write temporary files to /kaggle/temp/, but they won't be saved outside of the current session"
   ]
  },
  {
   "cell_type": "markdown",
   "metadata": {},
   "source": [
    "#  **Imports**"
   ]
  },
  {
   "cell_type": "code",
   "execution_count": 2,
   "metadata": {
    "execution": {
     "iopub.execute_input": "2022-10-15T14:51:56.511569Z",
     "iopub.status.busy": "2022-10-15T14:51:56.511120Z",
     "iopub.status.idle": "2022-10-15T14:51:56.520139Z",
     "shell.execute_reply": "2022-10-15T14:51:56.518871Z",
     "shell.execute_reply.started": "2022-10-15T14:51:56.511513Z"
    }
   },
   "outputs": [],
   "source": [
    "import pandas as pd\n",
    "import matplotlib.pyplot as plt\n",
    "import seaborn as sns\n",
    "import pickle\n",
    "from sklearn.model_selection import train_test_split\n",
    "from sklearn.linear_model import LogisticRegression\n",
    "from sklearn.metrics import accuracy_score\n",
    "from sklearn.tree import DecisionTreeClassifier\n",
    "from sklearn.ensemble import RandomForestClassifier"
   ]
  },
  {
   "cell_type": "code",
   "execution_count": 3,
   "metadata": {
    "execution": {
     "iopub.execute_input": "2022-10-15T14:51:56.522544Z",
     "iopub.status.busy": "2022-10-15T14:51:56.522024Z",
     "iopub.status.idle": "2022-10-15T14:51:56.530589Z",
     "shell.execute_reply": "2022-10-15T14:51:56.529674Z",
     "shell.execute_reply.started": "2022-10-15T14:51:56.522496Z"
    }
   },
   "outputs": [],
   "source": [
    "pd.set_option('display.max_columns', None)"
   ]
  },
  {
   "cell_type": "code",
   "execution_count": 4,
   "metadata": {
    "execution": {
     "iopub.execute_input": "2022-10-15T14:51:56.533318Z",
     "iopub.status.busy": "2022-10-15T14:51:56.532693Z",
     "iopub.status.idle": "2022-10-15T14:51:56.589154Z",
     "shell.execute_reply": "2022-10-15T14:51:56.587722Z",
     "shell.execute_reply.started": "2022-10-15T14:51:56.533282Z"
    }
   },
   "outputs": [],
   "source": [
    "dataset = pd.read_csv('Wellbeing_and_lifestyle_data_Kaggle.csv')"
   ]
  },
  {
   "cell_type": "code",
   "execution_count": 5,
   "metadata": {
    "execution": {
     "iopub.execute_input": "2022-10-15T14:51:56.591046Z",
     "iopub.status.busy": "2022-10-15T14:51:56.590703Z",
     "iopub.status.idle": "2022-10-15T14:51:56.622890Z",
     "shell.execute_reply": "2022-10-15T14:51:56.621775Z",
     "shell.execute_reply.started": "2022-10-15T14:51:56.591015Z"
    }
   },
   "outputs": [
    {
     "data": {
      "text/html": [
       "<div>\n",
       "<style scoped>\n",
       "    .dataframe tbody tr th:only-of-type {\n",
       "        vertical-align: middle;\n",
       "    }\n",
       "\n",
       "    .dataframe tbody tr th {\n",
       "        vertical-align: top;\n",
       "    }\n",
       "\n",
       "    .dataframe thead th {\n",
       "        text-align: right;\n",
       "    }\n",
       "</style>\n",
       "<table border=\"1\" class=\"dataframe\">\n",
       "  <thead>\n",
       "    <tr style=\"text-align: right;\">\n",
       "      <th></th>\n",
       "      <th>Timestamp</th>\n",
       "      <th>FRUITS_VEGGIES</th>\n",
       "      <th>DAILY_STRESS</th>\n",
       "      <th>PLACES_VISITED</th>\n",
       "      <th>CORE_CIRCLE</th>\n",
       "      <th>SUPPORTING_OTHERS</th>\n",
       "      <th>SOCIAL_NETWORK</th>\n",
       "      <th>ACHIEVEMENT</th>\n",
       "      <th>DONATION</th>\n",
       "      <th>BMI_RANGE</th>\n",
       "      <th>TODO_COMPLETED</th>\n",
       "      <th>FLOW</th>\n",
       "      <th>DAILY_STEPS</th>\n",
       "      <th>LIVE_VISION</th>\n",
       "      <th>SLEEP_HOURS</th>\n",
       "      <th>LOST_VACATION</th>\n",
       "      <th>DAILY_SHOUTING</th>\n",
       "      <th>SUFFICIENT_INCOME</th>\n",
       "      <th>PERSONAL_AWARDS</th>\n",
       "      <th>TIME_FOR_PASSION</th>\n",
       "      <th>WEEKLY_MEDITATION</th>\n",
       "      <th>AGE</th>\n",
       "      <th>GENDER</th>\n",
       "      <th>WORK_LIFE_BALANCE_SCORE</th>\n",
       "    </tr>\n",
       "  </thead>\n",
       "  <tbody>\n",
       "    <tr>\n",
       "      <th>0</th>\n",
       "      <td>7/7/15</td>\n",
       "      <td>3</td>\n",
       "      <td>2</td>\n",
       "      <td>2</td>\n",
       "      <td>5</td>\n",
       "      <td>0</td>\n",
       "      <td>5</td>\n",
       "      <td>2</td>\n",
       "      <td>0</td>\n",
       "      <td>1</td>\n",
       "      <td>6</td>\n",
       "      <td>4</td>\n",
       "      <td>5</td>\n",
       "      <td>0</td>\n",
       "      <td>7</td>\n",
       "      <td>5</td>\n",
       "      <td>5</td>\n",
       "      <td>1</td>\n",
       "      <td>4</td>\n",
       "      <td>0</td>\n",
       "      <td>5</td>\n",
       "      <td>36 to 50</td>\n",
       "      <td>Female</td>\n",
       "      <td>609.5</td>\n",
       "    </tr>\n",
       "    <tr>\n",
       "      <th>1</th>\n",
       "      <td>7/7/15</td>\n",
       "      <td>2</td>\n",
       "      <td>3</td>\n",
       "      <td>4</td>\n",
       "      <td>3</td>\n",
       "      <td>8</td>\n",
       "      <td>10</td>\n",
       "      <td>5</td>\n",
       "      <td>2</td>\n",
       "      <td>2</td>\n",
       "      <td>5</td>\n",
       "      <td>2</td>\n",
       "      <td>5</td>\n",
       "      <td>5</td>\n",
       "      <td>8</td>\n",
       "      <td>2</td>\n",
       "      <td>2</td>\n",
       "      <td>2</td>\n",
       "      <td>3</td>\n",
       "      <td>2</td>\n",
       "      <td>6</td>\n",
       "      <td>36 to 50</td>\n",
       "      <td>Female</td>\n",
       "      <td>655.6</td>\n",
       "    </tr>\n",
       "    <tr>\n",
       "      <th>2</th>\n",
       "      <td>7/7/15</td>\n",
       "      <td>2</td>\n",
       "      <td>3</td>\n",
       "      <td>3</td>\n",
       "      <td>4</td>\n",
       "      <td>4</td>\n",
       "      <td>10</td>\n",
       "      <td>3</td>\n",
       "      <td>2</td>\n",
       "      <td>2</td>\n",
       "      <td>2</td>\n",
       "      <td>2</td>\n",
       "      <td>4</td>\n",
       "      <td>5</td>\n",
       "      <td>8</td>\n",
       "      <td>10</td>\n",
       "      <td>2</td>\n",
       "      <td>2</td>\n",
       "      <td>4</td>\n",
       "      <td>8</td>\n",
       "      <td>3</td>\n",
       "      <td>36 to 50</td>\n",
       "      <td>Female</td>\n",
       "      <td>631.6</td>\n",
       "    </tr>\n",
       "    <tr>\n",
       "      <th>3</th>\n",
       "      <td>7/7/15</td>\n",
       "      <td>3</td>\n",
       "      <td>3</td>\n",
       "      <td>10</td>\n",
       "      <td>3</td>\n",
       "      <td>10</td>\n",
       "      <td>7</td>\n",
       "      <td>2</td>\n",
       "      <td>5</td>\n",
       "      <td>2</td>\n",
       "      <td>3</td>\n",
       "      <td>5</td>\n",
       "      <td>5</td>\n",
       "      <td>0</td>\n",
       "      <td>5</td>\n",
       "      <td>7</td>\n",
       "      <td>5</td>\n",
       "      <td>1</td>\n",
       "      <td>5</td>\n",
       "      <td>2</td>\n",
       "      <td>0</td>\n",
       "      <td>51 or more</td>\n",
       "      <td>Female</td>\n",
       "      <td>622.7</td>\n",
       "    </tr>\n",
       "    <tr>\n",
       "      <th>4</th>\n",
       "      <td>7/7/15</td>\n",
       "      <td>5</td>\n",
       "      <td>1</td>\n",
       "      <td>3</td>\n",
       "      <td>3</td>\n",
       "      <td>10</td>\n",
       "      <td>4</td>\n",
       "      <td>2</td>\n",
       "      <td>4</td>\n",
       "      <td>2</td>\n",
       "      <td>5</td>\n",
       "      <td>0</td>\n",
       "      <td>5</td>\n",
       "      <td>0</td>\n",
       "      <td>7</td>\n",
       "      <td>0</td>\n",
       "      <td>0</td>\n",
       "      <td>2</td>\n",
       "      <td>8</td>\n",
       "      <td>1</td>\n",
       "      <td>5</td>\n",
       "      <td>51 or more</td>\n",
       "      <td>Female</td>\n",
       "      <td>663.9</td>\n",
       "    </tr>\n",
       "  </tbody>\n",
       "</table>\n",
       "</div>"
      ],
      "text/plain": [
       "  Timestamp  FRUITS_VEGGIES DAILY_STRESS  PLACES_VISITED  CORE_CIRCLE  \\\n",
       "0    7/7/15               3            2               2            5   \n",
       "1    7/7/15               2            3               4            3   \n",
       "2    7/7/15               2            3               3            4   \n",
       "3    7/7/15               3            3              10            3   \n",
       "4    7/7/15               5            1               3            3   \n",
       "\n",
       "   SUPPORTING_OTHERS  SOCIAL_NETWORK  ACHIEVEMENT  DONATION  BMI_RANGE  \\\n",
       "0                  0               5            2         0          1   \n",
       "1                  8              10            5         2          2   \n",
       "2                  4              10            3         2          2   \n",
       "3                 10               7            2         5          2   \n",
       "4                 10               4            2         4          2   \n",
       "\n",
       "   TODO_COMPLETED  FLOW  DAILY_STEPS  LIVE_VISION  SLEEP_HOURS  LOST_VACATION  \\\n",
       "0               6     4            5            0            7              5   \n",
       "1               5     2            5            5            8              2   \n",
       "2               2     2            4            5            8             10   \n",
       "3               3     5            5            0            5              7   \n",
       "4               5     0            5            0            7              0   \n",
       "\n",
       "   DAILY_SHOUTING  SUFFICIENT_INCOME  PERSONAL_AWARDS  TIME_FOR_PASSION  \\\n",
       "0               5                  1                4                 0   \n",
       "1               2                  2                3                 2   \n",
       "2               2                  2                4                 8   \n",
       "3               5                  1                5                 2   \n",
       "4               0                  2                8                 1   \n",
       "\n",
       "   WEEKLY_MEDITATION         AGE  GENDER  WORK_LIFE_BALANCE_SCORE  \n",
       "0                  5    36 to 50  Female                    609.5  \n",
       "1                  6    36 to 50  Female                    655.6  \n",
       "2                  3    36 to 50  Female                    631.6  \n",
       "3                  0  51 or more  Female                    622.7  \n",
       "4                  5  51 or more  Female                    663.9  "
      ]
     },
     "execution_count": 5,
     "metadata": {},
     "output_type": "execute_result"
    }
   ],
   "source": [
    "dataset.head()"
   ]
  },
  {
   "cell_type": "code",
   "execution_count": 6,
   "metadata": {
    "execution": {
     "iopub.execute_input": "2022-10-15T14:51:56.625134Z",
     "iopub.status.busy": "2022-10-15T14:51:56.624797Z",
     "iopub.status.idle": "2022-10-15T14:51:56.658263Z",
     "shell.execute_reply": "2022-10-15T14:51:56.657344Z",
     "shell.execute_reply.started": "2022-10-15T14:51:56.625104Z"
    }
   },
   "outputs": [
    {
     "name": "stdout",
     "output_type": "stream",
     "text": [
      "<class 'pandas.core.frame.DataFrame'>\n",
      "RangeIndex: 15972 entries, 0 to 15971\n",
      "Data columns (total 24 columns):\n",
      " #   Column                   Non-Null Count  Dtype  \n",
      "---  ------                   --------------  -----  \n",
      " 0   Timestamp                15972 non-null  object \n",
      " 1   FRUITS_VEGGIES           15972 non-null  int64  \n",
      " 2   DAILY_STRESS             15972 non-null  object \n",
      " 3   PLACES_VISITED           15972 non-null  int64  \n",
      " 4   CORE_CIRCLE              15972 non-null  int64  \n",
      " 5   SUPPORTING_OTHERS        15972 non-null  int64  \n",
      " 6   SOCIAL_NETWORK           15972 non-null  int64  \n",
      " 7   ACHIEVEMENT              15972 non-null  int64  \n",
      " 8   DONATION                 15972 non-null  int64  \n",
      " 9   BMI_RANGE                15972 non-null  int64  \n",
      " 10  TODO_COMPLETED           15972 non-null  int64  \n",
      " 11  FLOW                     15972 non-null  int64  \n",
      " 12  DAILY_STEPS              15972 non-null  int64  \n",
      " 13  LIVE_VISION              15972 non-null  int64  \n",
      " 14  SLEEP_HOURS              15972 non-null  int64  \n",
      " 15  LOST_VACATION            15972 non-null  int64  \n",
      " 16  DAILY_SHOUTING           15972 non-null  int64  \n",
      " 17  SUFFICIENT_INCOME        15972 non-null  int64  \n",
      " 18  PERSONAL_AWARDS          15972 non-null  int64  \n",
      " 19  TIME_FOR_PASSION         15972 non-null  int64  \n",
      " 20  WEEKLY_MEDITATION        15972 non-null  int64  \n",
      " 21  AGE                      15972 non-null  object \n",
      " 22  GENDER                   15972 non-null  object \n",
      " 23  WORK_LIFE_BALANCE_SCORE  15972 non-null  float64\n",
      "dtypes: float64(1), int64(19), object(4)\n",
      "memory usage: 2.9+ MB\n"
     ]
    }
   ],
   "source": [
    "dataset.info()"
   ]
  },
  {
   "cell_type": "markdown",
   "metadata": {},
   "source": [
    "- how does income impact work life balance?\n",
    "- how does a healthy body/healthy mind/expertise/connection/meaning influence lifestyle?\n",
    "- which age group has a better work life balance?\n",
    "- which gender has a better work life balance?\n",
    "- healthy body: FRUITS_VEGGIES, BMI_RANGE, DAILY_STEPS, SLEEP_HOURS\n",
    "- healthy mind: DAILY_STRESS, SLEEP_HOURS, DAILY_SHOUTING, WEEKLY_MEDITATION, FLOW\n",
    "- expertise: ACHIEVEMENT, TODO_COMPLETED, SUFFICIENT_INCOME, PERSONAL_AWARDS\n",
    "- connection: CORE_CIRCLE, SUPPORTING_OTHERS, SOCIAL_NETWORK\n",
    "- meaning: LIVE_VISION, TIME_FOR_PASSION \n",
    "- to drop : lost_vacation, places_visited"
   ]
  },
  {
   "cell_type": "markdown",
   "metadata": {},
   "source": [
    "# **Data Cleaning**"
   ]
  },
  {
   "cell_type": "code",
   "execution_count": 7,
   "metadata": {
    "execution": {
     "iopub.execute_input": "2022-10-15T14:51:56.659863Z",
     "iopub.status.busy": "2022-10-15T14:51:56.659549Z",
     "iopub.status.idle": "2022-10-15T14:51:56.670162Z",
     "shell.execute_reply": "2022-10-15T14:51:56.668776Z",
     "shell.execute_reply.started": "2022-10-15T14:51:56.659833Z"
    }
   },
   "outputs": [
    {
     "data": {
      "text/plain": [
       "3         4398\n",
       "2         3407\n",
       "4         2960\n",
       "1         2478\n",
       "5         2052\n",
       "0          676\n",
       "1/1/00       1\n",
       "Name: DAILY_STRESS, dtype: int64"
      ]
     },
     "execution_count": 7,
     "metadata": {},
     "output_type": "execute_result"
    }
   ],
   "source": [
    "dataset['DAILY_STRESS'].value_counts()"
   ]
  },
  {
   "cell_type": "code",
   "execution_count": 8,
   "metadata": {
    "execution": {
     "iopub.execute_input": "2022-10-15T14:51:56.672160Z",
     "iopub.status.busy": "2022-10-15T14:51:56.671800Z",
     "iopub.status.idle": "2022-10-15T14:51:56.699360Z",
     "shell.execute_reply": "2022-10-15T14:51:56.698283Z",
     "shell.execute_reply.started": "2022-10-15T14:51:56.672129Z"
    }
   },
   "outputs": [
    {
     "data": {
      "text/html": [
       "<div>\n",
       "<style scoped>\n",
       "    .dataframe tbody tr th:only-of-type {\n",
       "        vertical-align: middle;\n",
       "    }\n",
       "\n",
       "    .dataframe tbody tr th {\n",
       "        vertical-align: top;\n",
       "    }\n",
       "\n",
       "    .dataframe thead th {\n",
       "        text-align: right;\n",
       "    }\n",
       "</style>\n",
       "<table border=\"1\" class=\"dataframe\">\n",
       "  <thead>\n",
       "    <tr style=\"text-align: right;\">\n",
       "      <th></th>\n",
       "      <th>Timestamp</th>\n",
       "      <th>FRUITS_VEGGIES</th>\n",
       "      <th>DAILY_STRESS</th>\n",
       "      <th>PLACES_VISITED</th>\n",
       "      <th>CORE_CIRCLE</th>\n",
       "      <th>SUPPORTING_OTHERS</th>\n",
       "      <th>SOCIAL_NETWORK</th>\n",
       "      <th>ACHIEVEMENT</th>\n",
       "      <th>DONATION</th>\n",
       "      <th>BMI_RANGE</th>\n",
       "      <th>TODO_COMPLETED</th>\n",
       "      <th>FLOW</th>\n",
       "      <th>DAILY_STEPS</th>\n",
       "      <th>LIVE_VISION</th>\n",
       "      <th>SLEEP_HOURS</th>\n",
       "      <th>LOST_VACATION</th>\n",
       "      <th>DAILY_SHOUTING</th>\n",
       "      <th>SUFFICIENT_INCOME</th>\n",
       "      <th>PERSONAL_AWARDS</th>\n",
       "      <th>TIME_FOR_PASSION</th>\n",
       "      <th>WEEKLY_MEDITATION</th>\n",
       "      <th>AGE</th>\n",
       "      <th>GENDER</th>\n",
       "      <th>WORK_LIFE_BALANCE_SCORE</th>\n",
       "    </tr>\n",
       "  </thead>\n",
       "  <tbody>\n",
       "    <tr>\n",
       "      <th>10005</th>\n",
       "      <td>12/18/18 10:37</td>\n",
       "      <td>3</td>\n",
       "      <td>1/1/00</td>\n",
       "      <td>1</td>\n",
       "      <td>2</td>\n",
       "      <td>10</td>\n",
       "      <td>10</td>\n",
       "      <td>5</td>\n",
       "      <td>5</td>\n",
       "      <td>2</td>\n",
       "      <td>6</td>\n",
       "      <td>8</td>\n",
       "      <td>6</td>\n",
       "      <td>3</td>\n",
       "      <td>6</td>\n",
       "      <td>10</td>\n",
       "      <td>1</td>\n",
       "      <td>2</td>\n",
       "      <td>10</td>\n",
       "      <td>8</td>\n",
       "      <td>2</td>\n",
       "      <td>21 to 35</td>\n",
       "      <td>Male</td>\n",
       "      <td>682.6</td>\n",
       "    </tr>\n",
       "  </tbody>\n",
       "</table>\n",
       "</div>"
      ],
      "text/plain": [
       "            Timestamp  FRUITS_VEGGIES DAILY_STRESS  PLACES_VISITED  \\\n",
       "10005  12/18/18 10:37               3       1/1/00               1   \n",
       "\n",
       "       CORE_CIRCLE  SUPPORTING_OTHERS  SOCIAL_NETWORK  ACHIEVEMENT  DONATION  \\\n",
       "10005            2                 10              10            5         5   \n",
       "\n",
       "       BMI_RANGE  TODO_COMPLETED  FLOW  DAILY_STEPS  LIVE_VISION  SLEEP_HOURS  \\\n",
       "10005          2               6     8            6            3            6   \n",
       "\n",
       "       LOST_VACATION  DAILY_SHOUTING  SUFFICIENT_INCOME  PERSONAL_AWARDS  \\\n",
       "10005             10               1                  2               10   \n",
       "\n",
       "       TIME_FOR_PASSION  WEEKLY_MEDITATION       AGE GENDER  \\\n",
       "10005                 8                  2  21 to 35   Male   \n",
       "\n",
       "       WORK_LIFE_BALANCE_SCORE  \n",
       "10005                    682.6  "
      ]
     },
     "execution_count": 8,
     "metadata": {},
     "output_type": "execute_result"
    }
   ],
   "source": [
    "dataset[dataset['DAILY_STRESS']=='1/1/00']"
   ]
  },
  {
   "cell_type": "code",
   "execution_count": 9,
   "metadata": {
    "execution": {
     "iopub.execute_input": "2022-10-15T14:51:56.703364Z",
     "iopub.status.busy": "2022-10-15T14:51:56.702258Z",
     "iopub.status.idle": "2022-10-15T14:51:56.712364Z",
     "shell.execute_reply": "2022-10-15T14:51:56.711348Z",
     "shell.execute_reply.started": "2022-10-15T14:51:56.703316Z"
    }
   },
   "outputs": [],
   "source": [
    "dataset.drop(10005, inplace = True)"
   ]
  },
  {
   "cell_type": "code",
   "execution_count": 10,
   "metadata": {
    "execution": {
     "iopub.execute_input": "2022-10-15T14:51:56.753092Z",
     "iopub.status.busy": "2022-10-15T14:51:56.752083Z",
     "iopub.status.idle": "2022-10-15T14:51:56.771624Z",
     "shell.execute_reply": "2022-10-15T14:51:56.770418Z",
     "shell.execute_reply.started": "2022-10-15T14:51:56.753051Z"
    }
   },
   "outputs": [
    {
     "data": {
      "text/html": [
       "<div>\n",
       "<style scoped>\n",
       "    .dataframe tbody tr th:only-of-type {\n",
       "        vertical-align: middle;\n",
       "    }\n",
       "\n",
       "    .dataframe tbody tr th {\n",
       "        vertical-align: top;\n",
       "    }\n",
       "\n",
       "    .dataframe thead th {\n",
       "        text-align: right;\n",
       "    }\n",
       "</style>\n",
       "<table border=\"1\" class=\"dataframe\">\n",
       "  <thead>\n",
       "    <tr style=\"text-align: right;\">\n",
       "      <th></th>\n",
       "      <th>Timestamp</th>\n",
       "      <th>FRUITS_VEGGIES</th>\n",
       "      <th>DAILY_STRESS</th>\n",
       "      <th>PLACES_VISITED</th>\n",
       "      <th>CORE_CIRCLE</th>\n",
       "      <th>SUPPORTING_OTHERS</th>\n",
       "      <th>SOCIAL_NETWORK</th>\n",
       "      <th>ACHIEVEMENT</th>\n",
       "      <th>DONATION</th>\n",
       "      <th>BMI_RANGE</th>\n",
       "      <th>TODO_COMPLETED</th>\n",
       "      <th>FLOW</th>\n",
       "      <th>DAILY_STEPS</th>\n",
       "      <th>LIVE_VISION</th>\n",
       "      <th>SLEEP_HOURS</th>\n",
       "      <th>LOST_VACATION</th>\n",
       "      <th>DAILY_SHOUTING</th>\n",
       "      <th>SUFFICIENT_INCOME</th>\n",
       "      <th>PERSONAL_AWARDS</th>\n",
       "      <th>TIME_FOR_PASSION</th>\n",
       "      <th>WEEKLY_MEDITATION</th>\n",
       "      <th>AGE</th>\n",
       "      <th>GENDER</th>\n",
       "      <th>WORK_LIFE_BALANCE_SCORE</th>\n",
       "    </tr>\n",
       "  </thead>\n",
       "  <tbody>\n",
       "  </tbody>\n",
       "</table>\n",
       "</div>"
      ],
      "text/plain": [
       "Empty DataFrame\n",
       "Columns: [Timestamp, FRUITS_VEGGIES, DAILY_STRESS, PLACES_VISITED, CORE_CIRCLE, SUPPORTING_OTHERS, SOCIAL_NETWORK, ACHIEVEMENT, DONATION, BMI_RANGE, TODO_COMPLETED, FLOW, DAILY_STEPS, LIVE_VISION, SLEEP_HOURS, LOST_VACATION, DAILY_SHOUTING, SUFFICIENT_INCOME, PERSONAL_AWARDS, TIME_FOR_PASSION, WEEKLY_MEDITATION, AGE, GENDER, WORK_LIFE_BALANCE_SCORE]\n",
       "Index: []"
      ]
     },
     "execution_count": 10,
     "metadata": {},
     "output_type": "execute_result"
    }
   ],
   "source": [
    "# the wrong record was dropped successfully\n",
    "dataset[dataset['DAILY_STRESS']=='1/1/00']"
   ]
  },
  {
   "cell_type": "code",
   "execution_count": 11,
   "metadata": {
    "execution": {
     "iopub.execute_input": "2022-10-15T14:51:56.775074Z",
     "iopub.status.busy": "2022-10-15T14:51:56.774296Z",
     "iopub.status.idle": "2022-10-15T14:51:56.786000Z",
     "shell.execute_reply": "2022-10-15T14:51:56.784601Z",
     "shell.execute_reply.started": "2022-10-15T14:51:56.775025Z"
    }
   },
   "outputs": [],
   "source": [
    "dataset['DAILY_STRESS'] = dataset['DAILY_STRESS'].astype('int64')"
   ]
  },
  {
   "cell_type": "code",
   "execution_count": 12,
   "metadata": {
    "execution": {
     "iopub.execute_input": "2022-10-15T14:51:56.788308Z",
     "iopub.status.busy": "2022-10-15T14:51:56.787729Z",
     "iopub.status.idle": "2022-10-15T14:51:56.802810Z",
     "shell.execute_reply": "2022-10-15T14:51:56.801566Z",
     "shell.execute_reply.started": "2022-10-15T14:51:56.788258Z"
    }
   },
   "outputs": [
    {
     "data": {
      "text/plain": [
       "21 to 35        6107\n",
       "36 to 50        4655\n",
       "51 or more      3390\n",
       "Less than 20    1819\n",
       "Name: AGE, dtype: int64"
      ]
     },
     "execution_count": 12,
     "metadata": {},
     "output_type": "execute_result"
    }
   ],
   "source": [
    "dataset['AGE'].value_counts()"
   ]
  },
  {
   "cell_type": "code",
   "execution_count": 13,
   "metadata": {
    "execution": {
     "iopub.execute_input": "2022-10-15T14:51:56.804535Z",
     "iopub.status.busy": "2022-10-15T14:51:56.804142Z",
     "iopub.status.idle": "2022-10-15T14:51:56.822547Z",
     "shell.execute_reply": "2022-10-15T14:51:56.821305Z",
     "shell.execute_reply.started": "2022-10-15T14:51:56.804504Z"
    }
   },
   "outputs": [],
   "source": [
    "age_replacement_dict = {'Less than 20': 0, '21 to 35': 1, '36 to 50': 2, '51 or more': 3}\n",
    "dataset.replace({'AGE': age_replacement_dict}, inplace= True)"
   ]
  },
  {
   "cell_type": "code",
   "execution_count": 14,
   "metadata": {
    "execution": {
     "iopub.execute_input": "2022-10-15T14:51:56.825764Z",
     "iopub.status.busy": "2022-10-15T14:51:56.825395Z",
     "iopub.status.idle": "2022-10-15T14:51:56.834889Z",
     "shell.execute_reply": "2022-10-15T14:51:56.833719Z",
     "shell.execute_reply.started": "2022-10-15T14:51:56.825732Z"
    }
   },
   "outputs": [
    {
     "data": {
      "text/plain": [
       "1    6107\n",
       "2    4655\n",
       "3    3390\n",
       "0    1819\n",
       "Name: AGE, dtype: int64"
      ]
     },
     "execution_count": 14,
     "metadata": {},
     "output_type": "execute_result"
    }
   ],
   "source": [
    "# age values converted successfully\n",
    "dataset['AGE'].value_counts()"
   ]
  },
  {
   "cell_type": "code",
   "execution_count": 15,
   "metadata": {
    "execution": {
     "iopub.execute_input": "2022-10-15T14:51:56.836836Z",
     "iopub.status.busy": "2022-10-15T14:51:56.836496Z",
     "iopub.status.idle": "2022-10-15T14:51:56.858029Z",
     "shell.execute_reply": "2022-10-15T14:51:56.856912Z",
     "shell.execute_reply.started": "2022-10-15T14:51:56.836807Z"
    }
   },
   "outputs": [],
   "source": [
    "gender_replacement_dict = {'Female' : 1, 'Male' : 0}\n",
    "dataset.replace({'GENDER': gender_replacement_dict}, inplace= True)"
   ]
  },
  {
   "cell_type": "code",
   "execution_count": 16,
   "metadata": {
    "execution": {
     "iopub.execute_input": "2022-10-15T14:51:56.860435Z",
     "iopub.status.busy": "2022-10-15T14:51:56.860052Z",
     "iopub.status.idle": "2022-10-15T14:51:56.869163Z",
     "shell.execute_reply": "2022-10-15T14:51:56.867958Z",
     "shell.execute_reply.started": "2022-10-15T14:51:56.860400Z"
    }
   },
   "outputs": [
    {
     "data": {
      "text/plain": [
       "1    9858\n",
       "0    6113\n",
       "Name: GENDER, dtype: int64"
      ]
     },
     "execution_count": 16,
     "metadata": {},
     "output_type": "execute_result"
    }
   ],
   "source": [
    "# gender values converted successfully\n",
    "dataset['GENDER'].value_counts()"
   ]
  },
  {
   "cell_type": "code",
   "execution_count": 17,
   "metadata": {
    "execution": {
     "iopub.execute_input": "2022-10-15T14:51:56.871563Z",
     "iopub.status.busy": "2022-10-15T14:51:56.871002Z",
     "iopub.status.idle": "2022-10-15T14:51:56.886422Z",
     "shell.execute_reply": "2022-10-15T14:51:56.885297Z",
     "shell.execute_reply.started": "2022-10-15T14:51:56.871515Z"
    }
   },
   "outputs": [],
   "source": [
    "# dropping Timestamp since it is of no use to the prediction\n",
    "dataset.drop('Timestamp', axis=1, inplace = True)"
   ]
  },
  {
   "cell_type": "code",
   "execution_count": 18,
   "metadata": {
    "execution": {
     "iopub.execute_input": "2022-10-15T14:51:56.889164Z",
     "iopub.status.busy": "2022-10-15T14:51:56.888457Z",
     "iopub.status.idle": "2022-10-15T14:51:56.906944Z",
     "shell.execute_reply": "2022-10-15T14:51:56.905517Z",
     "shell.execute_reply.started": "2022-10-15T14:51:56.889116Z"
    }
   },
   "outputs": [
    {
     "name": "stdout",
     "output_type": "stream",
     "text": [
      "<class 'pandas.core.frame.DataFrame'>\n",
      "Int64Index: 15971 entries, 0 to 15971\n",
      "Data columns (total 23 columns):\n",
      " #   Column                   Non-Null Count  Dtype  \n",
      "---  ------                   --------------  -----  \n",
      " 0   FRUITS_VEGGIES           15971 non-null  int64  \n",
      " 1   DAILY_STRESS             15971 non-null  int64  \n",
      " 2   PLACES_VISITED           15971 non-null  int64  \n",
      " 3   CORE_CIRCLE              15971 non-null  int64  \n",
      " 4   SUPPORTING_OTHERS        15971 non-null  int64  \n",
      " 5   SOCIAL_NETWORK           15971 non-null  int64  \n",
      " 6   ACHIEVEMENT              15971 non-null  int64  \n",
      " 7   DONATION                 15971 non-null  int64  \n",
      " 8   BMI_RANGE                15971 non-null  int64  \n",
      " 9   TODO_COMPLETED           15971 non-null  int64  \n",
      " 10  FLOW                     15971 non-null  int64  \n",
      " 11  DAILY_STEPS              15971 non-null  int64  \n",
      " 12  LIVE_VISION              15971 non-null  int64  \n",
      " 13  SLEEP_HOURS              15971 non-null  int64  \n",
      " 14  LOST_VACATION            15971 non-null  int64  \n",
      " 15  DAILY_SHOUTING           15971 non-null  int64  \n",
      " 16  SUFFICIENT_INCOME        15971 non-null  int64  \n",
      " 17  PERSONAL_AWARDS          15971 non-null  int64  \n",
      " 18  TIME_FOR_PASSION         15971 non-null  int64  \n",
      " 19  WEEKLY_MEDITATION        15971 non-null  int64  \n",
      " 20  AGE                      15971 non-null  int64  \n",
      " 21  GENDER                   15971 non-null  int64  \n",
      " 22  WORK_LIFE_BALANCE_SCORE  15971 non-null  float64\n",
      "dtypes: float64(1), int64(22)\n",
      "memory usage: 2.9 MB\n"
     ]
    }
   ],
   "source": [
    "dataset.info()"
   ]
  },
  {
   "cell_type": "code",
   "execution_count": 19,
   "metadata": {
    "execution": {
     "iopub.execute_input": "2022-10-15T14:51:56.909485Z",
     "iopub.status.busy": "2022-10-15T14:51:56.908675Z",
     "iopub.status.idle": "2022-10-15T14:51:56.922667Z",
     "shell.execute_reply": "2022-10-15T14:51:56.921425Z",
     "shell.execute_reply.started": "2022-10-15T14:51:56.909445Z"
    }
   },
   "outputs": [],
   "source": [
    "dataset.loc[dataset['WORK_LIFE_BALANCE_SCORE'] <=550, 'WORK_LIFE_BALANCE_SCORE'] = 0\n",
    "dataset.loc[(dataset['WORK_LIFE_BALANCE_SCORE'] >550) & (dataset['WORK_LIFE_BALANCE_SCORE'] <=680), 'WORK_LIFE_BALANCE_SCORE'] = 1\n",
    "dataset.loc[(dataset['WORK_LIFE_BALANCE_SCORE'] >680) & (dataset['WORK_LIFE_BALANCE_SCORE'] <=700), 'WORK_LIFE_BALANCE_SCORE'] = 2\n",
    "dataset.loc[dataset['WORK_LIFE_BALANCE_SCORE'] >700, 'WORK_LIFE_BALANCE_SCORE'] = 3"
   ]
  },
  {
   "cell_type": "code",
   "execution_count": 20,
   "metadata": {
    "execution": {
     "iopub.execute_input": "2022-10-15T14:51:56.924755Z",
     "iopub.status.busy": "2022-10-15T14:51:56.924260Z",
     "iopub.status.idle": "2022-10-15T14:51:56.941151Z",
     "shell.execute_reply": "2022-10-15T14:51:56.940022Z",
     "shell.execute_reply.started": "2022-10-15T14:51:56.924710Z"
    }
   },
   "outputs": [
    {
     "data": {
      "text/plain": [
       "1.0    9628\n",
       "3.0    3786\n",
       "2.0    2483\n",
       "0.0      74\n",
       "Name: WORK_LIFE_BALANCE_SCORE, dtype: int64"
      ]
     },
     "execution_count": 20,
     "metadata": {},
     "output_type": "execute_result"
    }
   ],
   "source": [
    "dataset['WORK_LIFE_BALANCE_SCORE'].value_counts()"
   ]
  },
  {
   "cell_type": "code",
   "execution_count": 21,
   "metadata": {
    "execution": {
     "iopub.execute_input": "2022-10-15T14:51:56.943307Z",
     "iopub.status.busy": "2022-10-15T14:51:56.942810Z",
     "iopub.status.idle": "2022-10-15T14:51:56.956814Z",
     "shell.execute_reply": "2022-10-15T14:51:56.955713Z",
     "shell.execute_reply.started": "2022-10-15T14:51:56.943260Z"
    }
   },
   "outputs": [
    {
     "data": {
      "text/plain": [
       "0     8115\n",
       "10    2238\n",
       "5     1240\n",
       "2      874\n",
       "3      807\n",
       "4      671\n",
       "1      600\n",
       "7      587\n",
       "8      373\n",
       "6      343\n",
       "9      123\n",
       "Name: LOST_VACATION, dtype: int64"
      ]
     },
     "execution_count": 21,
     "metadata": {},
     "output_type": "execute_result"
    }
   ],
   "source": [
    "dataset['LOST_VACATION'].value_counts()"
   ]
  },
  {
   "cell_type": "code",
   "execution_count": 22,
   "metadata": {
    "execution": {
     "iopub.execute_input": "2022-10-15T14:51:56.958535Z",
     "iopub.status.busy": "2022-10-15T14:51:56.958055Z",
     "iopub.status.idle": "2022-10-15T14:51:57.232716Z",
     "shell.execute_reply": "2022-10-15T14:51:57.231541Z",
     "shell.execute_reply.started": "2022-10-15T14:51:56.958486Z"
    }
   },
   "outputs": [
    {
     "data": {
      "text/plain": [
       "(array([8115.,  600.,  874.,  807.,  671., 1240.,  343.,  587.,  373.,\n",
       "        2361.]),\n",
       " array([ 0.,  1.,  2.,  3.,  4.,  5.,  6.,  7.,  8.,  9., 10.]),\n",
       " <BarContainer object of 10 artists>)"
      ]
     },
     "execution_count": 22,
     "metadata": {},
     "output_type": "execute_result"
    },
    {
     "data": {
      "image/png": "[encoded data removed]",
      "text/plain": [
       "<Figure size 432x288 with 1 Axes>"
      ]
     },
     "metadata": {
      "needs_background": "light"
     },
     "output_type": "display_data"
    }
   ],
   "source": [
    "plt.hist(dataset['LOST_VACATION'])"
   ]
  },
  {
   "cell_type": "code",
   "execution_count": 23,
   "metadata": {
    "execution": {
     "iopub.execute_input": "2022-10-15T14:51:57.239499Z",
     "iopub.status.busy": "2022-10-15T14:51:57.238541Z",
     "iopub.status.idle": "2022-10-15T14:51:57.248704Z",
     "shell.execute_reply": "2022-10-15T14:51:57.247571Z",
     "shell.execute_reply.started": "2022-10-15T14:51:57.239457Z"
    }
   },
   "outputs": [
    {
     "data": {
      "text/plain": [
       "10    3558\n",
       "5     1862\n",
       "3     1840\n",
       "2     1787\n",
       "4     1503\n",
       "1     1252\n",
       "6     1136\n",
       "0     1016\n",
       "8      881\n",
       "7      878\n",
       "9      258\n",
       "Name: PLACES_VISITED, dtype: int64"
      ]
     },
     "execution_count": 23,
     "metadata": {},
     "output_type": "execute_result"
    }
   ],
   "source": [
    "dataset['PLACES_VISITED'].value_counts()"
   ]
  },
  {
   "cell_type": "code",
   "execution_count": 24,
   "metadata": {
    "execution": {
     "iopub.execute_input": "2022-10-15T14:51:57.251127Z",
     "iopub.status.busy": "2022-10-15T14:51:57.250748Z",
     "iopub.status.idle": "2022-10-15T14:51:57.493387Z",
     "shell.execute_reply": "2022-10-15T14:51:57.492027Z",
     "shell.execute_reply.started": "2022-10-15T14:51:57.251091Z"
    }
   },
   "outputs": [
    {
     "data": {
      "text/plain": [
       "(array([1016., 1252., 1787., 1840., 1503., 1862., 1136.,  878.,  881.,\n",
       "        3816.]),\n",
       " array([ 0.,  1.,  2.,  3.,  4.,  5.,  6.,  7.,  8.,  9., 10.]),\n",
       " <BarContainer object of 10 artists>)"
      ]
     },
     "execution_count": 24,
     "metadata": {},
     "output_type": "execute_result"
    },
    {
     "data": {
      "image/png": "[encoded data removed]",
      "text/plain": [
       "<Figure size 432x288 with 1 Axes>"
      ]
     },
     "metadata": {
      "needs_background": "light"
     },
     "output_type": "display_data"
    }
   ],
   "source": [
    "plt.hist(dataset['PLACES_VISITED'])"
   ]
  },
  {
   "cell_type": "code",
   "execution_count": 25,
   "metadata": {
    "execution": {
     "iopub.execute_input": "2022-10-15T14:51:57.495127Z",
     "iopub.status.busy": "2022-10-15T14:51:57.494770Z",
     "iopub.status.idle": "2022-10-15T14:51:57.716860Z",
     "shell.execute_reply": "2022-10-15T14:51:57.715612Z",
     "shell.execute_reply.started": "2022-10-15T14:51:57.495092Z"
    }
   },
   "outputs": [
    {
     "data": {
      "text/plain": [
       "(array([9413.,    0.,    0.,    0.,    0.,    0.,    0.,    0.,    0.,\n",
       "        6558.]),\n",
       " array([1. , 1.1, 1.2, 1.3, 1.4, 1.5, 1.6, 1.7, 1.8, 1.9, 2. ]),\n",
       " <BarContainer object of 10 artists>)"
      ]
     },
     "execution_count": 25,
     "metadata": {},
     "output_type": "execute_result"
    },
    {
     "data": {
      "image/png": "[encoded data removed]",
      "text/plain": [
       "<Figure size 432x288 with 1 Axes>"
      ]
     },
     "metadata": {
      "needs_background": "light"
     },
     "output_type": "display_data"
    }
   ],
   "source": [
    "plt.hist(dataset['BMI_RANGE'])"
   ]
  },
  {
   "cell_type": "code",
   "execution_count": 26,
   "metadata": {
    "execution": {
     "iopub.execute_input": "2022-10-15T14:51:57.718377Z",
     "iopub.status.busy": "2022-10-15T14:51:57.718017Z",
     "iopub.status.idle": "2022-10-15T14:51:57.726456Z",
     "shell.execute_reply": "2022-10-15T14:51:57.725135Z",
     "shell.execute_reply.started": "2022-10-15T14:51:57.718346Z"
    }
   },
   "outputs": [],
   "source": [
    "dataset.drop('BMI_RANGE',axis = 1,inplace= True)"
   ]
  },
  {
   "cell_type": "code",
   "execution_count": 27,
   "metadata": {
    "execution": {
     "iopub.execute_input": "2022-10-15T14:51:57.729293Z",
     "iopub.status.busy": "2022-10-15T14:51:57.728140Z",
     "iopub.status.idle": "2022-10-15T14:51:57.755670Z",
     "shell.execute_reply": "2022-10-15T14:51:57.754284Z",
     "shell.execute_reply.started": "2022-10-15T14:51:57.729235Z"
    }
   },
   "outputs": [
    {
     "data": {
      "text/html": [
       "<div>\n",
       "<style scoped>\n",
       "    .dataframe tbody tr th:only-of-type {\n",
       "        vertical-align: middle;\n",
       "    }\n",
       "\n",
       "    .dataframe tbody tr th {\n",
       "        vertical-align: top;\n",
       "    }\n",
       "\n",
       "    .dataframe thead th {\n",
       "        text-align: right;\n",
       "    }\n",
       "</style>\n",
       "<table border=\"1\" class=\"dataframe\">\n",
       "  <thead>\n",
       "    <tr style=\"text-align: right;\">\n",
       "      <th></th>\n",
       "      <th>FRUITS_VEGGIES</th>\n",
       "      <th>DAILY_STRESS</th>\n",
       "      <th>PLACES_VISITED</th>\n",
       "      <th>CORE_CIRCLE</th>\n",
       "      <th>SUPPORTING_OTHERS</th>\n",
       "      <th>SOCIAL_NETWORK</th>\n",
       "      <th>ACHIEVEMENT</th>\n",
       "      <th>DONATION</th>\n",
       "      <th>TODO_COMPLETED</th>\n",
       "      <th>FLOW</th>\n",
       "      <th>DAILY_STEPS</th>\n",
       "      <th>LIVE_VISION</th>\n",
       "      <th>SLEEP_HOURS</th>\n",
       "      <th>LOST_VACATION</th>\n",
       "      <th>DAILY_SHOUTING</th>\n",
       "      <th>SUFFICIENT_INCOME</th>\n",
       "      <th>PERSONAL_AWARDS</th>\n",
       "      <th>TIME_FOR_PASSION</th>\n",
       "      <th>WEEKLY_MEDITATION</th>\n",
       "      <th>AGE</th>\n",
       "      <th>GENDER</th>\n",
       "      <th>WORK_LIFE_BALANCE_SCORE</th>\n",
       "    </tr>\n",
       "  </thead>\n",
       "  <tbody>\n",
       "    <tr>\n",
       "      <th>0</th>\n",
       "      <td>3</td>\n",
       "      <td>2</td>\n",
       "      <td>2</td>\n",
       "      <td>5</td>\n",
       "      <td>0</td>\n",
       "      <td>5</td>\n",
       "      <td>2</td>\n",
       "      <td>0</td>\n",
       "      <td>6</td>\n",
       "      <td>4</td>\n",
       "      <td>5</td>\n",
       "      <td>0</td>\n",
       "      <td>7</td>\n",
       "      <td>5</td>\n",
       "      <td>5</td>\n",
       "      <td>1</td>\n",
       "      <td>4</td>\n",
       "      <td>0</td>\n",
       "      <td>5</td>\n",
       "      <td>2</td>\n",
       "      <td>1</td>\n",
       "      <td>1.0</td>\n",
       "    </tr>\n",
       "    <tr>\n",
       "      <th>1</th>\n",
       "      <td>2</td>\n",
       "      <td>3</td>\n",
       "      <td>4</td>\n",
       "      <td>3</td>\n",
       "      <td>8</td>\n",
       "      <td>10</td>\n",
       "      <td>5</td>\n",
       "      <td>2</td>\n",
       "      <td>5</td>\n",
       "      <td>2</td>\n",
       "      <td>5</td>\n",
       "      <td>5</td>\n",
       "      <td>8</td>\n",
       "      <td>2</td>\n",
       "      <td>2</td>\n",
       "      <td>2</td>\n",
       "      <td>3</td>\n",
       "      <td>2</td>\n",
       "      <td>6</td>\n",
       "      <td>2</td>\n",
       "      <td>1</td>\n",
       "      <td>1.0</td>\n",
       "    </tr>\n",
       "    <tr>\n",
       "      <th>2</th>\n",
       "      <td>2</td>\n",
       "      <td>3</td>\n",
       "      <td>3</td>\n",
       "      <td>4</td>\n",
       "      <td>4</td>\n",
       "      <td>10</td>\n",
       "      <td>3</td>\n",
       "      <td>2</td>\n",
       "      <td>2</td>\n",
       "      <td>2</td>\n",
       "      <td>4</td>\n",
       "      <td>5</td>\n",
       "      <td>8</td>\n",
       "      <td>10</td>\n",
       "      <td>2</td>\n",
       "      <td>2</td>\n",
       "      <td>4</td>\n",
       "      <td>8</td>\n",
       "      <td>3</td>\n",
       "      <td>2</td>\n",
       "      <td>1</td>\n",
       "      <td>1.0</td>\n",
       "    </tr>\n",
       "    <tr>\n",
       "      <th>3</th>\n",
       "      <td>3</td>\n",
       "      <td>3</td>\n",
       "      <td>10</td>\n",
       "      <td>3</td>\n",
       "      <td>10</td>\n",
       "      <td>7</td>\n",
       "      <td>2</td>\n",
       "      <td>5</td>\n",
       "      <td>3</td>\n",
       "      <td>5</td>\n",
       "      <td>5</td>\n",
       "      <td>0</td>\n",
       "      <td>5</td>\n",
       "      <td>7</td>\n",
       "      <td>5</td>\n",
       "      <td>1</td>\n",
       "      <td>5</td>\n",
       "      <td>2</td>\n",
       "      <td>0</td>\n",
       "      <td>3</td>\n",
       "      <td>1</td>\n",
       "      <td>1.0</td>\n",
       "    </tr>\n",
       "    <tr>\n",
       "      <th>4</th>\n",
       "      <td>5</td>\n",
       "      <td>1</td>\n",
       "      <td>3</td>\n",
       "      <td>3</td>\n",
       "      <td>10</td>\n",
       "      <td>4</td>\n",
       "      <td>2</td>\n",
       "      <td>4</td>\n",
       "      <td>5</td>\n",
       "      <td>0</td>\n",
       "      <td>5</td>\n",
       "      <td>0</td>\n",
       "      <td>7</td>\n",
       "      <td>0</td>\n",
       "      <td>0</td>\n",
       "      <td>2</td>\n",
       "      <td>8</td>\n",
       "      <td>1</td>\n",
       "      <td>5</td>\n",
       "      <td>3</td>\n",
       "      <td>1</td>\n",
       "      <td>1.0</td>\n",
       "    </tr>\n",
       "    <tr>\n",
       "      <th>...</th>\n",
       "      <td>...</td>\n",
       "      <td>...</td>\n",
       "      <td>...</td>\n",
       "      <td>...</td>\n",
       "      <td>...</td>\n",
       "      <td>...</td>\n",
       "      <td>...</td>\n",
       "      <td>...</td>\n",
       "      <td>...</td>\n",
       "      <td>...</td>\n",
       "      <td>...</td>\n",
       "      <td>...</td>\n",
       "      <td>...</td>\n",
       "      <td>...</td>\n",
       "      <td>...</td>\n",
       "      <td>...</td>\n",
       "      <td>...</td>\n",
       "      <td>...</td>\n",
       "      <td>...</td>\n",
       "      <td>...</td>\n",
       "      <td>...</td>\n",
       "      <td>...</td>\n",
       "    </tr>\n",
       "    <tr>\n",
       "      <th>15967</th>\n",
       "      <td>3</td>\n",
       "      <td>3</td>\n",
       "      <td>0</td>\n",
       "      <td>4</td>\n",
       "      <td>0</td>\n",
       "      <td>10</td>\n",
       "      <td>0</td>\n",
       "      <td>4</td>\n",
       "      <td>8</td>\n",
       "      <td>2</td>\n",
       "      <td>10</td>\n",
       "      <td>7</td>\n",
       "      <td>7</td>\n",
       "      <td>0</td>\n",
       "      <td>1</td>\n",
       "      <td>1</td>\n",
       "      <td>5</td>\n",
       "      <td>2</td>\n",
       "      <td>5</td>\n",
       "      <td>3</td>\n",
       "      <td>1</td>\n",
       "      <td>1.0</td>\n",
       "    </tr>\n",
       "    <tr>\n",
       "      <th>15968</th>\n",
       "      <td>3</td>\n",
       "      <td>3</td>\n",
       "      <td>6</td>\n",
       "      <td>8</td>\n",
       "      <td>7</td>\n",
       "      <td>4</td>\n",
       "      <td>6</td>\n",
       "      <td>3</td>\n",
       "      <td>7</td>\n",
       "      <td>5</td>\n",
       "      <td>6</td>\n",
       "      <td>5</td>\n",
       "      <td>6</td>\n",
       "      <td>0</td>\n",
       "      <td>0</td>\n",
       "      <td>2</td>\n",
       "      <td>10</td>\n",
       "      <td>5</td>\n",
       "      <td>8</td>\n",
       "      <td>1</td>\n",
       "      <td>1</td>\n",
       "      <td>3.0</td>\n",
       "    </tr>\n",
       "    <tr>\n",
       "      <th>15969</th>\n",
       "      <td>4</td>\n",
       "      <td>3</td>\n",
       "      <td>0</td>\n",
       "      <td>10</td>\n",
       "      <td>10</td>\n",
       "      <td>8</td>\n",
       "      <td>6</td>\n",
       "      <td>5</td>\n",
       "      <td>7</td>\n",
       "      <td>3</td>\n",
       "      <td>5</td>\n",
       "      <td>2</td>\n",
       "      <td>7</td>\n",
       "      <td>0</td>\n",
       "      <td>1</td>\n",
       "      <td>2</td>\n",
       "      <td>10</td>\n",
       "      <td>1</td>\n",
       "      <td>10</td>\n",
       "      <td>1</td>\n",
       "      <td>0</td>\n",
       "      <td>3.0</td>\n",
       "    </tr>\n",
       "    <tr>\n",
       "      <th>15970</th>\n",
       "      <td>1</td>\n",
       "      <td>1</td>\n",
       "      <td>10</td>\n",
       "      <td>8</td>\n",
       "      <td>2</td>\n",
       "      <td>7</td>\n",
       "      <td>3</td>\n",
       "      <td>2</td>\n",
       "      <td>6</td>\n",
       "      <td>10</td>\n",
       "      <td>1</td>\n",
       "      <td>5</td>\n",
       "      <td>8</td>\n",
       "      <td>7</td>\n",
       "      <td>2</td>\n",
       "      <td>2</td>\n",
       "      <td>1</td>\n",
       "      <td>6</td>\n",
       "      <td>8</td>\n",
       "      <td>1</td>\n",
       "      <td>1</td>\n",
       "      <td>2.0</td>\n",
       "    </tr>\n",
       "    <tr>\n",
       "      <th>15971</th>\n",
       "      <td>5</td>\n",
       "      <td>4</td>\n",
       "      <td>0</td>\n",
       "      <td>2</td>\n",
       "      <td>10</td>\n",
       "      <td>10</td>\n",
       "      <td>5</td>\n",
       "      <td>1</td>\n",
       "      <td>7</td>\n",
       "      <td>4</td>\n",
       "      <td>1</td>\n",
       "      <td>5</td>\n",
       "      <td>8</td>\n",
       "      <td>5</td>\n",
       "      <td>2</td>\n",
       "      <td>2</td>\n",
       "      <td>1</td>\n",
       "      <td>8</td>\n",
       "      <td>4</td>\n",
       "      <td>1</td>\n",
       "      <td>1</td>\n",
       "      <td>1.0</td>\n",
       "    </tr>\n",
       "  </tbody>\n",
       "</table>\n",
       "<p>15971 rows × 22 columns</p>\n",
       "</div>"
      ],
      "text/plain": [
       "       FRUITS_VEGGIES  DAILY_STRESS  PLACES_VISITED  CORE_CIRCLE  \\\n",
       "0                   3             2               2            5   \n",
       "1                   2             3               4            3   \n",
       "2                   2             3               3            4   \n",
       "3                   3             3              10            3   \n",
       "4                   5             1               3            3   \n",
       "...               ...           ...             ...          ...   \n",
       "15967               3             3               0            4   \n",
       "15968               3             3               6            8   \n",
       "15969               4             3               0           10   \n",
       "15970               1             1              10            8   \n",
       "15971               5             4               0            2   \n",
       "\n",
       "       SUPPORTING_OTHERS  SOCIAL_NETWORK  ACHIEVEMENT  DONATION  \\\n",
       "0                      0               5            2         0   \n",
       "1                      8              10            5         2   \n",
       "2                      4              10            3         2   \n",
       "3                     10               7            2         5   \n",
       "4                     10               4            2         4   \n",
       "...                  ...             ...          ...       ...   \n",
       "15967                  0              10            0         4   \n",
       "15968                  7               4            6         3   \n",
       "15969                 10               8            6         5   \n",
       "15970                  2               7            3         2   \n",
       "15971                 10              10            5         1   \n",
       "\n",
       "       TODO_COMPLETED  FLOW  DAILY_STEPS  LIVE_VISION  SLEEP_HOURS  \\\n",
       "0                   6     4            5            0            7   \n",
       "1                   5     2            5            5            8   \n",
       "2                   2     2            4            5            8   \n",
       "3                   3     5            5            0            5   \n",
       "4                   5     0            5            0            7   \n",
       "...               ...   ...          ...          ...          ...   \n",
       "15967               8     2           10            7            7   \n",
       "15968               7     5            6            5            6   \n",
       "15969               7     3            5            2            7   \n",
       "15970               6    10            1            5            8   \n",
       "15971               7     4            1            5            8   \n",
       "\n",
       "       LOST_VACATION  DAILY_SHOUTING  SUFFICIENT_INCOME  PERSONAL_AWARDS  \\\n",
       "0                  5               5                  1                4   \n",
       "1                  2               2                  2                3   \n",
       "2                 10               2                  2                4   \n",
       "3                  7               5                  1                5   \n",
       "4                  0               0                  2                8   \n",
       "...              ...             ...                ...              ...   \n",
       "15967              0               1                  1                5   \n",
       "15968              0               0                  2               10   \n",
       "15969              0               1                  2               10   \n",
       "15970              7               2                  2                1   \n",
       "15971              5               2                  2                1   \n",
       "\n",
       "       TIME_FOR_PASSION  WEEKLY_MEDITATION  AGE  GENDER  \\\n",
       "0                     0                  5    2       1   \n",
       "1                     2                  6    2       1   \n",
       "2                     8                  3    2       1   \n",
       "3                     2                  0    3       1   \n",
       "4                     1                  5    3       1   \n",
       "...                 ...                ...  ...     ...   \n",
       "15967                 2                  5    3       1   \n",
       "15968                 5                  8    1       1   \n",
       "15969                 1                 10    1       0   \n",
       "15970                 6                  8    1       1   \n",
       "15971                 8                  4    1       1   \n",
       "\n",
       "       WORK_LIFE_BALANCE_SCORE  \n",
       "0                          1.0  \n",
       "1                          1.0  \n",
       "2                          1.0  \n",
       "3                          1.0  \n",
       "4                          1.0  \n",
       "...                        ...  \n",
       "15967                      1.0  \n",
       "15968                      3.0  \n",
       "15969                      3.0  \n",
       "15970                      2.0  \n",
       "15971                      1.0  \n",
       "\n",
       "[15971 rows x 22 columns]"
      ]
     },
     "execution_count": 27,
     "metadata": {},
     "output_type": "execute_result"
    }
   ],
   "source": [
    "dataset"
   ]
  },
  {
   "cell_type": "code",
   "execution_count": 28,
   "metadata": {
    "execution": {
     "iopub.execute_input": "2022-10-15T14:51:57.758626Z",
     "iopub.status.busy": "2022-10-15T14:51:57.757388Z",
     "iopub.status.idle": "2022-10-15T14:51:58.186371Z",
     "shell.execute_reply": "2022-10-15T14:51:58.184989Z",
     "shell.execute_reply.started": "2022-10-15T14:51:57.758423Z"
    }
   },
   "outputs": [
    {
     "data": {
      "text/plain": [
       "<AxesSubplot:xlabel='SUFFICIENT_INCOME', ylabel='WORK_LIFE_BALANCE_SCORE'>"
      ]
     },
     "execution_count": 28,
     "metadata": {},
     "output_type": "execute_result"
    },
    {
     "data": {
      "image/png": "[encoded data removed]",
      "text/plain": [
       "<Figure size 432x288 with 1 Axes>"
      ]
     },
     "metadata": {
      "needs_background": "light"
     },
     "output_type": "display_data"
    }
   ],
   "source": [
    "# no particular effect on work_life_balance. both not sufficient and sufficient lead to a good work life balance score\n",
    "sns.barplot(x=dataset['SUFFICIENT_INCOME'], y=dataset['WORK_LIFE_BALANCE_SCORE'])"
   ]
  },
  {
   "cell_type": "code",
   "execution_count": 29,
   "metadata": {
    "execution": {
     "iopub.execute_input": "2022-10-15T14:51:58.189306Z",
     "iopub.status.busy": "2022-10-15T14:51:58.188099Z",
     "iopub.status.idle": "2022-10-15T14:51:58.664516Z",
     "shell.execute_reply": "2022-10-15T14:51:58.663255Z",
     "shell.execute_reply.started": "2022-10-15T14:51:58.189254Z"
    }
   },
   "outputs": [
    {
     "data": {
      "text/plain": [
       "<AxesSubplot:xlabel='AGE', ylabel='WORK_LIFE_BALANCE_SCORE'>"
      ]
     },
     "execution_count": 29,
     "metadata": {},
     "output_type": "execute_result"
    },
    {
     "data": {
      "image/png": "[encoded data removed]",
      "text/plain": [
       "<Figure size 432x288 with 1 Axes>"
      ]
     },
     "metadata": {
      "needs_background": "light"
     },
     "output_type": "display_data"
    }
   ],
   "source": [
    "sns.barplot(x=dataset['AGE'], y=dataset['WORK_LIFE_BALANCE_SCORE'])"
   ]
  },
  {
   "cell_type": "code",
   "execution_count": 30,
   "metadata": {
    "execution": {
     "iopub.execute_input": "2022-10-15T14:51:58.666924Z",
     "iopub.status.busy": "2022-10-15T14:51:58.666107Z",
     "iopub.status.idle": "2022-10-15T14:51:59.084363Z",
     "shell.execute_reply": "2022-10-15T14:51:59.083157Z",
     "shell.execute_reply.started": "2022-10-15T14:51:58.666883Z"
    }
   },
   "outputs": [
    {
     "data": {
      "text/plain": [
       "<AxesSubplot:xlabel='GENDER', ylabel='WORK_LIFE_BALANCE_SCORE'>"
      ]
     },
     "execution_count": 30,
     "metadata": {},
     "output_type": "execute_result"
    },
    {
     "data": {
      "image/png": "[encoded data removed]",
      "text/plain": [
       "<Figure size 432x288 with 1 Axes>"
      ]
     },
     "metadata": {
      "needs_background": "light"
     },
     "output_type": "display_data"
    }
   ],
   "source": [
    "sns.barplot(x=dataset['GENDER'], y=dataset['WORK_LIFE_BALANCE_SCORE'])"
   ]
  },
  {
   "cell_type": "markdown",
   "metadata": {},
   "source": [
    "# **Healthy Body**"
   ]
  },
  {
   "cell_type": "markdown",
   "metadata": {},
   "source": [
    "Can a healthy body impact work life balance score? We have isolated the following attributes that we think might contribute to a healthy mind:\n",
    "* 'FRUITS_VEGGIES'\n",
    "* 'DAILY_STEPS'\n",
    "* 'SLEEP_HOURS'"
   ]
  },
  {
   "cell_type": "code",
   "execution_count": 31,
   "metadata": {
    "execution": {
     "iopub.execute_input": "2022-10-15T15:48:45.395810Z",
     "iopub.status.busy": "2022-10-15T15:48:45.394696Z",
     "iopub.status.idle": "2022-10-15T15:48:46.796516Z",
     "shell.execute_reply": "2022-10-15T15:48:46.795251Z",
     "shell.execute_reply.started": "2022-10-15T15:48:45.395767Z"
    }
   },
   "outputs": [
    {
     "data": {
      "image/png": "[encoded data removed]",
      "text/plain": [
       "<Figure size 1152x720 with 4 Axes>"
      ]
     },
     "metadata": {
      "needs_background": "light"
     },
     "output_type": "display_data"
    }
   ],
   "source": [
    "# plotting the attributes individually against work life balance score to see their individual impacts\n",
    "f,ax = plt.subplots(2,2,figsize=(16,10))\n",
    "ax[0,0].set_title('WORK_LIFE_BALANCE_SCORE BY FRUITS_VEGGIES')\n",
    "ax[0,1].set_title('WORK_LIFE_BALANCE_SCORE BY DAILY_STEPS')\n",
    "ax[1,0].set_title('WORK_LIFE_BALANCE_SCORE BY SLEEP_HOURS')\n",
    "\n",
    "sns.pointplot(x = 'WORK_LIFE_BALANCE_SCORE', y = 'FRUITS_VEGGIES',  data=dataset, ax = ax[0,0])\n",
    "sns.pointplot(x = 'WORK_LIFE_BALANCE_SCORE', y = 'SUPPORTING_OTHERS',  data=dataset, ax = ax[0,1])\n",
    "sns.pointplot(x = 'WORK_LIFE_BALANCE_SCORE', y = 'SLEEP_HOURS', data=dataset, ax = ax[1,0])\n",
    "\n",
    "\n",
    "\n",
    "plt.show()"
   ]
  },
  {
   "cell_type": "markdown",
   "metadata": {},
   "source": [
    "Healthy body seems to have a great impact on work life balance score"
   ]
  },
  {
   "cell_type": "code",
   "execution_count": 32,
   "metadata": {
    "execution": {
     "iopub.execute_input": "2022-10-15T15:51:32.328806Z",
     "iopub.status.busy": "2022-10-15T15:51:32.328377Z",
     "iopub.status.idle": "2022-10-15T15:51:32.335657Z",
     "shell.execute_reply": "2022-10-15T15:51:32.334090Z",
     "shell.execute_reply.started": "2022-10-15T15:51:32.328766Z"
    }
   },
   "outputs": [],
   "source": [
    "X = dataset[['FRUITS_VEGGIES', 'DAILY_STEPS', 'SLEEP_HOURS']]\n",
    "y = dataset['WORK_LIFE_BALANCE_SCORE']"
   ]
  },
  {
   "cell_type": "code",
   "execution_count": 33,
   "metadata": {
    "execution": {
     "iopub.execute_input": "2022-10-15T15:51:34.172670Z",
     "iopub.status.busy": "2022-10-15T15:51:34.172237Z",
     "iopub.status.idle": "2022-10-15T15:51:34.181647Z",
     "shell.execute_reply": "2022-10-15T15:51:34.180463Z",
     "shell.execute_reply.started": "2022-10-15T15:51:34.172635Z"
    }
   },
   "outputs": [],
   "source": [
    "X_train, X_test, y_train, y_test = train_test_split(X, y, test_size=0.2, random_state = 42)"
   ]
  },
  {
   "cell_type": "code",
   "execution_count": 34,
   "metadata": {
    "execution": {
     "iopub.execute_input": "2022-10-15T15:51:35.659611Z",
     "iopub.status.busy": "2022-10-15T15:51:35.658893Z",
     "iopub.status.idle": "2022-10-15T15:51:36.859928Z",
     "shell.execute_reply": "2022-10-15T15:51:36.858890Z",
     "shell.execute_reply.started": "2022-10-15T15:51:35.659572Z"
    }
   },
   "outputs": [
    {
     "name": "stderr",
     "output_type": "stream",
     "text": [
      "C:\\Users\\Izma Aziz\\anaconda3\\lib\\site-packages\\sklearn\\linear_model\\_logistic.py:444: ConvergenceWarning: lbfgs failed to converge (status=1):\n",
      "STOP: TOTAL NO. of ITERATIONS REACHED LIMIT.\n",
      "\n",
      "Increase the number of iterations (max_iter) or scale the data as shown in:\n",
      "    https://scikit-learn.org/stable/modules/preprocessing.html\n",
      "Please also refer to the documentation for alternative solver options:\n",
      "    https://scikit-learn.org/stable/modules/linear_model.html#logistic-regression\n",
      "  n_iter_i = _check_optimize_result(\n"
     ]
    },
    {
     "name": "stdout",
     "output_type": "stream",
     "text": [
      "Train Score using Logistic Regression:  65.3882279273638\n",
      "Test Score using Logistic Regression:  64.4131455399061\n",
      "Score using Decision Tree:  64.06885758998435\n",
      "Score using Random Forest Classifier:  63.84976525821596\n"
     ]
    }
   ],
   "source": [
    "# Logistic Regression\n",
    "healthybody = LogisticRegression()\n",
    "healthybody.fit(X_train, y_train)\n",
    "y_pred = healthybody.predict(X_test)\n",
    "print('Train Score using Logistic Regression: ',healthybody.score(X_train, y_train)*100)\n",
    "print('Test Score using Logistic Regression: ',healthybody.score(X_test, y_test)*100)\n",
    "\n",
    "\n",
    "# Decision Tree Classifier\n",
    "healthybodytree = DecisionTreeClassifier(random_state=0)\n",
    "healthybodytree.fit(X_train, y_train)\n",
    "y_pred = healthybodytree.predict(X_test)\n",
    "print('Score using Decision Tree: ',accuracy_score(y_test, y_pred)*100)\n",
    "\n",
    "# Random Forest Classifier\n",
    "healthybodyforest = RandomForestClassifier(random_state=0)\n",
    "healthybodyforest.fit(X_train, y_train)\n",
    "y_pred = healthybodyforest.predict(X_test)\n",
    "print('Score using Random Forest Classifier: ',accuracy_score(y_test, y_pred)*100)"
   ]
  },
  {
   "cell_type": "markdown",
   "metadata": {},
   "source": [
    "# **Healthy Mind**"
   ]
  },
  {
   "cell_type": "markdown",
   "metadata": {},
   "source": [
    "Can a healthy mind impact work life balance score? We have isolated the following attributes that we think might contribute to a healthy mind:\n",
    "* 'DAILY_STRESS'\n",
    "* 'SLEEP_HOURS'\n",
    "* 'DAILY_SHOUTING'\n",
    "* 'WEEKLY_MEDITATION'\n",
    "* 'FLOW'"
   ]
  },
  {
   "cell_type": "code",
   "execution_count": 35,
   "metadata": {
    "execution": {
     "iopub.execute_input": "2022-10-15T15:14:51.849682Z",
     "iopub.status.busy": "2022-10-15T15:14:51.848568Z",
     "iopub.status.idle": "2022-10-15T15:14:53.972400Z",
     "shell.execute_reply": "2022-10-15T15:14:53.971232Z",
     "shell.execute_reply.started": "2022-10-15T15:14:51.849639Z"
    }
   },
   "outputs": [
    {
     "data": {
      "image/png": "[encoded data removed]",
      "text/plain": [
       "<Figure size 1152x720 with 6 Axes>"
      ]
     },
     "metadata": {
      "needs_background": "light"
     },
     "output_type": "display_data"
    }
   ],
   "source": [
    "# plotting the attributes individually against work life balance score to see their individual impacts\n",
    "f,ax = plt.subplots(2,3,figsize=(16,10))\n",
    "ax[0,0].set_title('WORK_LIFE_BALANCE_SCORE BY DAILY_STRESS')\n",
    "ax[0,1].set_title('WORK_LIFE_BALANCE_SCORE BY SLEEP_HOURS')\n",
    "ax[0,2].set_title('WORK_LIFE_BALANCE_SCORE BY DAILY_SHOUTING')\n",
    "ax[1,0].set_title('WORK_LIFE_BALANCE_SCORE & WEEKLY_MEDITATION')\n",
    "ax[1,1].set_title('WORK_LIFE_BALANCE_SCORE & FLOW')\n",
    "\n",
    "\n",
    "sns.pointplot(x = 'WORK_LIFE_BALANCE_SCORE', y = 'DAILY_STRESS',  data=dataset, ax = ax[0,0])\n",
    "sns.pointplot(x = 'WORK_LIFE_BALANCE_SCORE', y = 'SLEEP_HOURS',  data=dataset, ax = ax[0,1])\n",
    "sns.pointplot(x = 'WORK_LIFE_BALANCE_SCORE', y = 'DAILY_SHOUTING', data=dataset, ax = ax[0,2])\n",
    "sns.pointplot(x = 'WORK_LIFE_BALANCE_SCORE', y = 'WEEKLY_MEDITATION',  data=dataset, ax = ax[1,0])\n",
    "sns.pointplot(x = 'WORK_LIFE_BALANCE_SCORE', y = 'FLOW',  data=dataset, ax = ax[1,1])\n",
    "\n",
    "plt.show()"
   ]
  },
  {
   "cell_type": "markdown",
   "metadata": {},
   "source": [
    "- Clearly lower stress levels give a better work life balance score\n",
    "- Similarly, less shouting which could be an indicator for anger levels give a better work life balance score\n",
    "- Higher levels of meditation, sleep hours and flow give better work life balance score"
   ]
  },
  {
   "cell_type": "code",
   "execution_count": 36,
   "metadata": {
    "execution": {
     "iopub.execute_input": "2022-10-15T15:51:06.049965Z",
     "iopub.status.busy": "2022-10-15T15:51:06.049531Z",
     "iopub.status.idle": "2022-10-15T15:51:06.057761Z",
     "shell.execute_reply": "2022-10-15T15:51:06.056418Z",
     "shell.execute_reply.started": "2022-10-15T15:51:06.049930Z"
    }
   },
   "outputs": [],
   "source": [
    "# isolating the features from the dataset\n",
    "X = dataset[['DAILY_STRESS', 'SLEEP_HOURS', 'DAILY_SHOUTING', 'WEEKLY_MEDITATION', 'FLOW']]\n",
    "y = dataset['WORK_LIFE_BALANCE_SCORE']"
   ]
  },
  {
   "cell_type": "code",
   "execution_count": 37,
   "metadata": {
    "execution": {
     "iopub.execute_input": "2022-10-15T15:51:08.398755Z",
     "iopub.status.busy": "2022-10-15T15:51:08.398235Z",
     "iopub.status.idle": "2022-10-15T15:51:08.408897Z",
     "shell.execute_reply": "2022-10-15T15:51:08.407515Z",
     "shell.execute_reply.started": "2022-10-15T15:51:08.398703Z"
    }
   },
   "outputs": [],
   "source": [
    "# splitting into train and test sets for better evaluation\n",
    "X_train, X_test, y_train, y_test = train_test_split(X, y, test_size=0.2, random_state = 42)"
   ]
  },
  {
   "cell_type": "code",
   "execution_count": 38,
   "metadata": {
    "execution": {
     "iopub.execute_input": "2022-10-15T15:51:09.977875Z",
     "iopub.status.busy": "2022-10-15T15:51:09.977435Z",
     "iopub.status.idle": "2022-10-15T15:51:11.861024Z",
     "shell.execute_reply": "2022-10-15T15:51:11.859900Z",
     "shell.execute_reply.started": "2022-10-15T15:51:09.977821Z"
    }
   },
   "outputs": [
    {
     "name": "stderr",
     "output_type": "stream",
     "text": [
      "C:\\Users\\Izma Aziz\\anaconda3\\lib\\site-packages\\sklearn\\linear_model\\_logistic.py:444: ConvergenceWarning: lbfgs failed to converge (status=1):\n",
      "STOP: TOTAL NO. of ITERATIONS REACHED LIMIT.\n",
      "\n",
      "Increase the number of iterations (max_iter) or scale the data as shown in:\n",
      "    https://scikit-learn.org/stable/modules/preprocessing.html\n",
      "Please also refer to the documentation for alternative solver options:\n",
      "    https://scikit-learn.org/stable/modules/linear_model.html#logistic-regression\n",
      "  n_iter_i = _check_optimize_result(\n"
     ]
    },
    {
     "name": "stdout",
     "output_type": "stream",
     "text": [
      "Train Score using Logistic Regression:  67.85378835316219\n",
      "Test Score using Logistic Regression:  67.04225352112675\n",
      "Score using Decision Tree:  58.9358372456964\n",
      "Score using random Forest Classifier:  62.190923317683875\n"
     ]
    }
   ],
   "source": [
    "# Logistic Regression\n",
    "healthymind = LogisticRegression()\n",
    "healthymind.fit(X_train, y_train)\n",
    "y_pred = healthymind.predict(X_test)\n",
    "print('Train Score using Logistic Regression: ',healthymind.score(X_train, y_train)*100)\n",
    "print('Test Score using Logistic Regression: ',healthymind.score(X_test, y_test)*100)\n",
    "\n",
    "\n",
    "# Decision Tree Classifier\n",
    "healthymindtree = DecisionTreeClassifier(random_state=0)\n",
    "healthymindtree.fit(X_train, y_train)\n",
    "y_pred = healthymindtree.predict(X_test)\n",
    "print('Score using Decision Tree: ',accuracy_score(y_test, y_pred)*100)\n",
    "\n",
    "\n",
    "# Random Forest Classifier\n",
    "healthymindforest = RandomForestClassifier(random_state=0)\n",
    "healthymindforest.fit(X_train, y_train)\n",
    "y_pred = healthymindforest.predict(X_test)\n",
    "print('Score using random Forest Classifier: ',accuracy_score(y_test, y_pred)*100)"
   ]
  },
  {
   "cell_type": "markdown",
   "metadata": {},
   "source": [
    "Logistic Regression gave the best score hence we will move forward with this model for prediction."
   ]
  },
  {
   "cell_type": "markdown",
   "metadata": {},
   "source": [
    "# **Expertise**"
   ]
  },
  {
   "cell_type": "markdown",
   "metadata": {},
   "source": [
    "Can expertise impact work life balance score? We have isolated the following attributes that we think might contribute to a healthy mind:\n",
    "* 'ACHIEVEMENT'\n",
    "* 'TODO_COMPLETED'\n",
    "* 'SUFFICIENT_INCOME'\n",
    "* 'PERSONAL_AWARDS'"
   ]
  },
  {
   "cell_type": "code",
   "execution_count": 39,
   "metadata": {
    "execution": {
     "iopub.execute_input": "2022-10-15T15:20:04.402688Z",
     "iopub.status.busy": "2022-10-15T15:20:04.402242Z",
     "iopub.status.idle": "2022-10-15T15:20:06.060757Z",
     "shell.execute_reply": "2022-10-15T15:20:06.059407Z",
     "shell.execute_reply.started": "2022-10-15T15:20:04.402640Z"
    }
   },
   "outputs": [
    {
     "data": {
      "image/png": "[encoded data removed]",
      "text/plain": [
       "<Figure size 1152x720 with 4 Axes>"
      ]
     },
     "metadata": {
      "needs_background": "light"
     },
     "output_type": "display_data"
    }
   ],
   "source": [
    "# plotting the attributes individually against work life balance score to see their individual impacts\n",
    "f,ax = plt.subplots(2,2,figsize=(16,10))\n",
    "ax[0,0].set_title('WORK_LIFE_BALANCE_SCORE BY ACHIEVEMENT')\n",
    "ax[0,1].set_title('WORK_LIFE_BALANCE_SCORE BY TODO_COMPLETED')\n",
    "ax[1,0].set_title('WORK_LIFE_BALANCE_SCORE BY SUFFICIENT_INCOME')\n",
    "ax[1,1].set_title('WORK_LIFE_BALANCE_SCORE & PERSONAL_AWARDS')\n",
    "\n",
    "\n",
    "\n",
    "sns.pointplot(x = 'WORK_LIFE_BALANCE_SCORE', y = 'ACHIEVEMENT',  data=dataset, ax = ax[0,0])\n",
    "sns.pointplot(x = 'WORK_LIFE_BALANCE_SCORE', y = 'TODO_COMPLETED',  data=dataset, ax = ax[0,1])\n",
    "sns.pointplot(x = 'WORK_LIFE_BALANCE_SCORE', y = 'SUFFICIENT_INCOME', data=dataset, ax = ax[1,0])\n",
    "sns.pointplot(x = 'WORK_LIFE_BALANCE_SCORE', y = 'PERSONAL_AWARDS',  data=dataset, ax = ax[1,1])\n",
    "\n",
    "\n",
    "plt.show()"
   ]
  },
  {
   "cell_type": "markdown",
   "metadata": {},
   "source": [
    "Better expertise seems to have a good impact on work life balance."
   ]
  },
  {
   "cell_type": "code",
   "execution_count": 40,
   "metadata": {
    "execution": {
     "iopub.execute_input": "2022-10-15T15:34:46.014874Z",
     "iopub.status.busy": "2022-10-15T15:34:46.013675Z",
     "iopub.status.idle": "2022-10-15T15:34:46.023019Z",
     "shell.execute_reply": "2022-10-15T15:34:46.021495Z",
     "shell.execute_reply.started": "2022-10-15T15:34:46.014822Z"
    }
   },
   "outputs": [],
   "source": [
    "X = dataset[['ACHIEVEMENT', 'TODO_COMPLETED', 'SUFFICIENT_INCOME', 'PERSONAL_AWARDS']]\n",
    "y = dataset['WORK_LIFE_BALANCE_SCORE']"
   ]
  },
  {
   "cell_type": "code",
   "execution_count": 41,
   "metadata": {
    "execution": {
     "iopub.execute_input": "2022-10-15T15:34:47.761365Z",
     "iopub.status.busy": "2022-10-15T15:34:47.760538Z",
     "iopub.status.idle": "2022-10-15T15:34:47.771067Z",
     "shell.execute_reply": "2022-10-15T15:34:47.769752Z",
     "shell.execute_reply.started": "2022-10-15T15:34:47.761314Z"
    }
   },
   "outputs": [],
   "source": [
    "X_train, X_test, y_train, y_test = train_test_split(X, y, test_size=0.2, random_state = 42)"
   ]
  },
  {
   "cell_type": "code",
   "execution_count": 42,
   "metadata": {
    "execution": {
     "iopub.execute_input": "2022-10-15T15:34:49.267444Z",
     "iopub.status.busy": "2022-10-15T15:34:49.266361Z",
     "iopub.status.idle": "2022-10-15T15:34:50.781260Z",
     "shell.execute_reply": "2022-10-15T15:34:50.779869Z",
     "shell.execute_reply.started": "2022-10-15T15:34:49.267392Z"
    }
   },
   "outputs": [
    {
     "name": "stderr",
     "output_type": "stream",
     "text": [
      "C:\\Users\\Izma Aziz\\anaconda3\\lib\\site-packages\\sklearn\\linear_model\\_logistic.py:444: ConvergenceWarning: lbfgs failed to converge (status=1):\n",
      "STOP: TOTAL NO. of ITERATIONS REACHED LIMIT.\n",
      "\n",
      "Increase the number of iterations (max_iter) or scale the data as shown in:\n",
      "    https://scikit-learn.org/stable/modules/preprocessing.html\n",
      "Please also refer to the documentation for alternative solver options:\n",
      "    https://scikit-learn.org/stable/modules/linear_model.html#logistic-regression\n",
      "  n_iter_i = _check_optimize_result(\n"
     ]
    },
    {
     "name": "stdout",
     "output_type": "stream",
     "text": [
      "Train Score using Logistic Regression:  71.38384470882906\n",
      "Test Score using Logistic Regression:  70.51643192488262\n",
      "Score using Decision Tree:  68.51330203442879\n",
      "Score using random Forest Classifier:  67.94992175273865\n"
     ]
    }
   ],
   "source": [
    "# Logistic Regression\n",
    "expertise = LogisticRegression()\n",
    "expertise.fit(X_train, y_train)\n",
    "y_pred = expertise.predict(X_test)\n",
    "print('Train Score using Logistic Regression: ',expertise.score(X_train, y_train)*100)\n",
    "print('Test Score using Logistic Regression: ',expertise.score(X_test, y_test)*100)\n",
    "\n",
    "\n",
    "# Decision Tree Classifier\n",
    "expertisetree = DecisionTreeClassifier(random_state=0)\n",
    "expertisetree.fit(X_train, y_train)\n",
    "y_pred = expertisetree.predict(X_test)\n",
    "print('Score using Decision Tree: ',accuracy_score(y_test, y_pred)*100)\n",
    "\n",
    "\n",
    "# Random Forest Classifier\n",
    "expertiseforest = RandomForestClassifier(random_state=0)\n",
    "expertiseforest.fit(X_train, y_train)\n",
    "y_pred = expertiseforest.predict(X_test)\n",
    "print('Score using random Forest Classifier: ',accuracy_score(y_test, y_pred)*100)"
   ]
  },
  {
   "cell_type": "markdown",
   "metadata": {},
   "source": [
    "Logistic Regression gave the best score hence we will move forward with this model for prediction."
   ]
  },
  {
   "cell_type": "markdown",
   "metadata": {},
   "source": [
    "# **Connection**"
   ]
  },
  {
   "cell_type": "markdown",
   "metadata": {},
   "source": [
    "Can connection impact work life balance score? We have isolated the following attributes that we think might contribute to a healthy mind:\n",
    "* 'CORE_CIRCLE'\n",
    "* 'SUPPORTING_OTHERS'\n",
    "* 'SOCIAL_NETWORK'"
   ]
  },
  {
   "cell_type": "code",
   "execution_count": 43,
   "metadata": {
    "execution": {
     "iopub.execute_input": "2022-10-15T15:38:24.713149Z",
     "iopub.status.busy": "2022-10-15T15:38:24.711961Z",
     "iopub.status.idle": "2022-10-15T15:38:26.102296Z",
     "shell.execute_reply": "2022-10-15T15:38:26.101108Z",
     "shell.execute_reply.started": "2022-10-15T15:38:24.713091Z"
    }
   },
   "outputs": [
    {
     "data": {
      "image/png": "[encoded data removed]",
      "text/plain": [
       "<Figure size 1152x720 with 4 Axes>"
      ]
     },
     "metadata": {
      "needs_background": "light"
     },
     "output_type": "display_data"
    }
   ],
   "source": [
    "# plotting the attributes individually against work life balance score to see their individual impacts\n",
    "f,ax = plt.subplots(2,2,figsize=(16,10))\n",
    "ax[0,0].set_title('WORK_LIFE_BALANCE_SCORE BY CORE_CIRCLE')\n",
    "ax[0,1].set_title('WORK_LIFE_BALANCE_SCORE BY SUPPORTING_OTHERS')\n",
    "ax[1,0].set_title('WORK_LIFE_BALANCE_SCORE BY SOCIAL_NETWORK')\n",
    "\n",
    "\n",
    "\n",
    "\n",
    "sns.pointplot(x = 'WORK_LIFE_BALANCE_SCORE', y = 'CORE_CIRCLE',  data=dataset, ax = ax[0,0])\n",
    "sns.pointplot(x = 'WORK_LIFE_BALANCE_SCORE', y = 'SUPPORTING_OTHERS',  data=dataset, ax = ax[0,1])\n",
    "sns.pointplot(x = 'WORK_LIFE_BALANCE_SCORE', y = 'SOCIAL_NETWORK', data=dataset, ax = ax[1,0])\n",
    "\n",
    "\n",
    "\n",
    "plt.show()"
   ]
  },
  {
   "cell_type": "markdown",
   "metadata": {},
   "source": [
    "Better social life seems to have a good impact on work life balance."
   ]
  },
  {
   "cell_type": "code",
   "execution_count": 44,
   "metadata": {
    "execution": {
     "iopub.execute_input": "2022-10-15T15:40:29.272923Z",
     "iopub.status.busy": "2022-10-15T15:40:29.271999Z",
     "iopub.status.idle": "2022-10-15T15:40:29.284769Z",
     "shell.execute_reply": "2022-10-15T15:40:29.283269Z",
     "shell.execute_reply.started": "2022-10-15T15:40:29.272885Z"
    }
   },
   "outputs": [],
   "source": [
    "X = dataset[['CORE_CIRCLE', 'SUPPORTING_OTHERS', 'SOCIAL_NETWORK']]\n",
    "y = dataset['WORK_LIFE_BALANCE_SCORE']"
   ]
  },
  {
   "cell_type": "code",
   "execution_count": 45,
   "metadata": {
    "execution": {
     "iopub.execute_input": "2022-10-15T15:40:31.288378Z",
     "iopub.status.busy": "2022-10-15T15:40:31.287977Z",
     "iopub.status.idle": "2022-10-15T15:40:31.297357Z",
     "shell.execute_reply": "2022-10-15T15:40:31.296018Z",
     "shell.execute_reply.started": "2022-10-15T15:40:31.288346Z"
    }
   },
   "outputs": [],
   "source": [
    "X_train, X_test, y_train, y_test = train_test_split(X, y, test_size=0.2, random_state = 42)"
   ]
  },
  {
   "cell_type": "code",
   "execution_count": 46,
   "metadata": {
    "execution": {
     "iopub.execute_input": "2022-10-15T15:40:34.119766Z",
     "iopub.status.busy": "2022-10-15T15:40:34.119359Z",
     "iopub.status.idle": "2022-10-15T15:40:35.450183Z",
     "shell.execute_reply": "2022-10-15T15:40:35.449067Z",
     "shell.execute_reply.started": "2022-10-15T15:40:34.119736Z"
    }
   },
   "outputs": [
    {
     "name": "stderr",
     "output_type": "stream",
     "text": [
      "C:\\Users\\Izma Aziz\\anaconda3\\lib\\site-packages\\sklearn\\linear_model\\_logistic.py:444: ConvergenceWarning: lbfgs failed to converge (status=1):\n",
      "STOP: TOTAL NO. of ITERATIONS REACHED LIMIT.\n",
      "\n",
      "Increase the number of iterations (max_iter) or scale the data as shown in:\n",
      "    https://scikit-learn.org/stable/modules/preprocessing.html\n",
      "Please also refer to the documentation for alternative solver options:\n",
      "    https://scikit-learn.org/stable/modules/linear_model.html#logistic-regression\n",
      "  n_iter_i = _check_optimize_result(\n"
     ]
    },
    {
     "name": "stdout",
     "output_type": "stream",
     "text": [
      "Train Score using Logistic Regression:  69.05917345021916\n",
      "Test Score using Logistic Regression:  67.19874804381847\n",
      "Score using Decision Tree:  67.19874804381847\n",
      "Score using random Forest Classifier:  66.97965571205008\n"
     ]
    }
   ],
   "source": [
    "# Logistic Regression\n",
    "connection = LogisticRegression()\n",
    "connection.fit(X_train, y_train)\n",
    "y_pred = connection.predict(X_test)\n",
    "print('Train Score using Logistic Regression: ',connection.score(X_train, y_train)*100)\n",
    "print('Test Score using Logistic Regression: ',connection.score(X_test, y_test)*100)\n",
    "\n",
    "\n",
    "# Decision Tree Classifier\n",
    "connectiontree = DecisionTreeClassifier(random_state=0)\n",
    "connectiontree.fit(X_train, y_train)\n",
    "y_pred = connectiontree.predict(X_test)\n",
    "print('Score using Decision Tree: ',accuracy_score(y_test, y_pred)*100)\n",
    "\n",
    "\n",
    "# Random Forest Classifier\n",
    "connectionforest = RandomForestClassifier(random_state=0)\n",
    "connectionforest.fit(X_train, y_train)\n",
    "y_pred = connectionforest.predict(X_test)\n",
    "print('Score using random Forest Classifier: ',accuracy_score(y_test, y_pred)*100)"
   ]
  },
  {
   "cell_type": "markdown",
   "metadata": {},
   "source": [
    "Logistic Regression gave the best score hence we will move forward with this model for prediction."
   ]
  },
  {
   "cell_type": "markdown",
   "metadata": {},
   "source": [
    "# **Meaning**"
   ]
  },
  {
   "cell_type": "markdown",
   "metadata": {},
   "source": [
    "Can meaning impact work life balance score? We have isolated the following attributes that we think might contribute to a healthy mind:\n",
    "* 'LIVE_VISION'\n",
    "* 'TIME_FOR_PASSION'\n"
   ]
  },
  {
   "cell_type": "code",
   "execution_count": 47,
   "metadata": {
    "execution": {
     "iopub.execute_input": "2022-10-15T15:44:37.185392Z",
     "iopub.status.busy": "2022-10-15T15:44:37.184944Z",
     "iopub.status.idle": "2022-10-15T15:44:38.043753Z",
     "shell.execute_reply": "2022-10-15T15:44:38.042568Z",
     "shell.execute_reply.started": "2022-10-15T15:44:37.185354Z"
    }
   },
   "outputs": [
    {
     "data": {
      "image/png": "[encoded data removed]",
      "text/plain": [
       "<Figure size 1152x360 with 2 Axes>"
      ]
     },
     "metadata": {
      "needs_background": "light"
     },
     "output_type": "display_data"
    }
   ],
   "source": [
    "# plotting the attributes individually against work life balance score to see their individual impacts\n",
    "f,ax = plt.subplots(1,2,figsize=(16,5))\n",
    "ax[0].set_title('WORK_LIFE_BALANCE_SCORE BY LIVE_VISION')\n",
    "ax[1].set_title('WORK_LIFE_BALANCE_SCORE BY TIME_FOR_PASSION')\n",
    "\n",
    "sns.pointplot(x = 'WORK_LIFE_BALANCE_SCORE', y = 'LIVE_VISION',  data=dataset, ax = ax[0])\n",
    "sns.pointplot(x = 'WORK_LIFE_BALANCE_SCORE', y = 'TIME_FOR_PASSION',  data=dataset, ax = ax[1])\n",
    "\n",
    "plt.show()"
   ]
  },
  {
   "cell_type": "code",
   "execution_count": 48,
   "metadata": {
    "execution": {
     "iopub.execute_input": "2022-10-15T15:46:07.154838Z",
     "iopub.status.busy": "2022-10-15T15:46:07.154440Z",
     "iopub.status.idle": "2022-10-15T15:46:07.162065Z",
     "shell.execute_reply": "2022-10-15T15:46:07.160742Z",
     "shell.execute_reply.started": "2022-10-15T15:46:07.154807Z"
    }
   },
   "outputs": [],
   "source": [
    "X = dataset[['LIVE_VISION', 'TIME_FOR_PASSION']]\n",
    "y = dataset['WORK_LIFE_BALANCE_SCORE']"
   ]
  },
  {
   "cell_type": "code",
   "execution_count": 49,
   "metadata": {
    "execution": {
     "iopub.execute_input": "2022-10-15T15:46:09.019907Z",
     "iopub.status.busy": "2022-10-15T15:46:09.019510Z",
     "iopub.status.idle": "2022-10-15T15:46:09.028647Z",
     "shell.execute_reply": "2022-10-15T15:46:09.027487Z",
     "shell.execute_reply.started": "2022-10-15T15:46:09.019875Z"
    }
   },
   "outputs": [],
   "source": [
    "X_train, X_test, y_train, y_test = train_test_split(X, y, test_size=0.2, random_state = 42)"
   ]
  },
  {
   "cell_type": "code",
   "execution_count": 50,
   "metadata": {
    "execution": {
     "iopub.execute_input": "2022-10-15T15:46:12.304974Z",
     "iopub.status.busy": "2022-10-15T15:46:12.304583Z",
     "iopub.status.idle": "2022-10-15T15:46:13.231987Z",
     "shell.execute_reply": "2022-10-15T15:46:13.230833Z",
     "shell.execute_reply.started": "2022-10-15T15:46:12.304944Z"
    }
   },
   "outputs": [
    {
     "name": "stdout",
     "output_type": "stream",
     "text": [
      "Train Score using Logistic Regression:  67.13368816530996\n",
      "Test Score using Logistic Regression:  67.0735524256651\n",
      "Score using Decision Tree:  66.57276995305165\n",
      "Score using random Forest Classifier:  66.7605633802817\n"
     ]
    }
   ],
   "source": [
    "# Logistic Regression\n",
    "meaning = LogisticRegression()\n",
    "meaning.fit(X_train, y_train)\n",
    "y_pred = meaning.predict(X_test)\n",
    "print('Train Score using Logistic Regression: ',meaning.score(X_train, y_train)*100)\n",
    "print('Test Score using Logistic Regression: ',meaning.score(X_test, y_test)*100)\n",
    "\n",
    "\n",
    "# Decision Tree Classifier\n",
    "meaningtree = DecisionTreeClassifier(random_state=0)\n",
    "meaningtree.fit(X_train, y_train)\n",
    "y_pred = meaningtree.predict(X_test)\n",
    "print('Score using Decision Tree: ',accuracy_score(y_test, y_pred)*100)\n",
    "\n",
    "\n",
    "# Random Forest Classifier\n",
    "meaningforest = RandomForestClassifier(random_state=0)\n",
    "meaningforest.fit(X_train, y_train)\n",
    "y_pred = meaningforest.predict(X_test)\n",
    "print('Score using random Forest Classifier: ',accuracy_score(y_test, y_pred)*100)"
   ]
  },
  {
   "cell_type": "markdown",
   "metadata": {},
   "source": [
    "# **Complete Model**"
   ]
  },
  {
   "cell_type": "code",
   "execution_count": 51,
   "metadata": {
    "execution": {
     "iopub.execute_input": "2022-10-15T15:54:53.969406Z",
     "iopub.status.busy": "2022-10-15T15:54:53.968948Z",
     "iopub.status.idle": "2022-10-15T15:54:53.985867Z",
     "shell.execute_reply": "2022-10-15T15:54:53.984629Z",
     "shell.execute_reply.started": "2022-10-15T15:54:53.969368Z"
    }
   },
   "outputs": [],
   "source": [
    "X = dataset.drop(['WORK_LIFE_BALANCE_SCORE'], axis=1)\n",
    "y = dataset['WORK_LIFE_BALANCE_SCORE']\n",
    "\n",
    "X_train, X_test, y_train, y_test = train_test_split(X, y, test_size=0.2, random_state = 42)"
   ]
  },
  {
   "cell_type": "code",
   "execution_count": 52,
   "metadata": {
    "execution": {
     "iopub.execute_input": "2022-10-15T15:54:55.307157Z",
     "iopub.status.busy": "2022-10-15T15:54:55.306070Z",
     "iopub.status.idle": "2022-10-15T15:54:56.508027Z",
     "shell.execute_reply": "2022-10-15T15:54:56.506476Z",
     "shell.execute_reply.started": "2022-10-15T15:54:55.307114Z"
    }
   },
   "outputs": [
    {
     "name": "stdout",
     "output_type": "stream",
     "text": [
      "Train Score using Logistic Regression:  87.0929868503444\n",
      "Test Score using Logistic Regression:  85.88419405320813\n"
     ]
    },
    {
     "name": "stderr",
     "output_type": "stream",
     "text": [
      "C:\\Users\\Izma Aziz\\anaconda3\\lib\\site-packages\\sklearn\\linear_model\\_logistic.py:444: ConvergenceWarning: lbfgs failed to converge (status=1):\n",
      "STOP: TOTAL NO. of ITERATIONS REACHED LIMIT.\n",
      "\n",
      "Increase the number of iterations (max_iter) or scale the data as shown in:\n",
      "    https://scikit-learn.org/stable/modules/preprocessing.html\n",
      "Please also refer to the documentation for alternative solver options:\n",
      "    https://scikit-learn.org/stable/modules/linear_model.html#logistic-regression\n",
      "  n_iter_i = _check_optimize_result(\n"
     ]
    }
   ],
   "source": [
    "# Logistic Regression\n",
    "hlthylife = LogisticRegression()\n",
    "hlthylife.fit(X_train, y_train)\n",
    "y_pred = hlthylife.predict(X_test)\n",
    "print('Train Score using Logistic Regression: ',hlthylife.score(X_train, y_train)*100)\n",
    "print('Test Score using Logistic Regression: ',hlthylife.score(X_test, y_test)*100)\n"
   ]
  },
  {
   "cell_type": "code",
   "execution_count": 53,
   "metadata": {
    "execution": {
     "iopub.execute_input": "2022-10-15T15:55:50.927468Z",
     "iopub.status.busy": "2022-10-15T15:55:50.927022Z",
     "iopub.status.idle": "2022-10-15T15:55:51.039683Z",
     "shell.execute_reply": "2022-10-15T15:55:51.038413Z",
     "shell.execute_reply.started": "2022-10-15T15:55:50.927432Z"
    }
   },
   "outputs": [
    {
     "name": "stdout",
     "output_type": "stream",
     "text": [
      "Score using Decision Tree:  72.7073552425665\n"
     ]
    }
   ],
   "source": [
    "# Decision Tree Classifier\n",
    "hlthylifetree = DecisionTreeClassifier(random_state=0)\n",
    "hlthylifetree.fit(X_train, y_train)\n",
    "y_pred =hlthylifetree.predict(X_test)\n",
    "print('Score using Decision Tree: ',accuracy_score(y_test, y_pred)*100)"
   ]
  },
  {
   "cell_type": "code",
   "execution_count": 54,
   "metadata": {
    "execution": {
     "iopub.execute_input": "2022-10-15T15:55:52.504817Z",
     "iopub.status.busy": "2022-10-15T15:55:52.503727Z",
     "iopub.status.idle": "2022-10-15T15:55:54.451779Z",
     "shell.execute_reply": "2022-10-15T15:55:54.450597Z",
     "shell.execute_reply.started": "2022-10-15T15:55:52.504771Z"
    }
   },
   "outputs": [
    {
     "name": "stdout",
     "output_type": "stream",
     "text": [
      "Score using random Forest Classifier:  83.59937402190923\n"
     ]
    }
   ],
   "source": [
    "# Random Forest Classifier\n",
    "hlthylifeforest = RandomForestClassifier(random_state=0)\n",
    "hlthylifeforest.fit(X_train, y_train)\n",
    "y_pred = hlthylifeforest.predict(X_test)\n",
    "print('Score using random Forest Classifier: ',accuracy_score(y_test, y_pred)*100)"
   ]
  },
  {
   "cell_type": "code",
   "execution_count": 55,
   "metadata": {
    "execution": {
     "iopub.execute_input": "2022-10-15T14:57:45.375661Z",
     "iopub.status.busy": "2022-10-15T14:57:45.375242Z",
     "iopub.status.idle": "2022-10-15T14:57:45.382996Z",
     "shell.execute_reply": "2022-10-15T14:57:45.381945Z",
     "shell.execute_reply.started": "2022-10-15T14:57:45.375627Z"
    }
   },
   "outputs": [],
   "source": [
    "# loading the model\n",
    "pickle.dump(healthybody, open('healthybody.pkl', 'wb'))\n",
    "pickle.dump(healthymind, open('healthymind.pkl', 'wb'))\n",
    "pickle.dump(expertise, open('expertise.pkl', 'wb'))\n",
    "pickle.dump(connection, open('connection.pkl', 'wb'))\n",
    "pickle.dump(meaning, open('meaning.pkl', 'wb'))\n",
    "pickle.dump(meaning, open('meaning.pkl', 'wb'))\n"
   ]
  },
  {
   "cell_type": "code",
   "execution_count": null,
   "metadata": {},
   "outputs": [],
   "source": []
  }
 ],
 "metadata": {
  "kernelspec": {
   "display_name": "Python 3 (ipykernel)",
   "language": "python",
   "name": "python3"
  },
  "language_info": {
   "codemirror_mode": {
    "name": "ipython",
    "version": 3
   },
   "file_extension": ".py",
   "mimetype": "text/x-python",
   "name": "python",
   "nbconvert_exporter": "python",
   "pygments_lexer": "ipython3",
   "version": "3.9.12"
  }
 },
 "nbformat": 4,
 "nbformat_minor": 4
}
