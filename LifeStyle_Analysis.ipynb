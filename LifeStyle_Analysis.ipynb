{
 "cells": [
  {
   "cell_type": "code",
   "execution_count": 1,
   "metadata": {
    "_cell_guid": "b1076dfc-b9ad-4769-8c92-a6c4dae69d19",
    "_uuid": "8f2839f25d086af736a60e9eeb907d3b93b6e0e5",
    "execution": {
     "iopub.execute_input": "2022-10-15T18:22:35.395400Z",
     "iopub.status.busy": "2022-10-15T18:22:35.395066Z",
     "iopub.status.idle": "2022-10-15T18:22:35.407927Z",
     "shell.execute_reply": "2022-10-15T18:22:35.406430Z",
     "shell.execute_reply.started": "2022-10-15T18:22:35.395366Z"
    }
   },
   "outputs": [],
   "source": [
    "# This Python 3 environment comes with many helpful analytics libraries installed\n",
    "# It is defined by the kaggle/python Docker image: https://github.com/kaggle/docker-python\n",
    "# For example, here's several helpful packages to load\n",
    "\n",
    "import numpy as np # linear algebra\n",
    "import pandas as pd # data processing, CSV file I/O (e.g. pd.read_csv)\n",
    "\n",
    "# Input data files are available in the read-only \"../input/\" directory\n",
    "# For example, running this (by clicking run or pressing Shift+Enter) will list all files under the input directory\n",
    "\n",
    "import os\n",
    "for dirname, _, filenames in os.walk('/kaggle/input'):\n",
    "    for filename in filenames:\n",
    "        print(os.path.join(dirname, filename))\n",
    "\n",
    "# You can write up to 20GB to the current directory (/kaggle/working/) that gets preserved as output when you create a version using \"Save & Run All\" \n",
    "# You can also write temporary files to /kaggle/temp/, but they won't be saved outside of the current session"
   ]
  },
  {
   "cell_type": "markdown",
   "metadata": {},
   "source": [
    "#  **Imports**"
   ]
  },
  {
   "cell_type": "code",
   "execution_count": 2,
   "metadata": {
    "execution": {
     "iopub.execute_input": "2022-10-15T18:22:35.410890Z",
     "iopub.status.busy": "2022-10-15T18:22:35.409670Z",
     "iopub.status.idle": "2022-10-15T18:22:35.428500Z",
     "shell.execute_reply": "2022-10-15T18:22:35.426983Z",
     "shell.execute_reply.started": "2022-10-15T18:22:35.410862Z"
    }
   },
   "outputs": [],
   "source": [
    "import pandas as pd\n",
    "import matplotlib.pyplot as plt\n",
    "import seaborn as sns\n",
    "import pickle\n",
    "from sklearn.model_selection import train_test_split\n",
    "from sklearn.linear_model import LogisticRegression\n",
    "from sklearn.metrics import accuracy_score\n",
    "from sklearn.tree import DecisionTreeClassifier\n",
    "from sklearn.ensemble import RandomForestClassifier"
   ]
  },
  {
   "cell_type": "code",
   "execution_count": 3,
   "metadata": {
    "execution": {
     "iopub.execute_input": "2022-10-15T18:22:35.431060Z",
     "iopub.status.busy": "2022-10-15T18:22:35.429605Z",
     "iopub.status.idle": "2022-10-15T18:22:35.444380Z",
     "shell.execute_reply": "2022-10-15T18:22:35.442869Z",
     "shell.execute_reply.started": "2022-10-15T18:22:35.431010Z"
    }
   },
   "outputs": [],
   "source": [
    "pd.set_option('display.max_columns', None)"
   ]
  },
  {
   "cell_type": "code",
   "execution_count": 4,
   "metadata": {
    "execution": {
     "iopub.execute_input": "2022-10-15T18:22:35.446754Z",
     "iopub.status.busy": "2022-10-15T18:22:35.446466Z",
     "iopub.status.idle": "2022-10-15T18:22:35.490631Z",
     "shell.execute_reply": "2022-10-15T18:22:35.488111Z",
     "shell.execute_reply.started": "2022-10-15T18:22:35.446728Z"
    }
   },
   "outputs": [],
   "source": [
    "dataset = pd.read_csv('Wellbeing_and_lifestyle_data_Kaggle.csv')"
   ]
  },
  {
   "cell_type": "code",
   "execution_count": 5,
   "metadata": {
    "execution": {
     "iopub.execute_input": "2022-10-15T18:22:35.492496Z",
     "iopub.status.busy": "2022-10-15T18:22:35.492051Z",
     "iopub.status.idle": "2022-10-15T18:22:35.515295Z",
     "shell.execute_reply": "2022-10-15T18:22:35.513882Z",
     "shell.execute_reply.started": "2022-10-15T18:22:35.492468Z"
    }
   },
   "outputs": [
    {
     "data": {
      "text/html": [
       "<div>\n",
       "<style scoped>\n",
       "    .dataframe tbody tr th:only-of-type {\n",
       "        vertical-align: middle;\n",
       "    }\n",
       "\n",
       "    .dataframe tbody tr th {\n",
       "        vertical-align: top;\n",
       "    }\n",
       "\n",
       "    .dataframe thead th {\n",
       "        text-align: right;\n",
       "    }\n",
       "</style>\n",
       "<table border=\"1\" class=\"dataframe\">\n",
       "  <thead>\n",
       "    <tr style=\"text-align: right;\">\n",
       "      <th></th>\n",
       "      <th>Timestamp</th>\n",
       "      <th>FRUITS_VEGGIES</th>\n",
       "      <th>DAILY_STRESS</th>\n",
       "      <th>PLACES_VISITED</th>\n",
       "      <th>CORE_CIRCLE</th>\n",
       "      <th>SUPPORTING_OTHERS</th>\n",
       "      <th>SOCIAL_NETWORK</th>\n",
       "      <th>ACHIEVEMENT</th>\n",
       "      <th>DONATION</th>\n",
       "      <th>BMI_RANGE</th>\n",
       "      <th>TODO_COMPLETED</th>\n",
       "      <th>FLOW</th>\n",
       "      <th>DAILY_STEPS</th>\n",
       "      <th>LIVE_VISION</th>\n",
       "      <th>SLEEP_HOURS</th>\n",
       "      <th>LOST_VACATION</th>\n",
       "      <th>DAILY_SHOUTING</th>\n",
       "      <th>SUFFICIENT_INCOME</th>\n",
       "      <th>PERSONAL_AWARDS</th>\n",
       "      <th>TIME_FOR_PASSION</th>\n",
       "      <th>WEEKLY_MEDITATION</th>\n",
       "      <th>AGE</th>\n",
       "      <th>GENDER</th>\n",
       "      <th>WORK_LIFE_BALANCE_SCORE</th>\n",
       "    </tr>\n",
       "  </thead>\n",
       "  <tbody>\n",
       "    <tr>\n",
       "      <th>0</th>\n",
       "      <td>7/7/15</td>\n",
       "      <td>3</td>\n",
       "      <td>2</td>\n",
       "      <td>2</td>\n",
       "      <td>5</td>\n",
       "      <td>0</td>\n",
       "      <td>5</td>\n",
       "      <td>2</td>\n",
       "      <td>0</td>\n",
       "      <td>1</td>\n",
       "      <td>6</td>\n",
       "      <td>4</td>\n",
       "      <td>5</td>\n",
       "      <td>0</td>\n",
       "      <td>7</td>\n",
       "      <td>5</td>\n",
       "      <td>5</td>\n",
       "      <td>1</td>\n",
       "      <td>4</td>\n",
       "      <td>0</td>\n",
       "      <td>5</td>\n",
       "      <td>36 to 50</td>\n",
       "      <td>Female</td>\n",
       "      <td>609.5</td>\n",
       "    </tr>\n",
       "    <tr>\n",
       "      <th>1</th>\n",
       "      <td>7/7/15</td>\n",
       "      <td>2</td>\n",
       "      <td>3</td>\n",
       "      <td>4</td>\n",
       "      <td>3</td>\n",
       "      <td>8</td>\n",
       "      <td>10</td>\n",
       "      <td>5</td>\n",
       "      <td>2</td>\n",
       "      <td>2</td>\n",
       "      <td>5</td>\n",
       "      <td>2</td>\n",
       "      <td>5</td>\n",
       "      <td>5</td>\n",
       "      <td>8</td>\n",
       "      <td>2</td>\n",
       "      <td>2</td>\n",
       "      <td>2</td>\n",
       "      <td>3</td>\n",
       "      <td>2</td>\n",
       "      <td>6</td>\n",
       "      <td>36 to 50</td>\n",
       "      <td>Female</td>\n",
       "      <td>655.6</td>\n",
       "    </tr>\n",
       "    <tr>\n",
       "      <th>2</th>\n",
       "      <td>7/7/15</td>\n",
       "      <td>2</td>\n",
       "      <td>3</td>\n",
       "      <td>3</td>\n",
       "      <td>4</td>\n",
       "      <td>4</td>\n",
       "      <td>10</td>\n",
       "      <td>3</td>\n",
       "      <td>2</td>\n",
       "      <td>2</td>\n",
       "      <td>2</td>\n",
       "      <td>2</td>\n",
       "      <td>4</td>\n",
       "      <td>5</td>\n",
       "      <td>8</td>\n",
       "      <td>10</td>\n",
       "      <td>2</td>\n",
       "      <td>2</td>\n",
       "      <td>4</td>\n",
       "      <td>8</td>\n",
       "      <td>3</td>\n",
       "      <td>36 to 50</td>\n",
       "      <td>Female</td>\n",
       "      <td>631.6</td>\n",
       "    </tr>\n",
       "    <tr>\n",
       "      <th>3</th>\n",
       "      <td>7/7/15</td>\n",
       "      <td>3</td>\n",
       "      <td>3</td>\n",
       "      <td>10</td>\n",
       "      <td>3</td>\n",
       "      <td>10</td>\n",
       "      <td>7</td>\n",
       "      <td>2</td>\n",
       "      <td>5</td>\n",
       "      <td>2</td>\n",
       "      <td>3</td>\n",
       "      <td>5</td>\n",
       "      <td>5</td>\n",
       "      <td>0</td>\n",
       "      <td>5</td>\n",
       "      <td>7</td>\n",
       "      <td>5</td>\n",
       "      <td>1</td>\n",
       "      <td>5</td>\n",
       "      <td>2</td>\n",
       "      <td>0</td>\n",
       "      <td>51 or more</td>\n",
       "      <td>Female</td>\n",
       "      <td>622.7</td>\n",
       "    </tr>\n",
       "    <tr>\n",
       "      <th>4</th>\n",
       "      <td>7/7/15</td>\n",
       "      <td>5</td>\n",
       "      <td>1</td>\n",
       "      <td>3</td>\n",
       "      <td>3</td>\n",
       "      <td>10</td>\n",
       "      <td>4</td>\n",
       "      <td>2</td>\n",
       "      <td>4</td>\n",
       "      <td>2</td>\n",
       "      <td>5</td>\n",
       "      <td>0</td>\n",
       "      <td>5</td>\n",
       "      <td>0</td>\n",
       "      <td>7</td>\n",
       "      <td>0</td>\n",
       "      <td>0</td>\n",
       "      <td>2</td>\n",
       "      <td>8</td>\n",
       "      <td>1</td>\n",
       "      <td>5</td>\n",
       "      <td>51 or more</td>\n",
       "      <td>Female</td>\n",
       "      <td>663.9</td>\n",
       "    </tr>\n",
       "  </tbody>\n",
       "</table>\n",
       "</div>"
      ],
      "text/plain": [
       "  Timestamp  FRUITS_VEGGIES DAILY_STRESS  PLACES_VISITED  CORE_CIRCLE  \\\n",
       "0    7/7/15               3            2               2            5   \n",
       "1    7/7/15               2            3               4            3   \n",
       "2    7/7/15               2            3               3            4   \n",
       "3    7/7/15               3            3              10            3   \n",
       "4    7/7/15               5            1               3            3   \n",
       "\n",
       "   SUPPORTING_OTHERS  SOCIAL_NETWORK  ACHIEVEMENT  DONATION  BMI_RANGE  \\\n",
       "0                  0               5            2         0          1   \n",
       "1                  8              10            5         2          2   \n",
       "2                  4              10            3         2          2   \n",
       "3                 10               7            2         5          2   \n",
       "4                 10               4            2         4          2   \n",
       "\n",
       "   TODO_COMPLETED  FLOW  DAILY_STEPS  LIVE_VISION  SLEEP_HOURS  LOST_VACATION  \\\n",
       "0               6     4            5            0            7              5   \n",
       "1               5     2            5            5            8              2   \n",
       "2               2     2            4            5            8             10   \n",
       "3               3     5            5            0            5              7   \n",
       "4               5     0            5            0            7              0   \n",
       "\n",
       "   DAILY_SHOUTING  SUFFICIENT_INCOME  PERSONAL_AWARDS  TIME_FOR_PASSION  \\\n",
       "0               5                  1                4                 0   \n",
       "1               2                  2                3                 2   \n",
       "2               2                  2                4                 8   \n",
       "3               5                  1                5                 2   \n",
       "4               0                  2                8                 1   \n",
       "\n",
       "   WEEKLY_MEDITATION         AGE  GENDER  WORK_LIFE_BALANCE_SCORE  \n",
       "0                  5    36 to 50  Female                    609.5  \n",
       "1                  6    36 to 50  Female                    655.6  \n",
       "2                  3    36 to 50  Female                    631.6  \n",
       "3                  0  51 or more  Female                    622.7  \n",
       "4                  5  51 or more  Female                    663.9  "
      ]
     },
     "execution_count": 5,
     "metadata": {},
     "output_type": "execute_result"
    }
   ],
   "source": [
    "dataset.head()"
   ]
  },
  {
   "cell_type": "code",
   "execution_count": 6,
   "metadata": {
    "execution": {
     "iopub.execute_input": "2022-10-15T18:22:35.516811Z",
     "iopub.status.busy": "2022-10-15T18:22:35.516512Z",
     "iopub.status.idle": "2022-10-15T18:22:35.536800Z",
     "shell.execute_reply": "2022-10-15T18:22:35.535014Z",
     "shell.execute_reply.started": "2022-10-15T18:22:35.516759Z"
    }
   },
   "outputs": [
    {
     "name": "stdout",
     "output_type": "stream",
     "text": [
      "<class 'pandas.core.frame.DataFrame'>\n",
      "RangeIndex: 15972 entries, 0 to 15971\n",
      "Data columns (total 24 columns):\n",
      " #   Column                   Non-Null Count  Dtype  \n",
      "---  ------                   --------------  -----  \n",
      " 0   Timestamp                15972 non-null  object \n",
      " 1   FRUITS_VEGGIES           15972 non-null  int64  \n",
      " 2   DAILY_STRESS             15972 non-null  object \n",
      " 3   PLACES_VISITED           15972 non-null  int64  \n",
      " 4   CORE_CIRCLE              15972 non-null  int64  \n",
      " 5   SUPPORTING_OTHERS        15972 non-null  int64  \n",
      " 6   SOCIAL_NETWORK           15972 non-null  int64  \n",
      " 7   ACHIEVEMENT              15972 non-null  int64  \n",
      " 8   DONATION                 15972 non-null  int64  \n",
      " 9   BMI_RANGE                15972 non-null  int64  \n",
      " 10  TODO_COMPLETED           15972 non-null  int64  \n",
      " 11  FLOW                     15972 non-null  int64  \n",
      " 12  DAILY_STEPS              15972 non-null  int64  \n",
      " 13  LIVE_VISION              15972 non-null  int64  \n",
      " 14  SLEEP_HOURS              15972 non-null  int64  \n",
      " 15  LOST_VACATION            15972 non-null  int64  \n",
      " 16  DAILY_SHOUTING           15972 non-null  int64  \n",
      " 17  SUFFICIENT_INCOME        15972 non-null  int64  \n",
      " 18  PERSONAL_AWARDS          15972 non-null  int64  \n",
      " 19  TIME_FOR_PASSION         15972 non-null  int64  \n",
      " 20  WEEKLY_MEDITATION        15972 non-null  int64  \n",
      " 21  AGE                      15972 non-null  object \n",
      " 22  GENDER                   15972 non-null  object \n",
      " 23  WORK_LIFE_BALANCE_SCORE  15972 non-null  float64\n",
      "dtypes: float64(1), int64(19), object(4)\n",
      "memory usage: 2.9+ MB\n"
     ]
    }
   ],
   "source": [
    "dataset.info()"
   ]
  },
  {
   "cell_type": "markdown",
   "metadata": {},
   "source": [
    "- how does income impact work life balance?\n",
    "- how does a healthy body/healthy mind/expertise/connection/meaning influence lifestyle?\n",
    "- which age group has a better work life balance?\n",
    "- which gender has a better work life balance?\n",
    "- healthy body: FRUITS_VEGGIES, BMI_RANGE, DAILY_STEPS, SLEEP_HOURS\n",
    "- healthy mind: DAILY_STRESS, SLEEP_HOURS, DAILY_SHOUTING, WEEKLY_MEDITATION, FLOW\n",
    "- expertise: ACHIEVEMENT, TODO_COMPLETED, SUFFICIENT_INCOME, PERSONAL_AWARDS\n",
    "- connection: CORE_CIRCLE, SUPPORTING_OTHERS, SOCIAL_NETWORK\n",
    "- meaning: LIVE_VISION, TIME_FOR_PASSION "
   ]
  },
  {
   "cell_type": "markdown",
   "metadata": {},
   "source": [
    "# **Data Cleaning**"
   ]
  },
  {
   "cell_type": "code",
   "execution_count": 7,
   "metadata": {
    "execution": {
     "iopub.execute_input": "2022-10-15T18:22:35.539377Z",
     "iopub.status.busy": "2022-10-15T18:22:35.538039Z",
     "iopub.status.idle": "2022-10-15T18:22:35.549238Z",
     "shell.execute_reply": "2022-10-15T18:22:35.547625Z",
     "shell.execute_reply.started": "2022-10-15T18:22:35.539324Z"
    }
   },
   "outputs": [
    {
     "data": {
      "text/plain": [
       "3         4398\n",
       "2         3407\n",
       "4         2960\n",
       "1         2478\n",
       "5         2052\n",
       "0          676\n",
       "1/1/00       1\n",
       "Name: DAILY_STRESS, dtype: int64"
      ]
     },
     "execution_count": 7,
     "metadata": {},
     "output_type": "execute_result"
    }
   ],
   "source": [
    "dataset['DAILY_STRESS'].value_counts()"
   ]
  },
  {
   "cell_type": "code",
   "execution_count": 8,
   "metadata": {
    "execution": {
     "iopub.execute_input": "2022-10-15T18:22:35.551297Z",
     "iopub.status.busy": "2022-10-15T18:22:35.550835Z",
     "iopub.status.idle": "2022-10-15T18:22:35.577193Z",
     "shell.execute_reply": "2022-10-15T18:22:35.575848Z",
     "shell.execute_reply.started": "2022-10-15T18:22:35.551269Z"
    }
   },
   "outputs": [
    {
     "data": {
      "text/html": [
       "<div>\n",
       "<style scoped>\n",
       "    .dataframe tbody tr th:only-of-type {\n",
       "        vertical-align: middle;\n",
       "    }\n",
       "\n",
       "    .dataframe tbody tr th {\n",
       "        vertical-align: top;\n",
       "    }\n",
       "\n",
       "    .dataframe thead th {\n",
       "        text-align: right;\n",
       "    }\n",
       "</style>\n",
       "<table border=\"1\" class=\"dataframe\">\n",
       "  <thead>\n",
       "    <tr style=\"text-align: right;\">\n",
       "      <th></th>\n",
       "      <th>Timestamp</th>\n",
       "      <th>FRUITS_VEGGIES</th>\n",
       "      <th>DAILY_STRESS</th>\n",
       "      <th>PLACES_VISITED</th>\n",
       "      <th>CORE_CIRCLE</th>\n",
       "      <th>SUPPORTING_OTHERS</th>\n",
       "      <th>SOCIAL_NETWORK</th>\n",
       "      <th>ACHIEVEMENT</th>\n",
       "      <th>DONATION</th>\n",
       "      <th>BMI_RANGE</th>\n",
       "      <th>TODO_COMPLETED</th>\n",
       "      <th>FLOW</th>\n",
       "      <th>DAILY_STEPS</th>\n",
       "      <th>LIVE_VISION</th>\n",
       "      <th>SLEEP_HOURS</th>\n",
       "      <th>LOST_VACATION</th>\n",
       "      <th>DAILY_SHOUTING</th>\n",
       "      <th>SUFFICIENT_INCOME</th>\n",
       "      <th>PERSONAL_AWARDS</th>\n",
       "      <th>TIME_FOR_PASSION</th>\n",
       "      <th>WEEKLY_MEDITATION</th>\n",
       "      <th>AGE</th>\n",
       "      <th>GENDER</th>\n",
       "      <th>WORK_LIFE_BALANCE_SCORE</th>\n",
       "    </tr>\n",
       "  </thead>\n",
       "  <tbody>\n",
       "    <tr>\n",
       "      <th>10005</th>\n",
       "      <td>12/18/18 10:37</td>\n",
       "      <td>3</td>\n",
       "      <td>1/1/00</td>\n",
       "      <td>1</td>\n",
       "      <td>2</td>\n",
       "      <td>10</td>\n",
       "      <td>10</td>\n",
       "      <td>5</td>\n",
       "      <td>5</td>\n",
       "      <td>2</td>\n",
       "      <td>6</td>\n",
       "      <td>8</td>\n",
       "      <td>6</td>\n",
       "      <td>3</td>\n",
       "      <td>6</td>\n",
       "      <td>10</td>\n",
       "      <td>1</td>\n",
       "      <td>2</td>\n",
       "      <td>10</td>\n",
       "      <td>8</td>\n",
       "      <td>2</td>\n",
       "      <td>21 to 35</td>\n",
       "      <td>Male</td>\n",
       "      <td>682.6</td>\n",
       "    </tr>\n",
       "  </tbody>\n",
       "</table>\n",
       "</div>"
      ],
      "text/plain": [
       "            Timestamp  FRUITS_VEGGIES DAILY_STRESS  PLACES_VISITED  \\\n",
       "10005  12/18/18 10:37               3       1/1/00               1   \n",
       "\n",
       "       CORE_CIRCLE  SUPPORTING_OTHERS  SOCIAL_NETWORK  ACHIEVEMENT  DONATION  \\\n",
       "10005            2                 10              10            5         5   \n",
       "\n",
       "       BMI_RANGE  TODO_COMPLETED  FLOW  DAILY_STEPS  LIVE_VISION  SLEEP_HOURS  \\\n",
       "10005          2               6     8            6            3            6   \n",
       "\n",
       "       LOST_VACATION  DAILY_SHOUTING  SUFFICIENT_INCOME  PERSONAL_AWARDS  \\\n",
       "10005             10               1                  2               10   \n",
       "\n",
       "       TIME_FOR_PASSION  WEEKLY_MEDITATION       AGE GENDER  \\\n",
       "10005                 8                  2  21 to 35   Male   \n",
       "\n",
       "       WORK_LIFE_BALANCE_SCORE  \n",
       "10005                    682.6  "
      ]
     },
     "execution_count": 8,
     "metadata": {},
     "output_type": "execute_result"
    }
   ],
   "source": [
    "dataset[dataset['DAILY_STRESS']=='1/1/00']"
   ]
  },
  {
   "cell_type": "code",
   "execution_count": 9,
   "metadata": {
    "execution": {
     "iopub.execute_input": "2022-10-15T18:22:35.579402Z",
     "iopub.status.busy": "2022-10-15T18:22:35.579041Z",
     "iopub.status.idle": "2022-10-15T18:22:35.588184Z",
     "shell.execute_reply": "2022-10-15T18:22:35.586992Z",
     "shell.execute_reply.started": "2022-10-15T18:22:35.579368Z"
    }
   },
   "outputs": [],
   "source": [
    "dataset.drop(10005, inplace = True)"
   ]
  },
  {
   "cell_type": "code",
   "execution_count": 10,
   "metadata": {
    "execution": {
     "iopub.execute_input": "2022-10-15T18:22:35.594020Z",
     "iopub.status.busy": "2022-10-15T18:22:35.593661Z",
     "iopub.status.idle": "2022-10-15T18:22:35.609382Z",
     "shell.execute_reply": "2022-10-15T18:22:35.608615Z",
     "shell.execute_reply.started": "2022-10-15T18:22:35.593994Z"
    }
   },
   "outputs": [
    {
     "data": {
      "text/html": [
       "<div>\n",
       "<style scoped>\n",
       "    .dataframe tbody tr th:only-of-type {\n",
       "        vertical-align: middle;\n",
       "    }\n",
       "\n",
       "    .dataframe tbody tr th {\n",
       "        vertical-align: top;\n",
       "    }\n",
       "\n",
       "    .dataframe thead th {\n",
       "        text-align: right;\n",
       "    }\n",
       "</style>\n",
       "<table border=\"1\" class=\"dataframe\">\n",
       "  <thead>\n",
       "    <tr style=\"text-align: right;\">\n",
       "      <th></th>\n",
       "      <th>Timestamp</th>\n",
       "      <th>FRUITS_VEGGIES</th>\n",
       "      <th>DAILY_STRESS</th>\n",
       "      <th>PLACES_VISITED</th>\n",
       "      <th>CORE_CIRCLE</th>\n",
       "      <th>SUPPORTING_OTHERS</th>\n",
       "      <th>SOCIAL_NETWORK</th>\n",
       "      <th>ACHIEVEMENT</th>\n",
       "      <th>DONATION</th>\n",
       "      <th>BMI_RANGE</th>\n",
       "      <th>TODO_COMPLETED</th>\n",
       "      <th>FLOW</th>\n",
       "      <th>DAILY_STEPS</th>\n",
       "      <th>LIVE_VISION</th>\n",
       "      <th>SLEEP_HOURS</th>\n",
       "      <th>LOST_VACATION</th>\n",
       "      <th>DAILY_SHOUTING</th>\n",
       "      <th>SUFFICIENT_INCOME</th>\n",
       "      <th>PERSONAL_AWARDS</th>\n",
       "      <th>TIME_FOR_PASSION</th>\n",
       "      <th>WEEKLY_MEDITATION</th>\n",
       "      <th>AGE</th>\n",
       "      <th>GENDER</th>\n",
       "      <th>WORK_LIFE_BALANCE_SCORE</th>\n",
       "    </tr>\n",
       "  </thead>\n",
       "  <tbody>\n",
       "  </tbody>\n",
       "</table>\n",
       "</div>"
      ],
      "text/plain": [
       "Empty DataFrame\n",
       "Columns: [Timestamp, FRUITS_VEGGIES, DAILY_STRESS, PLACES_VISITED, CORE_CIRCLE, SUPPORTING_OTHERS, SOCIAL_NETWORK, ACHIEVEMENT, DONATION, BMI_RANGE, TODO_COMPLETED, FLOW, DAILY_STEPS, LIVE_VISION, SLEEP_HOURS, LOST_VACATION, DAILY_SHOUTING, SUFFICIENT_INCOME, PERSONAL_AWARDS, TIME_FOR_PASSION, WEEKLY_MEDITATION, AGE, GENDER, WORK_LIFE_BALANCE_SCORE]\n",
       "Index: []"
      ]
     },
     "execution_count": 10,
     "metadata": {},
     "output_type": "execute_result"
    }
   ],
   "source": [
    "# the wrong record was dropped successfully\n",
    "dataset[dataset['DAILY_STRESS']=='1/1/00']"
   ]
  },
  {
   "cell_type": "code",
   "execution_count": 11,
   "metadata": {
    "execution": {
     "iopub.execute_input": "2022-10-15T18:22:35.610835Z",
     "iopub.status.busy": "2022-10-15T18:22:35.610475Z",
     "iopub.status.idle": "2022-10-15T18:22:35.618836Z",
     "shell.execute_reply": "2022-10-15T18:22:35.617460Z",
     "shell.execute_reply.started": "2022-10-15T18:22:35.610801Z"
    }
   },
   "outputs": [],
   "source": [
    "dataset['DAILY_STRESS'] = dataset['DAILY_STRESS'].astype('int64')"
   ]
  },
  {
   "cell_type": "code",
   "execution_count": 12,
   "metadata": {
    "execution": {
     "iopub.execute_input": "2022-10-15T18:22:35.621601Z",
     "iopub.status.busy": "2022-10-15T18:22:35.620165Z",
     "iopub.status.idle": "2022-10-15T18:22:35.643872Z",
     "shell.execute_reply": "2022-10-15T18:22:35.642039Z",
     "shell.execute_reply.started": "2022-10-15T18:22:35.621354Z"
    }
   },
   "outputs": [
    {
     "data": {
      "text/plain": [
       "21 to 35        6107\n",
       "36 to 50        4655\n",
       "51 or more      3390\n",
       "Less than 20    1819\n",
       "Name: AGE, dtype: int64"
      ]
     },
     "execution_count": 12,
     "metadata": {},
     "output_type": "execute_result"
    }
   ],
   "source": [
    "dataset['AGE'].value_counts()"
   ]
  },
  {
   "cell_type": "code",
   "execution_count": 13,
   "metadata": {
    "execution": {
     "iopub.execute_input": "2022-10-15T18:22:35.647468Z",
     "iopub.status.busy": "2022-10-15T18:22:35.647083Z",
     "iopub.status.idle": "2022-10-15T18:22:35.666884Z",
     "shell.execute_reply": "2022-10-15T18:22:35.664916Z",
     "shell.execute_reply.started": "2022-10-15T18:22:35.647438Z"
    }
   },
   "outputs": [],
   "source": [
    "age_replacement_dict = {'Less than 20': 0, '21 to 35': 1, '36 to 50': 2, '51 or more': 3}\n",
    "dataset.replace({'AGE': age_replacement_dict}, inplace= True)"
   ]
  },
  {
   "cell_type": "code",
   "execution_count": 14,
   "metadata": {
    "execution": {
     "iopub.execute_input": "2022-10-15T18:22:35.669011Z",
     "iopub.status.busy": "2022-10-15T18:22:35.668643Z",
     "iopub.status.idle": "2022-10-15T18:22:35.678162Z",
     "shell.execute_reply": "2022-10-15T18:22:35.677154Z",
     "shell.execute_reply.started": "2022-10-15T18:22:35.668972Z"
    }
   },
   "outputs": [
    {
     "data": {
      "text/plain": [
       "1    6107\n",
       "2    4655\n",
       "3    3390\n",
       "0    1819\n",
       "Name: AGE, dtype: int64"
      ]
     },
     "execution_count": 14,
     "metadata": {},
     "output_type": "execute_result"
    }
   ],
   "source": [
    "# age values converted successfully\n",
    "dataset['AGE'].value_counts()"
   ]
  },
  {
   "cell_type": "code",
   "execution_count": 15,
   "metadata": {
    "execution": {
     "iopub.execute_input": "2022-10-15T18:22:35.680449Z",
     "iopub.status.busy": "2022-10-15T18:22:35.679970Z",
     "iopub.status.idle": "2022-10-15T18:22:35.700970Z",
     "shell.execute_reply": "2022-10-15T18:22:35.699345Z",
     "shell.execute_reply.started": "2022-10-15T18:22:35.680422Z"
    }
   },
   "outputs": [],
   "source": [
    "gender_replacement_dict = {'Female' : 1, 'Male' : 0}\n",
    "dataset.replace({'GENDER': gender_replacement_dict}, inplace= True)"
   ]
  },
  {
   "cell_type": "code",
   "execution_count": 16,
   "metadata": {
    "execution": {
     "iopub.execute_input": "2022-10-15T18:22:35.703381Z",
     "iopub.status.busy": "2022-10-15T18:22:35.702204Z",
     "iopub.status.idle": "2022-10-15T18:22:35.719336Z",
     "shell.execute_reply": "2022-10-15T18:22:35.716754Z",
     "shell.execute_reply.started": "2022-10-15T18:22:35.703313Z"
    }
   },
   "outputs": [
    {
     "data": {
      "text/plain": [
       "1    9858\n",
       "0    6113\n",
       "Name: GENDER, dtype: int64"
      ]
     },
     "execution_count": 16,
     "metadata": {},
     "output_type": "execute_result"
    }
   ],
   "source": [
    "# gender values converted successfully\n",
    "dataset['GENDER'].value_counts()"
   ]
  },
  {
   "cell_type": "code",
   "execution_count": 17,
   "metadata": {
    "execution": {
     "iopub.execute_input": "2022-10-15T18:22:35.721966Z",
     "iopub.status.busy": "2022-10-15T18:22:35.721160Z",
     "iopub.status.idle": "2022-10-15T18:22:35.736567Z",
     "shell.execute_reply": "2022-10-15T18:22:35.735064Z",
     "shell.execute_reply.started": "2022-10-15T18:22:35.721883Z"
    }
   },
   "outputs": [],
   "source": [
    "# dropping Timestamp since it is of no use to the prediction\n",
    "dataset.drop('Timestamp', axis=1, inplace = True)"
   ]
  },
  {
   "cell_type": "code",
   "execution_count": 18,
   "metadata": {
    "execution": {
     "iopub.execute_input": "2022-10-15T18:22:35.740221Z",
     "iopub.status.busy": "2022-10-15T18:22:35.739302Z",
     "iopub.status.idle": "2022-10-15T18:22:35.766390Z",
     "shell.execute_reply": "2022-10-15T18:22:35.764425Z",
     "shell.execute_reply.started": "2022-10-15T18:22:35.740102Z"
    }
   },
   "outputs": [
    {
     "name": "stdout",
     "output_type": "stream",
     "text": [
      "<class 'pandas.core.frame.DataFrame'>\n",
      "Int64Index: 15971 entries, 0 to 15971\n",
      "Data columns (total 23 columns):\n",
      " #   Column                   Non-Null Count  Dtype  \n",
      "---  ------                   --------------  -----  \n",
      " 0   FRUITS_VEGGIES           15971 non-null  int64  \n",
      " 1   DAILY_STRESS             15971 non-null  int64  \n",
      " 2   PLACES_VISITED           15971 non-null  int64  \n",
      " 3   CORE_CIRCLE              15971 non-null  int64  \n",
      " 4   SUPPORTING_OTHERS        15971 non-null  int64  \n",
      " 5   SOCIAL_NETWORK           15971 non-null  int64  \n",
      " 6   ACHIEVEMENT              15971 non-null  int64  \n",
      " 7   DONATION                 15971 non-null  int64  \n",
      " 8   BMI_RANGE                15971 non-null  int64  \n",
      " 9   TODO_COMPLETED           15971 non-null  int64  \n",
      " 10  FLOW                     15971 non-null  int64  \n",
      " 11  DAILY_STEPS              15971 non-null  int64  \n",
      " 12  LIVE_VISION              15971 non-null  int64  \n",
      " 13  SLEEP_HOURS              15971 non-null  int64  \n",
      " 14  LOST_VACATION            15971 non-null  int64  \n",
      " 15  DAILY_SHOUTING           15971 non-null  int64  \n",
      " 16  SUFFICIENT_INCOME        15971 non-null  int64  \n",
      " 17  PERSONAL_AWARDS          15971 non-null  int64  \n",
      " 18  TIME_FOR_PASSION         15971 non-null  int64  \n",
      " 19  WEEKLY_MEDITATION        15971 non-null  int64  \n",
      " 20  AGE                      15971 non-null  int64  \n",
      " 21  GENDER                   15971 non-null  int64  \n",
      " 22  WORK_LIFE_BALANCE_SCORE  15971 non-null  float64\n",
      "dtypes: float64(1), int64(22)\n",
      "memory usage: 2.9 MB\n"
     ]
    }
   ],
   "source": [
    "dataset.info()"
   ]
  },
  {
   "cell_type": "code",
   "execution_count": 19,
   "metadata": {
    "execution": {
     "iopub.execute_input": "2022-10-15T18:22:35.768630Z",
     "iopub.status.busy": "2022-10-15T18:22:35.768248Z",
     "iopub.status.idle": "2022-10-15T18:22:35.781463Z",
     "shell.execute_reply": "2022-10-15T18:22:35.779966Z",
     "shell.execute_reply.started": "2022-10-15T18:22:35.768600Z"
    }
   },
   "outputs": [],
   "source": [
    "dataset.loc[dataset['WORK_LIFE_BALANCE_SCORE'] <=550, 'WORK_LIFE_BALANCE_SCORE'] = 0\n",
    "dataset.loc[(dataset['WORK_LIFE_BALANCE_SCORE'] >550) & (dataset['WORK_LIFE_BALANCE_SCORE'] <=680), 'WORK_LIFE_BALANCE_SCORE'] = 1\n",
    "dataset.loc[(dataset['WORK_LIFE_BALANCE_SCORE'] >680) & (dataset['WORK_LIFE_BALANCE_SCORE'] <=700), 'WORK_LIFE_BALANCE_SCORE'] = 2\n",
    "dataset.loc[dataset['WORK_LIFE_BALANCE_SCORE'] >700, 'WORK_LIFE_BALANCE_SCORE'] = 3"
   ]
  },
  {
   "cell_type": "code",
   "execution_count": 20,
   "metadata": {
    "execution": {
     "iopub.execute_input": "2022-10-15T18:22:35.784433Z",
     "iopub.status.busy": "2022-10-15T18:22:35.784006Z",
     "iopub.status.idle": "2022-10-15T18:22:35.795936Z",
     "shell.execute_reply": "2022-10-15T18:22:35.795179Z",
     "shell.execute_reply.started": "2022-10-15T18:22:35.784394Z"
    }
   },
   "outputs": [
    {
     "data": {
      "text/plain": [
       "1.0    9628\n",
       "3.0    3786\n",
       "2.0    2483\n",
       "0.0      74\n",
       "Name: WORK_LIFE_BALANCE_SCORE, dtype: int64"
      ]
     },
     "execution_count": 20,
     "metadata": {},
     "output_type": "execute_result"
    }
   ],
   "source": [
    "dataset['WORK_LIFE_BALANCE_SCORE'].value_counts()"
   ]
  },
  {
   "cell_type": "code",
   "execution_count": 21,
   "metadata": {
    "execution": {
     "iopub.execute_input": "2022-10-15T18:22:35.797889Z",
     "iopub.status.busy": "2022-10-15T18:22:35.796975Z",
     "iopub.status.idle": "2022-10-15T18:22:35.816176Z",
     "shell.execute_reply": "2022-10-15T18:22:35.814121Z",
     "shell.execute_reply.started": "2022-10-15T18:22:35.797859Z"
    }
   },
   "outputs": [
    {
     "data": {
      "text/plain": [
       "0     8115\n",
       "10    2238\n",
       "5     1240\n",
       "2      874\n",
       "3      807\n",
       "4      671\n",
       "1      600\n",
       "7      587\n",
       "8      373\n",
       "6      343\n",
       "9      123\n",
       "Name: LOST_VACATION, dtype: int64"
      ]
     },
     "execution_count": 21,
     "metadata": {},
     "output_type": "execute_result"
    }
   ],
   "source": [
    "dataset['LOST_VACATION'].value_counts()"
   ]
  },
  {
   "cell_type": "code",
   "execution_count": 22,
   "metadata": {
    "execution": {
     "iopub.execute_input": "2022-10-15T18:22:35.819248Z",
     "iopub.status.busy": "2022-10-15T18:22:35.818019Z",
     "iopub.status.idle": "2022-10-15T18:22:36.012819Z",
     "shell.execute_reply": "2022-10-15T18:22:36.011822Z",
     "shell.execute_reply.started": "2022-10-15T18:22:35.819215Z"
    }
   },
   "outputs": [
    {
     "data": {
      "text/plain": [
       "(array([8115.,  600.,  874.,  807.,  671., 1240.,  343.,  587.,  373.,\n",
       "        2361.]),\n",
       " array([ 0.,  1.,  2.,  3.,  4.,  5.,  6.,  7.,  8.,  9., 10.]),\n",
       " <BarContainer object of 10 artists>)"
      ]
     },
     "execution_count": 22,
     "metadata": {},
     "output_type": "execute_result"
    },
    {
     "data": {
      "image/png": "[encoded data removed]",
      "text/plain": [
       "<Figure size 432x288 with 1 Axes>"
      ]
     },
     "metadata": {
      "needs_background": "light"
     },
     "output_type": "display_data"
    }
   ],
   "source": [
    "plt.hist(dataset['LOST_VACATION'])"
   ]
  },
  {
   "cell_type": "code",
   "execution_count": 23,
   "metadata": {
    "execution": {
     "iopub.execute_input": "2022-10-15T18:22:36.014688Z",
     "iopub.status.busy": "2022-10-15T18:22:36.014327Z",
     "iopub.status.idle": "2022-10-15T18:22:36.024187Z",
     "shell.execute_reply": "2022-10-15T18:22:36.022732Z",
     "shell.execute_reply.started": "2022-10-15T18:22:36.014664Z"
    }
   },
   "outputs": [
    {
     "data": {
      "text/plain": [
       "10    3558\n",
       "5     1862\n",
       "3     1840\n",
       "2     1787\n",
       "4     1503\n",
       "1     1252\n",
       "6     1136\n",
       "0     1016\n",
       "8      881\n",
       "7      878\n",
       "9      258\n",
       "Name: PLACES_VISITED, dtype: int64"
      ]
     },
     "execution_count": 23,
     "metadata": {},
     "output_type": "execute_result"
    }
   ],
   "source": [
    "dataset['PLACES_VISITED'].value_counts()"
   ]
  },
  {
   "cell_type": "code",
   "execution_count": 24,
   "metadata": {
    "execution": {
     "iopub.execute_input": "2022-10-15T18:22:36.026686Z",
     "iopub.status.busy": "2022-10-15T18:22:36.026305Z",
     "iopub.status.idle": "2022-10-15T18:22:36.207414Z",
     "shell.execute_reply": "2022-10-15T18:22:36.205066Z",
     "shell.execute_reply.started": "2022-10-15T18:22:36.026660Z"
    }
   },
   "outputs": [
    {
     "data": {
      "text/plain": [
       "(array([1016., 1252., 1787., 1840., 1503., 1862., 1136.,  878.,  881.,\n",
       "        3816.]),\n",
       " array([ 0.,  1.,  2.,  3.,  4.,  5.,  6.,  7.,  8.,  9., 10.]),\n",
       " <BarContainer object of 10 artists>)"
      ]
     },
     "execution_count": 24,
     "metadata": {},
     "output_type": "execute_result"
    },
    {
     "data": {
      "image/png": "[encoded data removed]",
      "text/plain": [
       "<Figure size 432x288 with 1 Axes>"
      ]
     },
     "metadata": {
      "needs_background": "light"
     },
     "output_type": "display_data"
    }
   ],
   "source": [
    "plt.hist(dataset['PLACES_VISITED'])"
   ]
  },
  {
   "cell_type": "code",
   "execution_count": 25,
   "metadata": {
    "execution": {
     "iopub.execute_input": "2022-10-15T18:22:36.209322Z",
     "iopub.status.busy": "2022-10-15T18:22:36.208958Z",
     "iopub.status.idle": "2022-10-15T18:22:36.394451Z",
     "shell.execute_reply": "2022-10-15T18:22:36.392922Z",
     "shell.execute_reply.started": "2022-10-15T18:22:36.209292Z"
    }
   },
   "outputs": [
    {
     "data": {
      "text/plain": [
       "(array([9413.,    0.,    0.,    0.,    0.,    0.,    0.,    0.,    0.,\n",
       "        6558.]),\n",
       " array([1. , 1.1, 1.2, 1.3, 1.4, 1.5, 1.6, 1.7, 1.8, 1.9, 2. ]),\n",
       " <BarContainer object of 10 artists>)"
      ]
     },
     "execution_count": 25,
     "metadata": {},
     "output_type": "execute_result"
    },
    {
     "data": {
      "image/png": "[encoded data removed]",
      "text/plain": [
       "<Figure size 432x288 with 1 Axes>"
      ]
     },
     "metadata": {
      "needs_background": "light"
     },
     "output_type": "display_data"
    }
   ],
   "source": [
    "plt.hist(dataset['BMI_RANGE'])"
   ]
  },
  {
   "cell_type": "code",
   "execution_count": 26,
   "metadata": {
    "execution": {
     "iopub.execute_input": "2022-10-15T18:22:36.396130Z",
     "iopub.status.busy": "2022-10-15T18:22:36.395724Z",
     "iopub.status.idle": "2022-10-15T18:22:36.408545Z",
     "shell.execute_reply": "2022-10-15T18:22:36.406353Z",
     "shell.execute_reply.started": "2022-10-15T18:22:36.396099Z"
    }
   },
   "outputs": [],
   "source": [
    "dataset.drop('BMI_RANGE',axis = 1,inplace= True)"
   ]
  },
  {
   "cell_type": "code",
   "execution_count": 27,
   "metadata": {
    "execution": {
     "iopub.execute_input": "2022-10-15T18:22:36.411463Z",
     "iopub.status.busy": "2022-10-15T18:22:36.410855Z",
     "iopub.status.idle": "2022-10-15T18:22:36.441713Z",
     "shell.execute_reply": "2022-10-15T18:22:36.440558Z",
     "shell.execute_reply.started": "2022-10-15T18:22:36.411420Z"
    }
   },
   "outputs": [
    {
     "data": {
      "text/html": [
       "<div>\n",
       "<style scoped>\n",
       "    .dataframe tbody tr th:only-of-type {\n",
       "        vertical-align: middle;\n",
       "    }\n",
       "\n",
       "    .dataframe tbody tr th {\n",
       "        vertical-align: top;\n",
       "    }\n",
       "\n",
       "    .dataframe thead th {\n",
       "        text-align: right;\n",
       "    }\n",
       "</style>\n",
       "<table border=\"1\" class=\"dataframe\">\n",
       "  <thead>\n",
       "    <tr style=\"text-align: right;\">\n",
       "      <th></th>\n",
       "      <th>FRUITS_VEGGIES</th>\n",
       "      <th>DAILY_STRESS</th>\n",
       "      <th>PLACES_VISITED</th>\n",
       "      <th>CORE_CIRCLE</th>\n",
       "      <th>SUPPORTING_OTHERS</th>\n",
       "      <th>SOCIAL_NETWORK</th>\n",
       "      <th>ACHIEVEMENT</th>\n",
       "      <th>DONATION</th>\n",
       "      <th>TODO_COMPLETED</th>\n",
       "      <th>FLOW</th>\n",
       "      <th>DAILY_STEPS</th>\n",
       "      <th>LIVE_VISION</th>\n",
       "      <th>SLEEP_HOURS</th>\n",
       "      <th>LOST_VACATION</th>\n",
       "      <th>DAILY_SHOUTING</th>\n",
       "      <th>SUFFICIENT_INCOME</th>\n",
       "      <th>PERSONAL_AWARDS</th>\n",
       "      <th>TIME_FOR_PASSION</th>\n",
       "      <th>WEEKLY_MEDITATION</th>\n",
       "      <th>AGE</th>\n",
       "      <th>GENDER</th>\n",
       "      <th>WORK_LIFE_BALANCE_SCORE</th>\n",
       "    </tr>\n",
       "  </thead>\n",
       "  <tbody>\n",
       "    <tr>\n",
       "      <th>0</th>\n",
       "      <td>3</td>\n",
       "      <td>2</td>\n",
       "      <td>2</td>\n",
       "      <td>5</td>\n",
       "      <td>0</td>\n",
       "      <td>5</td>\n",
       "      <td>2</td>\n",
       "      <td>0</td>\n",
       "      <td>6</td>\n",
       "      <td>4</td>\n",
       "      <td>5</td>\n",
       "      <td>0</td>\n",
       "      <td>7</td>\n",
       "      <td>5</td>\n",
       "      <td>5</td>\n",
       "      <td>1</td>\n",
       "      <td>4</td>\n",
       "      <td>0</td>\n",
       "      <td>5</td>\n",
       "      <td>2</td>\n",
       "      <td>1</td>\n",
       "      <td>1.0</td>\n",
       "    </tr>\n",
       "    <tr>\n",
       "      <th>1</th>\n",
       "      <td>2</td>\n",
       "      <td>3</td>\n",
       "      <td>4</td>\n",
       "      <td>3</td>\n",
       "      <td>8</td>\n",
       "      <td>10</td>\n",
       "      <td>5</td>\n",
       "      <td>2</td>\n",
       "      <td>5</td>\n",
       "      <td>2</td>\n",
       "      <td>5</td>\n",
       "      <td>5</td>\n",
       "      <td>8</td>\n",
       "      <td>2</td>\n",
       "      <td>2</td>\n",
       "      <td>2</td>\n",
       "      <td>3</td>\n",
       "      <td>2</td>\n",
       "      <td>6</td>\n",
       "      <td>2</td>\n",
       "      <td>1</td>\n",
       "      <td>1.0</td>\n",
       "    </tr>\n",
       "    <tr>\n",
       "      <th>2</th>\n",
       "      <td>2</td>\n",
       "      <td>3</td>\n",
       "      <td>3</td>\n",
       "      <td>4</td>\n",
       "      <td>4</td>\n",
       "      <td>10</td>\n",
       "      <td>3</td>\n",
       "      <td>2</td>\n",
       "      <td>2</td>\n",
       "      <td>2</td>\n",
       "      <td>4</td>\n",
       "      <td>5</td>\n",
       "      <td>8</td>\n",
       "      <td>10</td>\n",
       "      <td>2</td>\n",
       "      <td>2</td>\n",
       "      <td>4</td>\n",
       "      <td>8</td>\n",
       "      <td>3</td>\n",
       "      <td>2</td>\n",
       "      <td>1</td>\n",
       "      <td>1.0</td>\n",
       "    </tr>\n",
       "    <tr>\n",
       "      <th>3</th>\n",
       "      <td>3</td>\n",
       "      <td>3</td>\n",
       "      <td>10</td>\n",
       "      <td>3</td>\n",
       "      <td>10</td>\n",
       "      <td>7</td>\n",
       "      <td>2</td>\n",
       "      <td>5</td>\n",
       "      <td>3</td>\n",
       "      <td>5</td>\n",
       "      <td>5</td>\n",
       "      <td>0</td>\n",
       "      <td>5</td>\n",
       "      <td>7</td>\n",
       "      <td>5</td>\n",
       "      <td>1</td>\n",
       "      <td>5</td>\n",
       "      <td>2</td>\n",
       "      <td>0</td>\n",
       "      <td>3</td>\n",
       "      <td>1</td>\n",
       "      <td>1.0</td>\n",
       "    </tr>\n",
       "    <tr>\n",
       "      <th>4</th>\n",
       "      <td>5</td>\n",
       "      <td>1</td>\n",
       "      <td>3</td>\n",
       "      <td>3</td>\n",
       "      <td>10</td>\n",
       "      <td>4</td>\n",
       "      <td>2</td>\n",
       "      <td>4</td>\n",
       "      <td>5</td>\n",
       "      <td>0</td>\n",
       "      <td>5</td>\n",
       "      <td>0</td>\n",
       "      <td>7</td>\n",
       "      <td>0</td>\n",
       "      <td>0</td>\n",
       "      <td>2</td>\n",
       "      <td>8</td>\n",
       "      <td>1</td>\n",
       "      <td>5</td>\n",
       "      <td>3</td>\n",
       "      <td>1</td>\n",
       "      <td>1.0</td>\n",
       "    </tr>\n",
       "    <tr>\n",
       "      <th>...</th>\n",
       "      <td>...</td>\n",
       "      <td>...</td>\n",
       "      <td>...</td>\n",
       "      <td>...</td>\n",
       "      <td>...</td>\n",
       "      <td>...</td>\n",
       "      <td>...</td>\n",
       "      <td>...</td>\n",
       "      <td>...</td>\n",
       "      <td>...</td>\n",
       "      <td>...</td>\n",
       "      <td>...</td>\n",
       "      <td>...</td>\n",
       "      <td>...</td>\n",
       "      <td>...</td>\n",
       "      <td>...</td>\n",
       "      <td>...</td>\n",
       "      <td>...</td>\n",
       "      <td>...</td>\n",
       "      <td>...</td>\n",
       "      <td>...</td>\n",
       "      <td>...</td>\n",
       "    </tr>\n",
       "    <tr>\n",
       "      <th>15967</th>\n",
       "      <td>3</td>\n",
       "      <td>3</td>\n",
       "      <td>0</td>\n",
       "      <td>4</td>\n",
       "      <td>0</td>\n",
       "      <td>10</td>\n",
       "      <td>0</td>\n",
       "      <td>4</td>\n",
       "      <td>8</td>\n",
       "      <td>2</td>\n",
       "      <td>10</td>\n",
       "      <td>7</td>\n",
       "      <td>7</td>\n",
       "      <td>0</td>\n",
       "      <td>1</td>\n",
       "      <td>1</td>\n",
       "      <td>5</td>\n",
       "      <td>2</td>\n",
       "      <td>5</td>\n",
       "      <td>3</td>\n",
       "      <td>1</td>\n",
       "      <td>1.0</td>\n",
       "    </tr>\n",
       "    <tr>\n",
       "      <th>15968</th>\n",
       "      <td>3</td>\n",
       "      <td>3</td>\n",
       "      <td>6</td>\n",
       "      <td>8</td>\n",
       "      <td>7</td>\n",
       "      <td>4</td>\n",
       "      <td>6</td>\n",
       "      <td>3</td>\n",
       "      <td>7</td>\n",
       "      <td>5</td>\n",
       "      <td>6</td>\n",
       "      <td>5</td>\n",
       "      <td>6</td>\n",
       "      <td>0</td>\n",
       "      <td>0</td>\n",
       "      <td>2</td>\n",
       "      <td>10</td>\n",
       "      <td>5</td>\n",
       "      <td>8</td>\n",
       "      <td>1</td>\n",
       "      <td>1</td>\n",
       "      <td>3.0</td>\n",
       "    </tr>\n",
       "    <tr>\n",
       "      <th>15969</th>\n",
       "      <td>4</td>\n",
       "      <td>3</td>\n",
       "      <td>0</td>\n",
       "      <td>10</td>\n",
       "      <td>10</td>\n",
       "      <td>8</td>\n",
       "      <td>6</td>\n",
       "      <td>5</td>\n",
       "      <td>7</td>\n",
       "      <td>3</td>\n",
       "      <td>5</td>\n",
       "      <td>2</td>\n",
       "      <td>7</td>\n",
       "      <td>0</td>\n",
       "      <td>1</td>\n",
       "      <td>2</td>\n",
       "      <td>10</td>\n",
       "      <td>1</td>\n",
       "      <td>10</td>\n",
       "      <td>1</td>\n",
       "      <td>0</td>\n",
       "      <td>3.0</td>\n",
       "    </tr>\n",
       "    <tr>\n",
       "      <th>15970</th>\n",
       "      <td>1</td>\n",
       "      <td>1</td>\n",
       "      <td>10</td>\n",
       "      <td>8</td>\n",
       "      <td>2</td>\n",
       "      <td>7</td>\n",
       "      <td>3</td>\n",
       "      <td>2</td>\n",
       "      <td>6</td>\n",
       "      <td>10</td>\n",
       "      <td>1</td>\n",
       "      <td>5</td>\n",
       "      <td>8</td>\n",
       "      <td>7</td>\n",
       "      <td>2</td>\n",
       "      <td>2</td>\n",
       "      <td>1</td>\n",
       "      <td>6</td>\n",
       "      <td>8</td>\n",
       "      <td>1</td>\n",
       "      <td>1</td>\n",
       "      <td>2.0</td>\n",
       "    </tr>\n",
       "    <tr>\n",
       "      <th>15971</th>\n",
       "      <td>5</td>\n",
       "      <td>4</td>\n",
       "      <td>0</td>\n",
       "      <td>2</td>\n",
       "      <td>10</td>\n",
       "      <td>10</td>\n",
       "      <td>5</td>\n",
       "      <td>1</td>\n",
       "      <td>7</td>\n",
       "      <td>4</td>\n",
       "      <td>1</td>\n",
       "      <td>5</td>\n",
       "      <td>8</td>\n",
       "      <td>5</td>\n",
       "      <td>2</td>\n",
       "      <td>2</td>\n",
       "      <td>1</td>\n",
       "      <td>8</td>\n",
       "      <td>4</td>\n",
       "      <td>1</td>\n",
       "      <td>1</td>\n",
       "      <td>1.0</td>\n",
       "    </tr>\n",
       "  </tbody>\n",
       "</table>\n",
       "<p>15971 rows × 22 columns</p>\n",
       "</div>"
      ],
      "text/plain": [
       "       FRUITS_VEGGIES  DAILY_STRESS  PLACES_VISITED  CORE_CIRCLE  \\\n",
       "0                   3             2               2            5   \n",
       "1                   2             3               4            3   \n",
       "2                   2             3               3            4   \n",
       "3                   3             3              10            3   \n",
       "4                   5             1               3            3   \n",
       "...               ...           ...             ...          ...   \n",
       "15967               3             3               0            4   \n",
       "15968               3             3               6            8   \n",
       "15969               4             3               0           10   \n",
       "15970               1             1              10            8   \n",
       "15971               5             4               0            2   \n",
       "\n",
       "       SUPPORTING_OTHERS  SOCIAL_NETWORK  ACHIEVEMENT  DONATION  \\\n",
       "0                      0               5            2         0   \n",
       "1                      8              10            5         2   \n",
       "2                      4              10            3         2   \n",
       "3                     10               7            2         5   \n",
       "4                     10               4            2         4   \n",
       "...                  ...             ...          ...       ...   \n",
       "15967                  0              10            0         4   \n",
       "15968                  7               4            6         3   \n",
       "15969                 10               8            6         5   \n",
       "15970                  2               7            3         2   \n",
       "15971                 10              10            5         1   \n",
       "\n",
       "       TODO_COMPLETED  FLOW  DAILY_STEPS  LIVE_VISION  SLEEP_HOURS  \\\n",
       "0                   6     4            5            0            7   \n",
       "1                   5     2            5            5            8   \n",
       "2                   2     2            4            5            8   \n",
       "3                   3     5            5            0            5   \n",
       "4                   5     0            5            0            7   \n",
       "...               ...   ...          ...          ...          ...   \n",
       "15967               8     2           10            7            7   \n",
       "15968               7     5            6            5            6   \n",
       "15969               7     3            5            2            7   \n",
       "15970               6    10            1            5            8   \n",
       "15971               7     4            1            5            8   \n",
       "\n",
       "       LOST_VACATION  DAILY_SHOUTING  SUFFICIENT_INCOME  PERSONAL_AWARDS  \\\n",
       "0                  5               5                  1                4   \n",
       "1                  2               2                  2                3   \n",
       "2                 10               2                  2                4   \n",
       "3                  7               5                  1                5   \n",
       "4                  0               0                  2                8   \n",
       "...              ...             ...                ...              ...   \n",
       "15967              0               1                  1                5   \n",
       "15968              0               0                  2               10   \n",
       "15969              0               1                  2               10   \n",
       "15970              7               2                  2                1   \n",
       "15971              5               2                  2                1   \n",
       "\n",
       "       TIME_FOR_PASSION  WEEKLY_MEDITATION  AGE  GENDER  \\\n",
       "0                     0                  5    2       1   \n",
       "1                     2                  6    2       1   \n",
       "2                     8                  3    2       1   \n",
       "3                     2                  0    3       1   \n",
       "4                     1                  5    3       1   \n",
       "...                 ...                ...  ...     ...   \n",
       "15967                 2                  5    3       1   \n",
       "15968                 5                  8    1       1   \n",
       "15969                 1                 10    1       0   \n",
       "15970                 6                  8    1       1   \n",
       "15971                 8                  4    1       1   \n",
       "\n",
       "       WORK_LIFE_BALANCE_SCORE  \n",
       "0                          1.0  \n",
       "1                          1.0  \n",
       "2                          1.0  \n",
       "3                          1.0  \n",
       "4                          1.0  \n",
       "...                        ...  \n",
       "15967                      1.0  \n",
       "15968                      3.0  \n",
       "15969                      3.0  \n",
       "15970                      2.0  \n",
       "15971                      1.0  \n",
       "\n",
       "[15971 rows x 22 columns]"
      ]
     },
     "execution_count": 27,
     "metadata": {},
     "output_type": "execute_result"
    }
   ],
   "source": [
    "dataset"
   ]
  },
  {
   "cell_type": "code",
   "execution_count": 28,
   "metadata": {
    "execution": {
     "iopub.execute_input": "2022-10-15T18:22:36.447542Z",
     "iopub.status.busy": "2022-10-15T18:22:36.447195Z",
     "iopub.status.idle": "2022-10-15T18:22:36.790856Z",
     "shell.execute_reply": "2022-10-15T18:22:36.789838Z",
     "shell.execute_reply.started": "2022-10-15T18:22:36.447515Z"
    }
   },
   "outputs": [
    {
     "data": {
      "text/plain": [
       "<AxesSubplot:xlabel='SUFFICIENT_INCOME', ylabel='WORK_LIFE_BALANCE_SCORE'>"
      ]
     },
     "execution_count": 28,
     "metadata": {},
     "output_type": "execute_result"
    },
    {
     "data": {
      "image/png": "[encoded data removed]",
      "text/plain": [
       "<Figure size 432x288 with 1 Axes>"
      ]
     },
     "metadata": {
      "needs_background": "light"
     },
     "output_type": "display_data"
    }
   ],
   "source": [
    "# no particular effect on work_life_balance. both not sufficient and sufficient lead to a good work life balance score\n",
    "sns.barplot(x=dataset['SUFFICIENT_INCOME'], y=dataset['WORK_LIFE_BALANCE_SCORE'])"
   ]
  },
  {
   "cell_type": "code",
   "execution_count": 29,
   "metadata": {
    "execution": {
     "iopub.execute_input": "2022-10-15T18:22:36.792362Z",
     "iopub.status.busy": "2022-10-15T18:22:36.792070Z",
     "iopub.status.idle": "2022-10-15T18:22:37.178950Z",
     "shell.execute_reply": "2022-10-15T18:22:37.178047Z",
     "shell.execute_reply.started": "2022-10-15T18:22:36.792332Z"
    }
   },
   "outputs": [
    {
     "data": {
      "text/plain": [
       "<AxesSubplot:xlabel='AGE', ylabel='WORK_LIFE_BALANCE_SCORE'>"
      ]
     },
     "execution_count": 29,
     "metadata": {},
     "output_type": "execute_result"
    },
    {
     "data": {
      "image/png": "[encoded data removed]",
      "text/plain": [
       "<Figure size 432x288 with 1 Axes>"
      ]
     },
     "metadata": {
      "needs_background": "light"
     },
     "output_type": "display_data"
    }
   ],
   "source": [
    "sns.barplot(x=dataset['AGE'], y=dataset['WORK_LIFE_BALANCE_SCORE'])"
   ]
  },
  {
   "cell_type": "code",
   "execution_count": 30,
   "metadata": {
    "execution": {
     "iopub.execute_input": "2022-10-15T18:22:37.180674Z",
     "iopub.status.busy": "2022-10-15T18:22:37.180166Z",
     "iopub.status.idle": "2022-10-15T18:22:37.510555Z",
     "shell.execute_reply": "2022-10-15T18:22:37.509614Z",
     "shell.execute_reply.started": "2022-10-15T18:22:37.180640Z"
    }
   },
   "outputs": [
    {
     "data": {
      "text/plain": [
       "<AxesSubplot:xlabel='GENDER', ylabel='WORK_LIFE_BALANCE_SCORE'>"
      ]
     },
     "execution_count": 30,
     "metadata": {},
     "output_type": "execute_result"
    },
    {
     "data": {
      "image/png": "[encoded data removed]",
      "text/plain": [
       "<Figure size 432x288 with 1 Axes>"
      ]
     },
     "metadata": {
      "needs_background": "light"
     },
     "output_type": "display_data"
    }
   ],
   "source": [
    "sns.barplot(x=dataset['GENDER'], y=dataset['WORK_LIFE_BALANCE_SCORE'])"
   ]
  },
  {
   "cell_type": "markdown",
   "metadata": {},
   "source": [
    "# **Healthy Body**"
   ]
  },
  {
   "cell_type": "markdown",
   "metadata": {},
   "source": [
    "Can a healthy body impact work life balance score? We have isolated the following attributes that we think might contribute to a healthy mind:\n",
    "* 'FRUITS_VEGGIES'\n",
    "* 'DAILY_STEPS'\n",
    "* 'SLEEP_HOURS'"
   ]
  },
  {
   "cell_type": "code",
   "execution_count": 31,
   "metadata": {
    "execution": {
     "iopub.execute_input": "2022-10-15T18:22:37.512889Z",
     "iopub.status.busy": "2022-10-15T18:22:37.511875Z",
     "iopub.status.idle": "2022-10-15T18:22:38.717527Z",
     "shell.execute_reply": "2022-10-15T18:22:38.716267Z",
     "shell.execute_reply.started": "2022-10-15T18:22:37.512853Z"
    }
   },
   "outputs": [
    {
     "data": {
      "image/png": "[encoded data removed]",
      "text/plain": [
       "<Figure size 1152x720 with 4 Axes>"
      ]
     },
     "metadata": {
      "needs_background": "light"
     },
     "output_type": "display_data"
    }
   ],
   "source": [
    "# plotting the attributes individually against work life balance score to see their individual impacts\n",
    "f,ax = plt.subplots(2,2,figsize=(16,10))\n",
    "ax[0,0].set_title('WORK_LIFE_BALANCE_SCORE BY FRUITS_VEGGIES')\n",
    "ax[0,1].set_title('WORK_LIFE_BALANCE_SCORE BY DAILY_STEPS')\n",
    "ax[1,0].set_title('WORK_LIFE_BALANCE_SCORE BY SLEEP_HOURS')\n",
    "\n",
    "sns.pointplot(x = 'WORK_LIFE_BALANCE_SCORE', y = 'FRUITS_VEGGIES',  data=dataset, ax = ax[0,0])\n",
    "sns.pointplot(x = 'WORK_LIFE_BALANCE_SCORE', y = 'SUPPORTING_OTHERS',  data=dataset, ax = ax[0,1])\n",
    "sns.pointplot(x = 'WORK_LIFE_BALANCE_SCORE', y = 'SLEEP_HOURS', data=dataset, ax = ax[1,0])\n",
    "\n",
    "\n",
    "\n",
    "plt.show()"
   ]
  },
  {
   "cell_type": "markdown",
   "metadata": {},
   "source": [
    "Healthy body seems to have a great impact on work life balance score"
   ]
  },
  {
   "cell_type": "code",
   "execution_count": 32,
   "metadata": {
    "execution": {
     "iopub.execute_input": "2022-10-15T18:22:38.719816Z",
     "iopub.status.busy": "2022-10-15T18:22:38.719402Z",
     "iopub.status.idle": "2022-10-15T18:22:38.727637Z",
     "shell.execute_reply": "2022-10-15T18:22:38.726228Z",
     "shell.execute_reply.started": "2022-10-15T18:22:38.719758Z"
    }
   },
   "outputs": [],
   "source": [
    "X = dataset[['FRUITS_VEGGIES', 'DAILY_STEPS', 'SLEEP_HOURS']]\n",
    "y = dataset['WORK_LIFE_BALANCE_SCORE']"
   ]
  },
  {
   "cell_type": "code",
   "execution_count": 33,
   "metadata": {
    "execution": {
     "iopub.execute_input": "2022-10-15T18:22:38.729997Z",
     "iopub.status.busy": "2022-10-15T18:22:38.729499Z",
     "iopub.status.idle": "2022-10-15T18:22:38.741845Z",
     "shell.execute_reply": "2022-10-15T18:22:38.740239Z",
     "shell.execute_reply.started": "2022-10-15T18:22:38.729960Z"
    }
   },
   "outputs": [],
   "source": [
    "X_train, X_test, y_train, y_test = train_test_split(X, y, test_size=0.2, random_state = 42)"
   ]
  },
  {
   "cell_type": "code",
   "execution_count": 34,
   "metadata": {
    "execution": {
     "iopub.execute_input": "2022-10-15T18:22:38.744570Z",
     "iopub.status.busy": "2022-10-15T18:22:38.743923Z",
     "iopub.status.idle": "2022-10-15T18:22:39.849218Z",
     "shell.execute_reply": "2022-10-15T18:22:39.848015Z",
     "shell.execute_reply.started": "2022-10-15T18:22:38.744536Z"
    }
   },
   "outputs": [
    {
     "name": "stderr",
     "output_type": "stream",
     "text": [
      "C:\\Users\\Izma Aziz\\anaconda3\\lib\\site-packages\\sklearn\\linear_model\\_logistic.py:444: ConvergenceWarning: lbfgs failed to converge (status=1):\n",
      "STOP: TOTAL NO. of ITERATIONS REACHED LIMIT.\n",
      "\n",
      "Increase the number of iterations (max_iter) or scale the data as shown in:\n",
      "    https://scikit-learn.org/stable/modules/preprocessing.html\n",
      "Please also refer to the documentation for alternative solver options:\n",
      "    https://scikit-learn.org/stable/modules/linear_model.html#logistic-regression\n",
      "  n_iter_i = _check_optimize_result(\n"
     ]
    },
    {
     "name": "stdout",
     "output_type": "stream",
     "text": [
      "Train Score using Logistic Regression:  65.3882279273638\n",
      "Test Score using Logistic Regression:  64.4131455399061\n",
      "Score using Decision Tree:  64.06885758998435\n",
      "Score using Random Forest Classifier:  63.84976525821596\n"
     ]
    }
   ],
   "source": [
    "# Logistic Regression\n",
    "healthybody = LogisticRegression()\n",
    "healthybody.fit(X_train, y_train)\n",
    "y_pred = healthybody.predict(X_test)\n",
    "HB=healthybody.score(X_train, y_train)*100\n",
    "print('Train Score using Logistic Regression: ',HB)\n",
    "print('Test Score using Logistic Regression: ',healthybody.score(X_test, y_test)*100)\n",
    "\n",
    "\n",
    "# Decision Tree Classifier\n",
    "healthybodytree = DecisionTreeClassifier(random_state=0)\n",
    "healthybodytree.fit(X_train, y_train)\n",
    "y_pred = healthybodytree.predict(X_test)\n",
    "print('Score using Decision Tree: ',accuracy_score(y_test, y_pred)*100)\n",
    "\n",
    "# Random Forest Classifier\n",
    "healthybodyforest = RandomForestClassifier(random_state=0)\n",
    "healthybodyforest.fit(X_train, y_train)\n",
    "y_pred = healthybodyforest.predict(X_test)\n",
    "print('Score using Random Forest Classifier: ',accuracy_score(y_test, y_pred)*100)"
   ]
  },
  {
   "cell_type": "markdown",
   "metadata": {},
   "source": [
    "# **Healthy Mind**"
   ]
  },
  {
   "cell_type": "markdown",
   "metadata": {},
   "source": [
    "Can a healthy mind impact work life balance score? We have isolated the following attributes that we think might contribute to a healthy mind:\n",
    "* 'DAILY_STRESS'\n",
    "* 'SLEEP_HOURS'\n",
    "* 'DAILY_SHOUTING'\n",
    "* 'WEEKLY_MEDITATION'\n",
    "* 'FLOW'"
   ]
  },
  {
   "cell_type": "code",
   "execution_count": 35,
   "metadata": {
    "execution": {
     "iopub.execute_input": "2022-10-15T18:22:39.852024Z",
     "iopub.status.busy": "2022-10-15T18:22:39.851453Z",
     "iopub.status.idle": "2022-10-15T18:22:42.022727Z",
     "shell.execute_reply": "2022-10-15T18:22:42.021316Z",
     "shell.execute_reply.started": "2022-10-15T18:22:39.851985Z"
    }
   },
   "outputs": [
    {
     "data": {
      "image/png": "[encoded data removed]",
      "text/plain": [
       "<Figure size 1152x720 with 6 Axes>"
      ]
     },
     "metadata": {
      "needs_background": "light"
     },
     "output_type": "display_data"
    }
   ],
   "source": [
    "# plotting the attributes individually against work life balance score to see their individual impacts\n",
    "f,ax = plt.subplots(2,3,figsize=(16,10))\n",
    "ax[0,0].set_title('WORK_LIFE_BALANCE_SCORE BY DAILY_STRESS')\n",
    "ax[0,1].set_title('WORK_LIFE_BALANCE_SCORE BY SLEEP_HOURS')\n",
    "ax[0,2].set_title('WORK_LIFE_BALANCE_SCORE BY DAILY_SHOUTING')\n",
    "ax[1,0].set_title('WORK_LIFE_BALANCE_SCORE & WEEKLY_MEDITATION')\n",
    "ax[1,1].set_title('WORK_LIFE_BALANCE_SCORE & FLOW')\n",
    "\n",
    "\n",
    "sns.pointplot(x = 'WORK_LIFE_BALANCE_SCORE', y = 'DAILY_STRESS',  data=dataset, ax = ax[0,0])\n",
    "sns.pointplot(x = 'WORK_LIFE_BALANCE_SCORE', y = 'SLEEP_HOURS',  data=dataset, ax = ax[0,1])\n",
    "sns.pointplot(x = 'WORK_LIFE_BALANCE_SCORE', y = 'DAILY_SHOUTING', data=dataset, ax = ax[0,2])\n",
    "sns.pointplot(x = 'WORK_LIFE_BALANCE_SCORE', y = 'WEEKLY_MEDITATION',  data=dataset, ax = ax[1,0])\n",
    "sns.pointplot(x = 'WORK_LIFE_BALANCE_SCORE', y = 'FLOW',  data=dataset, ax = ax[1,1])\n",
    "\n",
    "plt.show()"
   ]
  },
  {
   "cell_type": "markdown",
   "metadata": {},
   "source": [
    "- Clearly lower stress levels give a better work life balance score\n",
    "- Similarly, less shouting which could be an indicator for anger levels give a better work life balance score\n",
    "- Higher levels of meditation, sleep hours and flow give better work life balance score"
   ]
  },
  {
   "cell_type": "code",
   "execution_count": 36,
   "metadata": {
    "execution": {
     "iopub.execute_input": "2022-10-15T18:22:42.024866Z",
     "iopub.status.busy": "2022-10-15T18:22:42.024581Z",
     "iopub.status.idle": "2022-10-15T18:22:42.033938Z",
     "shell.execute_reply": "2022-10-15T18:22:42.031590Z",
     "shell.execute_reply.started": "2022-10-15T18:22:42.024840Z"
    }
   },
   "outputs": [],
   "source": [
    "# isolating the features from the dataset\n",
    "X = dataset[['DAILY_STRESS', 'SLEEP_HOURS', 'DAILY_SHOUTING', 'WEEKLY_MEDITATION', 'FLOW']]\n",
    "y = dataset['WORK_LIFE_BALANCE_SCORE']"
   ]
  },
  {
   "cell_type": "code",
   "execution_count": 37,
   "metadata": {
    "execution": {
     "iopub.execute_input": "2022-10-15T18:22:42.036248Z",
     "iopub.status.busy": "2022-10-15T18:22:42.035922Z",
     "iopub.status.idle": "2022-10-15T18:22:42.049406Z",
     "shell.execute_reply": "2022-10-15T18:22:42.048082Z",
     "shell.execute_reply.started": "2022-10-15T18:22:42.036219Z"
    }
   },
   "outputs": [],
   "source": [
    "# splitting into train and test sets for better evaluation\n",
    "X_train, X_test, y_train, y_test = train_test_split(X, y, test_size=0.2, random_state = 42)"
   ]
  },
  {
   "cell_type": "code",
   "execution_count": 38,
   "metadata": {
    "execution": {
     "iopub.execute_input": "2022-10-15T18:22:42.051165Z",
     "iopub.status.busy": "2022-10-15T18:22:42.050876Z",
     "iopub.status.idle": "2022-10-15T18:22:43.825354Z",
     "shell.execute_reply": "2022-10-15T18:22:43.823888Z",
     "shell.execute_reply.started": "2022-10-15T18:22:42.051136Z"
    }
   },
   "outputs": [
    {
     "name": "stderr",
     "output_type": "stream",
     "text": [
      "C:\\Users\\Izma Aziz\\anaconda3\\lib\\site-packages\\sklearn\\linear_model\\_logistic.py:444: ConvergenceWarning: lbfgs failed to converge (status=1):\n",
      "STOP: TOTAL NO. of ITERATIONS REACHED LIMIT.\n",
      "\n",
      "Increase the number of iterations (max_iter) or scale the data as shown in:\n",
      "    https://scikit-learn.org/stable/modules/preprocessing.html\n",
      "Please also refer to the documentation for alternative solver options:\n",
      "    https://scikit-learn.org/stable/modules/linear_model.html#logistic-regression\n",
      "  n_iter_i = _check_optimize_result(\n"
     ]
    },
    {
     "name": "stdout",
     "output_type": "stream",
     "text": [
      "Train Score using Logistic Regression:  67.85378835316219\n",
      "Test Score using Logistic Regression:  67.04225352112675\n",
      "Score using Decision Tree:  58.9358372456964\n",
      "Score using random Forest Classifier:  62.190923317683875\n"
     ]
    }
   ],
   "source": [
    "# Logistic Regression\n",
    "healthymind = LogisticRegression()\n",
    "healthymind.fit(X_train, y_train)\n",
    "y_pred = healthymind.predict(X_test)\n",
    "HM=healthymind.score(X_train, y_train)*100\n",
    "print('Train Score using Logistic Regression: ',HM)\n",
    "print('Test Score using Logistic Regression: ',healthymind.score(X_test, y_test)*100)\n",
    "\n",
    "\n",
    "# Decision Tree Classifier\n",
    "healthymindtree = DecisionTreeClassifier(random_state=0)\n",
    "healthymindtree.fit(X_train, y_train)\n",
    "y_pred = healthymindtree.predict(X_test)\n",
    "print('Score using Decision Tree: ',accuracy_score(y_test, y_pred)*100)\n",
    "\n",
    "\n",
    "# Random Forest Classifier\n",
    "healthymindforest = RandomForestClassifier(random_state=0)\n",
    "healthymindforest.fit(X_train, y_train)\n",
    "y_pred = healthymindforest.predict(X_test)\n",
    "print('Score using random Forest Classifier: ',accuracy_score(y_test, y_pred)*100)"
   ]
  },
  {
   "cell_type": "markdown",
   "metadata": {},
   "source": [
    "Logistic Regression gave the best score hence we will move forward with this model for prediction."
   ]
  },
  {
   "cell_type": "markdown",
   "metadata": {},
   "source": [
    "# **Expertise**"
   ]
  },
  {
   "cell_type": "markdown",
   "metadata": {},
   "source": [
    "Can expertise impact work life balance score? We have isolated the following attributes that we think might contribute to a healthy mind:\n",
    "* 'ACHIEVEMENT'\n",
    "* 'TODO_COMPLETED'\n",
    "* 'SUFFICIENT_INCOME'\n",
    "* 'PERSONAL_AWARDS'"
   ]
  },
  {
   "cell_type": "code",
   "execution_count": 39,
   "metadata": {
    "execution": {
     "iopub.execute_input": "2022-10-15T18:22:43.827090Z",
     "iopub.status.busy": "2022-10-15T18:22:43.826805Z",
     "iopub.status.idle": "2022-10-15T18:22:45.307869Z",
     "shell.execute_reply": "2022-10-15T18:22:45.306293Z",
     "shell.execute_reply.started": "2022-10-15T18:22:43.827063Z"
    }
   },
   "outputs": [
    {
     "data": {
      "image/png": "[encoded data removed]",
      "text/plain": [
       "<Figure size 1152x720 with 4 Axes>"
      ]
     },
     "metadata": {
      "needs_background": "light"
     },
     "output_type": "display_data"
    }
   ],
   "source": [
    "# plotting the attributes individually against work life balance score to see their individual impacts\n",
    "f,ax = plt.subplots(2,2,figsize=(16,10))\n",
    "ax[0,0].set_title('WORK_LIFE_BALANCE_SCORE BY ACHIEVEMENT')\n",
    "ax[0,1].set_title('WORK_LIFE_BALANCE_SCORE BY TODO_COMPLETED')\n",
    "ax[1,0].set_title('WORK_LIFE_BALANCE_SCORE BY SUFFICIENT_INCOME')\n",
    "ax[1,1].set_title('WORK_LIFE_BALANCE_SCORE & PERSONAL_AWARDS')\n",
    "\n",
    "\n",
    "\n",
    "sns.pointplot(x = 'WORK_LIFE_BALANCE_SCORE', y = 'ACHIEVEMENT',  data=dataset, ax = ax[0,0])\n",
    "sns.pointplot(x = 'WORK_LIFE_BALANCE_SCORE', y = 'TODO_COMPLETED',  data=dataset, ax = ax[0,1])\n",
    "sns.pointplot(x = 'WORK_LIFE_BALANCE_SCORE', y = 'SUFFICIENT_INCOME', data=dataset, ax = ax[1,0])\n",
    "sns.pointplot(x = 'WORK_LIFE_BALANCE_SCORE', y = 'PERSONAL_AWARDS',  data=dataset, ax = ax[1,1])\n",
    "\n",
    "\n",
    "plt.show()"
   ]
  },
  {
   "cell_type": "markdown",
   "metadata": {},
   "source": [
    "Better expertise seems to have a good impact on work life balance."
   ]
  },
  {
   "cell_type": "code",
   "execution_count": 40,
   "metadata": {
    "execution": {
     "iopub.execute_input": "2022-10-15T18:22:45.310208Z",
     "iopub.status.busy": "2022-10-15T18:22:45.309883Z",
     "iopub.status.idle": "2022-10-15T18:22:45.318308Z",
     "shell.execute_reply": "2022-10-15T18:22:45.315665Z",
     "shell.execute_reply.started": "2022-10-15T18:22:45.310182Z"
    }
   },
   "outputs": [],
   "source": [
    "X = dataset[['ACHIEVEMENT', 'TODO_COMPLETED', 'SUFFICIENT_INCOME', 'PERSONAL_AWARDS']]\n",
    "y = dataset['WORK_LIFE_BALANCE_SCORE']"
   ]
  },
  {
   "cell_type": "code",
   "execution_count": 41,
   "metadata": {
    "execution": {
     "iopub.execute_input": "2022-10-15T18:22:45.320298Z",
     "iopub.status.busy": "2022-10-15T18:22:45.319917Z",
     "iopub.status.idle": "2022-10-15T18:22:45.335908Z",
     "shell.execute_reply": "2022-10-15T18:22:45.334379Z",
     "shell.execute_reply.started": "2022-10-15T18:22:45.320271Z"
    }
   },
   "outputs": [],
   "source": [
    "X_train, X_test, y_train, y_test = train_test_split(X, y, test_size=0.2, random_state = 42)"
   ]
  },
  {
   "cell_type": "code",
   "execution_count": 42,
   "metadata": {
    "execution": {
     "iopub.execute_input": "2022-10-15T18:22:45.337525Z",
     "iopub.status.busy": "2022-10-15T18:22:45.337211Z",
     "iopub.status.idle": "2022-10-15T18:22:46.716620Z",
     "shell.execute_reply": "2022-10-15T18:22:46.715156Z",
     "shell.execute_reply.started": "2022-10-15T18:22:45.337492Z"
    }
   },
   "outputs": [
    {
     "name": "stderr",
     "output_type": "stream",
     "text": [
      "C:\\Users\\Izma Aziz\\anaconda3\\lib\\site-packages\\sklearn\\linear_model\\_logistic.py:444: ConvergenceWarning: lbfgs failed to converge (status=1):\n",
      "STOP: TOTAL NO. of ITERATIONS REACHED LIMIT.\n",
      "\n",
      "Increase the number of iterations (max_iter) or scale the data as shown in:\n",
      "    https://scikit-learn.org/stable/modules/preprocessing.html\n",
      "Please also refer to the documentation for alternative solver options:\n",
      "    https://scikit-learn.org/stable/modules/linear_model.html#logistic-regression\n",
      "  n_iter_i = _check_optimize_result(\n"
     ]
    },
    {
     "name": "stdout",
     "output_type": "stream",
     "text": [
      "Train Score using Logistic Regression:  71.38384470882906\n",
      "Test Score using Logistic Regression:  70.51643192488262\n",
      "Score using Decision Tree:  68.51330203442879\n",
      "Score using random Forest Classifier:  67.94992175273865\n"
     ]
    }
   ],
   "source": [
    "# Logistic Regression\n",
    "expertise = LogisticRegression()\n",
    "expertise.fit(X_train, y_train)\n",
    "y_pred = expertise.predict(X_test)\n",
    "EX=expertise.score(X_train, y_train)*100\n",
    "print('Train Score using Logistic Regression: ',EX)\n",
    "print('Test Score using Logistic Regression: ',expertise.score(X_test, y_test)*100)\n",
    "\n",
    "\n",
    "# Decision Tree Classifier\n",
    "expertisetree = DecisionTreeClassifier(random_state=0)\n",
    "expertisetree.fit(X_train, y_train)\n",
    "y_pred = expertisetree.predict(X_test)\n",
    "print('Score using Decision Tree: ',accuracy_score(y_test, y_pred)*100)\n",
    "\n",
    "\n",
    "# Random Forest Classifier\n",
    "expertiseforest = RandomForestClassifier(random_state=0)\n",
    "expertiseforest.fit(X_train, y_train)\n",
    "y_pred = expertiseforest.predict(X_test)\n",
    "print('Score using random Forest Classifier: ',accuracy_score(y_test, y_pred)*100)"
   ]
  },
  {
   "cell_type": "markdown",
   "metadata": {},
   "source": [
    "Logistic Regression gave the best score hence we will move forward with this model for prediction."
   ]
  },
  {
   "cell_type": "markdown",
   "metadata": {},
   "source": [
    "# **Connection**"
   ]
  },
  {
   "cell_type": "markdown",
   "metadata": {},
   "source": [
    "Can connection impact work life balance score? We have isolated the following attributes that we think might contribute to a healthy mind:\n",
    "* 'CORE_CIRCLE'\n",
    "* 'SUPPORTING_OTHERS'\n",
    "* 'SOCIAL_NETWORK'"
   ]
  },
  {
   "cell_type": "code",
   "execution_count": 43,
   "metadata": {
    "execution": {
     "iopub.execute_input": "2022-10-15T18:22:46.719140Z",
     "iopub.status.busy": "2022-10-15T18:22:46.718711Z",
     "iopub.status.idle": "2022-10-15T18:22:47.906508Z",
     "shell.execute_reply": "2022-10-15T18:22:47.905316Z",
     "shell.execute_reply.started": "2022-10-15T18:22:46.719113Z"
    }
   },
   "outputs": [
    {
     "data": {
      "image/png": "[encoded data removed]",
      "text/plain": [
       "<Figure size 1152x720 with 4 Axes>"
      ]
     },
     "metadata": {
      "needs_background": "light"
     },
     "output_type": "display_data"
    }
   ],
   "source": [
    "# plotting the attributes individually against work life balance score to see their individual impacts\n",
    "f,ax = plt.subplots(2,2,figsize=(16,10))\n",
    "ax[0,0].set_title('WORK_LIFE_BALANCE_SCORE BY CORE_CIRCLE')\n",
    "ax[0,1].set_title('WORK_LIFE_BALANCE_SCORE BY SUPPORTING_OTHERS')\n",
    "ax[1,0].set_title('WORK_LIFE_BALANCE_SCORE BY SOCIAL_NETWORK')\n",
    "\n",
    "\n",
    "\n",
    "\n",
    "sns.pointplot(x = 'WORK_LIFE_BALANCE_SCORE', y = 'CORE_CIRCLE',  data=dataset, ax = ax[0,0])\n",
    "sns.pointplot(x = 'WORK_LIFE_BALANCE_SCORE', y = 'SUPPORTING_OTHERS',  data=dataset, ax = ax[0,1])\n",
    "sns.pointplot(x = 'WORK_LIFE_BALANCE_SCORE', y = 'SOCIAL_NETWORK', data=dataset, ax = ax[1,0])\n",
    "\n",
    "\n",
    "\n",
    "plt.show()"
   ]
  },
  {
   "cell_type": "markdown",
   "metadata": {},
   "source": [
    "Better social life seems to have a good impact on work life balance."
   ]
  },
  {
   "cell_type": "code",
   "execution_count": 44,
   "metadata": {
    "execution": {
     "iopub.execute_input": "2022-10-15T18:22:47.908494Z",
     "iopub.status.busy": "2022-10-15T18:22:47.908121Z",
     "iopub.status.idle": "2022-10-15T18:22:47.915031Z",
     "shell.execute_reply": "2022-10-15T18:22:47.913506Z",
     "shell.execute_reply.started": "2022-10-15T18:22:47.908458Z"
    }
   },
   "outputs": [],
   "source": [
    "X = dataset[['CORE_CIRCLE', 'SUPPORTING_OTHERS', 'SOCIAL_NETWORK']]\n",
    "y = dataset['WORK_LIFE_BALANCE_SCORE']"
   ]
  },
  {
   "cell_type": "code",
   "execution_count": 45,
   "metadata": {
    "execution": {
     "iopub.execute_input": "2022-10-15T18:22:47.916667Z",
     "iopub.status.busy": "2022-10-15T18:22:47.916376Z",
     "iopub.status.idle": "2022-10-15T18:22:47.931911Z",
     "shell.execute_reply": "2022-10-15T18:22:47.929892Z",
     "shell.execute_reply.started": "2022-10-15T18:22:47.916641Z"
    }
   },
   "outputs": [],
   "source": [
    "X_train, X_test, y_train, y_test = train_test_split(X, y, test_size=0.2, random_state = 42)"
   ]
  },
  {
   "cell_type": "code",
   "execution_count": 46,
   "metadata": {
    "execution": {
     "iopub.execute_input": "2022-10-15T18:22:47.936080Z",
     "iopub.status.busy": "2022-10-15T18:22:47.935040Z",
     "iopub.status.idle": "2022-10-15T18:22:49.145899Z",
     "shell.execute_reply": "2022-10-15T18:22:49.144639Z",
     "shell.execute_reply.started": "2022-10-15T18:22:47.936042Z"
    }
   },
   "outputs": [
    {
     "name": "stderr",
     "output_type": "stream",
     "text": [
      "C:\\Users\\Izma Aziz\\anaconda3\\lib\\site-packages\\sklearn\\linear_model\\_logistic.py:444: ConvergenceWarning: lbfgs failed to converge (status=1):\n",
      "STOP: TOTAL NO. of ITERATIONS REACHED LIMIT.\n",
      "\n",
      "Increase the number of iterations (max_iter) or scale the data as shown in:\n",
      "    https://scikit-learn.org/stable/modules/preprocessing.html\n",
      "Please also refer to the documentation for alternative solver options:\n",
      "    https://scikit-learn.org/stable/modules/linear_model.html#logistic-regression\n",
      "  n_iter_i = _check_optimize_result(\n"
     ]
    },
    {
     "name": "stdout",
     "output_type": "stream",
     "text": [
      "Train Score using Logistic Regression:  69.05917345021916\n",
      "Test Score using Logistic Regression:  67.19874804381847\n",
      "Score using Decision Tree:  67.19874804381847\n",
      "Score using random Forest Classifier:  66.97965571205008\n"
     ]
    }
   ],
   "source": [
    "# Logistic Regression\n",
    "connection = LogisticRegression()\n",
    "connection.fit(X_train, y_train)\n",
    "y_pred = connection.predict(X_test)\n",
    "CO=connection.score(X_train, y_train)*100\n",
    "print('Train Score using Logistic Regression: ',CO)\n",
    "print('Test Score using Logistic Regression: ',connection.score(X_test, y_test)*100)\n",
    "\n",
    "\n",
    "# Decision Tree Classifier\n",
    "connectiontree = DecisionTreeClassifier(random_state=0)\n",
    "connectiontree.fit(X_train, y_train)\n",
    "y_pred = connectiontree.predict(X_test)\n",
    "print('Score using Decision Tree: ',accuracy_score(y_test, y_pred)*100)\n",
    "\n",
    "\n",
    "# Random Forest Classifier\n",
    "connectionforest = RandomForestClassifier(random_state=0)\n",
    "connectionforest.fit(X_train, y_train)\n",
    "y_pred = connectionforest.predict(X_test)\n",
    "print('Score using random Forest Classifier: ',accuracy_score(y_test, y_pred)*100)"
   ]
  },
  {
   "cell_type": "markdown",
   "metadata": {},
   "source": [
    "Logistic Regression gave the best score hence we will move forward with this model for prediction."
   ]
  },
  {
   "cell_type": "markdown",
   "metadata": {},
   "source": [
    "# **Meaning**"
   ]
  },
  {
   "cell_type": "markdown",
   "metadata": {},
   "source": [
    "Can meaning impact work life balance score? We have isolated the following attributes that we think might contribute to a healthy mind:\n",
    "* 'LIVE_VISION'\n",
    "* 'TIME_FOR_PASSION'\n"
   ]
  },
  {
   "cell_type": "code",
   "execution_count": 47,
   "metadata": {
    "execution": {
     "iopub.execute_input": "2022-10-15T18:22:49.148324Z",
     "iopub.status.busy": "2022-10-15T18:22:49.146997Z",
     "iopub.status.idle": "2022-10-15T18:22:49.909556Z",
     "shell.execute_reply": "2022-10-15T18:22:49.907700Z",
     "shell.execute_reply.started": "2022-10-15T18:22:49.148264Z"
    }
   },
   "outputs": [
    {
     "data": {
      "image/png": "[encoded data removed]",
      "text/plain": [
       "<Figure size 1152x360 with 2 Axes>"
      ]
     },
     "metadata": {
      "needs_background": "light"
     },
     "output_type": "display_data"
    }
   ],
   "source": [
    "# plotting the attributes individually against work life balance score to see their individual impacts\n",
    "f,ax = plt.subplots(1,2,figsize=(16,5))\n",
    "ax[0].set_title('WORK_LIFE_BALANCE_SCORE BY LIVE_VISION')\n",
    "ax[1].set_title('WORK_LIFE_BALANCE_SCORE BY TIME_FOR_PASSION')\n",
    "\n",
    "sns.pointplot(x = 'WORK_LIFE_BALANCE_SCORE', y = 'LIVE_VISION',  data=dataset, ax = ax[0])\n",
    "sns.pointplot(x = 'WORK_LIFE_BALANCE_SCORE', y = 'TIME_FOR_PASSION',  data=dataset, ax = ax[1])\n",
    "\n",
    "plt.show()"
   ]
  },
  {
   "cell_type": "code",
   "execution_count": 48,
   "metadata": {
    "execution": {
     "iopub.execute_input": "2022-10-15T18:22:49.913196Z",
     "iopub.status.busy": "2022-10-15T18:22:49.912813Z",
     "iopub.status.idle": "2022-10-15T18:22:49.921480Z",
     "shell.execute_reply": "2022-10-15T18:22:49.919444Z",
     "shell.execute_reply.started": "2022-10-15T18:22:49.913170Z"
    }
   },
   "outputs": [],
   "source": [
    "X = dataset[['LIVE_VISION', 'TIME_FOR_PASSION']]\n",
    "y = dataset['WORK_LIFE_BALANCE_SCORE']"
   ]
  },
  {
   "cell_type": "code",
   "execution_count": 49,
   "metadata": {
    "execution": {
     "iopub.execute_input": "2022-10-15T18:22:49.923334Z",
     "iopub.status.busy": "2022-10-15T18:22:49.922960Z",
     "iopub.status.idle": "2022-10-15T18:22:49.939496Z",
     "shell.execute_reply": "2022-10-15T18:22:49.937881Z",
     "shell.execute_reply.started": "2022-10-15T18:22:49.923304Z"
    }
   },
   "outputs": [],
   "source": [
    "X_train, X_test, y_train, y_test = train_test_split(X, y, test_size=0.2, random_state = 42)"
   ]
  },
  {
   "cell_type": "code",
   "execution_count": 50,
   "metadata": {
    "execution": {
     "iopub.execute_input": "2022-10-15T18:22:49.942359Z",
     "iopub.status.busy": "2022-10-15T18:22:49.941906Z",
     "iopub.status.idle": "2022-10-15T18:22:50.819683Z",
     "shell.execute_reply": "2022-10-15T18:22:50.818807Z",
     "shell.execute_reply.started": "2022-10-15T18:22:49.942317Z"
    }
   },
   "outputs": [
    {
     "name": "stdout",
     "output_type": "stream",
     "text": [
      "Train Score using Logistic Regression:  67.13368816530996\n",
      "Test Score using Logistic Regression:  67.0735524256651\n",
      "Score using Decision Tree:  66.57276995305165\n",
      "Score using random Forest Classifier:  66.7605633802817\n"
     ]
    }
   ],
   "source": [
    "# Logistic Regression\n",
    "meaning = LogisticRegression()\n",
    "meaning.fit(X_train, y_train)\n",
    "y_pred = meaning.predict(X_test)\n",
    "ME=meaning.score(X_train, y_train)*100\n",
    "print('Train Score using Logistic Regression: ',ME)\n",
    "print('Test Score using Logistic Regression: ',meaning.score(X_test, y_test)*100)\n",
    "\n",
    "\n",
    "# Decision Tree Classifier\n",
    "meaningtree = DecisionTreeClassifier(random_state=0)\n",
    "meaningtree.fit(X_train, y_train)\n",
    "y_pred = meaningtree.predict(X_test)\n",
    "print('Score using Decision Tree: ',accuracy_score(y_test, y_pred)*100)\n",
    "\n",
    "\n",
    "# Random Forest Classifier\n",
    "meaningforest = RandomForestClassifier(random_state=0)\n",
    "meaningforest.fit(X_train, y_train)\n",
    "y_pred = meaningforest.predict(X_test)\n",
    "print('Score using random Forest Classifier: ',accuracy_score(y_test, y_pred)*100)"
   ]
  },
  {
   "cell_type": "markdown",
   "metadata": {},
   "source": [
    "# **Complete Model**"
   ]
  },
  {
   "cell_type": "code",
   "execution_count": 51,
   "metadata": {
    "execution": {
     "iopub.execute_input": "2022-10-15T18:22:50.821220Z",
     "iopub.status.busy": "2022-10-15T18:22:50.820933Z",
     "iopub.status.idle": "2022-10-15T18:22:50.835252Z",
     "shell.execute_reply": "2022-10-15T18:22:50.833668Z",
     "shell.execute_reply.started": "2022-10-15T18:22:50.821193Z"
    }
   },
   "outputs": [],
   "source": [
    "X = dataset.drop(['WORK_LIFE_BALANCE_SCORE'], axis=1)\n",
    "y = dataset['WORK_LIFE_BALANCE_SCORE']\n",
    "\n",
    "X_train, X_test, y_train, y_test = train_test_split(X, y, test_size=0.2, random_state = 42)"
   ]
  },
  {
   "cell_type": "code",
   "execution_count": 52,
   "metadata": {
    "execution": {
     "iopub.execute_input": "2022-10-15T18:22:50.837689Z",
     "iopub.status.busy": "2022-10-15T18:22:50.837233Z",
     "iopub.status.idle": "2022-10-15T18:22:51.639303Z",
     "shell.execute_reply": "2022-10-15T18:22:51.635612Z",
     "shell.execute_reply.started": "2022-10-15T18:22:50.837663Z"
    }
   },
   "outputs": [
    {
     "name": "stdout",
     "output_type": "stream",
     "text": [
      "Train Score using Logistic Regression:  87.0929868503444\n",
      "Test Score using Logistic Regression:  85.88419405320813\n"
     ]
    },
    {
     "name": "stderr",
     "output_type": "stream",
     "text": [
      "C:\\Users\\Izma Aziz\\anaconda3\\lib\\site-packages\\sklearn\\linear_model\\_logistic.py:444: ConvergenceWarning: lbfgs failed to converge (status=1):\n",
      "STOP: TOTAL NO. of ITERATIONS REACHED LIMIT.\n",
      "\n",
      "Increase the number of iterations (max_iter) or scale the data as shown in:\n",
      "    https://scikit-learn.org/stable/modules/preprocessing.html\n",
      "Please also refer to the documentation for alternative solver options:\n",
      "    https://scikit-learn.org/stable/modules/linear_model.html#logistic-regression\n",
      "  n_iter_i = _check_optimize_result(\n"
     ]
    }
   ],
   "source": [
    "# Logistic Regression\n",
    "hlthylife = LogisticRegression()\n",
    "hlthylife.fit(X_train, y_train)\n",
    "y_pred = hlthylife.predict(X_test)\n",
    "HL=hlthylife.score(X_train, y_train)*100\n",
    "print('Train Score using Logistic Regression: ',HL)\n",
    "print('Test Score using Logistic Regression: ',hlthylife.score(X_test, y_test)*100)\n"
   ]
  },
  {
   "cell_type": "code",
   "execution_count": 53,
   "metadata": {
    "execution": {
     "iopub.execute_input": "2022-10-15T18:22:51.641066Z",
     "iopub.status.busy": "2022-10-15T18:22:51.640696Z",
     "iopub.status.idle": "2022-10-15T18:22:51.773993Z",
     "shell.execute_reply": "2022-10-15T18:22:51.772875Z",
     "shell.execute_reply.started": "2022-10-15T18:22:51.641034Z"
    }
   },
   "outputs": [
    {
     "name": "stdout",
     "output_type": "stream",
     "text": [
      "Score using Decision Tree:  72.7073552425665\n"
     ]
    }
   ],
   "source": [
    "# Decision Tree Classifier\n",
    "hlthylifetree = DecisionTreeClassifier(random_state=0)\n",
    "hlthylifetree.fit(X_train, y_train)\n",
    "y_pred =hlthylifetree.predict(X_test)\n",
    "print('Score using Decision Tree: ',accuracy_score(y_test, y_pred)*100)"
   ]
  },
  {
   "cell_type": "code",
   "execution_count": 54,
   "metadata": {
    "execution": {
     "iopub.execute_input": "2022-10-15T18:22:51.776084Z",
     "iopub.status.busy": "2022-10-15T18:22:51.775709Z",
     "iopub.status.idle": "2022-10-15T18:22:53.793517Z",
     "shell.execute_reply": "2022-10-15T18:22:53.791721Z",
     "shell.execute_reply.started": "2022-10-15T18:22:51.776058Z"
    }
   },
   "outputs": [
    {
     "name": "stdout",
     "output_type": "stream",
     "text": [
      "Score using random Forest Classifier:  83.59937402190923\n"
     ]
    }
   ],
   "source": [
    "# Random Forest Classifier\n",
    "hlthylifeforest = RandomForestClassifier(random_state=0)\n",
    "hlthylifeforest.fit(X_train, y_train)\n",
    "y_pred = hlthylifeforest.predict(X_test)\n",
    "print('Score using random Forest Classifier: ',accuracy_score(y_test, y_pred)*100)"
   ]
  },
  {
   "cell_type": "code",
   "execution_count": 55,
   "metadata": {
    "execution": {
     "iopub.execute_input": "2022-10-15T18:29:01.546647Z",
     "iopub.status.busy": "2022-10-15T18:29:01.546295Z",
     "iopub.status.idle": "2022-10-15T18:29:01.711266Z",
     "shell.execute_reply": "2022-10-15T18:29:01.710275Z",
     "shell.execute_reply.started": "2022-10-15T18:29:01.546620Z"
    }
   },
   "outputs": [
    {
     "data": {
      "text/plain": [
       "<function matplotlib.pyplot.show(close=None, block=None)>"
      ]
     },
     "execution_count": 55,
     "metadata": {},
     "output_type": "execute_result"
    },
    {
     "data": {
      "image/png": "[encoded data removed]",
      "text/plain": [
       "<Figure size 432x288 with 1 Axes>"
      ]
     },
     "metadata": {
      "needs_background": "light"
     },
     "output_type": "display_data"
    }
   ],
   "source": [
    "models=[HB,HM,EX,CO,ME]\n",
    "name=['Healthy Body ','  Healthy Mind','Expertise','Connection','Meaning']\n",
    "plt.bar(name,models,color='maroon')\n",
    "plt.xlabel(\"Factors\")\n",
    "plt.ylabel(\"Accuracy\")\n",
    "plt.title(\"Showing how much every factor affect the healthy work life balance\")\n",
    "plt.show"
   ]
  },
  {
   "cell_type": "code",
   "execution_count": 56,
   "metadata": {
    "execution": {
     "iopub.status.busy": "2022-10-15T18:22:53.816176Z",
     "iopub.status.idle": "2022-10-15T18:22:53.816565Z",
     "shell.execute_reply": "2022-10-15T18:22:53.816404Z",
     "shell.execute_reply.started": "2022-10-15T18:22:53.816386Z"
    }
   },
   "outputs": [],
   "source": [
    "# loading the model\n",
    "pickle.dump(hlthylife, open('hlthylife.pkl', 'wb'))"
   ]
  },
  {
   "cell_type": "code",
   "execution_count": 57,
   "metadata": {},
   "outputs": [],
   "source": [
    "# Loading model to compare the results\n",
    "model = pickle.load(open('hlthylife.pkl','rb'))"
   ]
  },
  {
   "cell_type": "code",
   "execution_count": 59,
   "metadata": {},
   "outputs": [
    {
     "name": "stdout",
     "output_type": "stream",
     "text": [
      "1\n"
     ]
    },
    {
     "name": "stderr",
     "output_type": "stream",
     "text": [
      "C:\\Users\\Izma Aziz\\anaconda3\\lib\\site-packages\\sklearn\\base.py:450: UserWarning: X does not have valid feature names, but LogisticRegression was fitted with feature names\n",
      "  warnings.warn(\n"
     ]
    }
   ],
   "source": [
    "final_features=[5,4,0,2,10,10,5,1,7,4,1,5,8,5,2,2,1,8,4,1,1]\n",
    "prediction = model.predict([final_features])\n",
    "output = round(prediction[0])\n",
    "print(output)\n"
   ]
  },
  {
   "cell_type": "code",
   "execution_count": null,
   "metadata": {},
   "outputs": [],
   "source": []
  }
 ],
 "metadata": {
  "kernelspec": {
   "display_name": "Python 3 (ipykernel)",
   "language": "python",
   "name": "python3"
  },
  "language_info": {
   "codemirror_mode": {
    "name": "ipython",
    "version": 3
   },
   "file_extension": ".py",
   "mimetype": "text/x-python",
   "name": "python",
   "nbconvert_exporter": "python",
   "pygments_lexer": "ipython3",
   "version": "3.9.12"
  }
 },
 "nbformat": 4,
 "nbformat_minor": 4
}
